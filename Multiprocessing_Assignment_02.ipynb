{
  "nbformat": 4,
  "nbformat_minor": 0,
  "metadata": {
    "colab": {
      "provenance": []
    },
    "kernelspec": {
      "name": "python3",
      "display_name": "Python 3"
    },
    "language_info": {
      "name": "python"
    }
  },
  "cells": [
    {
      "cell_type": "markdown",
      "source": [
        "**Q1. What is multiprocessing in python? Why is it useful?**"
      ],
      "metadata": {
        "id": "wo37LkeXL3Xu"
      }
    },
    {
      "cell_type": "markdown",
      "source": [
        "**Ans:**\n",
        "\n",
        "Multiprocessing is a technique in Python that allows multiple processes to run simultaneously by utilizing multiple CPU cores. It is used to execute tasks in parallel, improving performance for CPU-intensive operations.\n",
        "\n",
        "Python provides the multiprocessing module to create and manage multiple processes.\n",
        "\n",
        "**Why is Multiprocessing Useful?**\n",
        "\n",
        "1.Bypasses the Global Interpreter Lock (GIL) → Unlike threading, multiprocessing runs multiple processes independently, each with its own memory space.\n",
        "\n",
        "2. Efficient CPU Utilization → It can take advantage of multiple CPU cores, making it ideal for CPU-bound tasks like mathematical computations.\n",
        "\n",
        "3. True Parallel Execution → Each process runs independently, unlike multithreading where tasks share the same memory space.\n",
        "\n",
        "4. Faster Execution for CPU-Intensive Tasks → Suitable for tasks like image processing, data analysis, machine learning, etc."
      ],
      "metadata": {
        "id": "Mvb3iMsoL-9Q"
      }
    },
    {
      "cell_type": "code",
      "source": [],
      "metadata": {
        "id": "JgdDyfqqMAZQ"
      },
      "execution_count": null,
      "outputs": []
    },
    {
      "cell_type": "markdown",
      "source": [
        "**Q2. What are the differences between multiprocessing and multithreading?**"
      ],
      "metadata": {
        "id": "tzf__mCCMVd1"
      }
    },
    {
      "cell_type": "markdown",
      "source": [
        "**What is Multiprocessing?**\n",
        "\n",
        "Multiprocessing allows a program to create multiple processes, each running independently. It is used to take advantage of multiple CPU cores and bypass the Global Interpreter Lock (GIL).\n",
        "\n",
        "Best for: CPU-bound tasks (heavy computations, data processing, simulations).\n",
        " Module Used: multiprocessing\n",
        "\n",
        "** What is Multithreading?**\n",
        "\n",
        "Multithreading allows multiple threads to run within the same process, sharing memory. However, Python's GIL (Global Interpreter Lock) prevents true parallel execution.\n",
        "\n",
        "Best for: I/O-bound tasks (web scraping, file handling, database queries).\n",
        "Module Used: threading\n"
      ],
      "metadata": {
        "id": "bUQoEWhqMzn0"
      }
    },
    {
      "cell_type": "code",
      "source": [],
      "metadata": {
        "id": "Z_gEPrjsNMsO"
      },
      "execution_count": null,
      "outputs": []
    },
    {
      "cell_type": "markdown",
      "source": [
        "**Q3. Write a python code to create a process using the multiprocessing module.**"
      ],
      "metadata": {
        "id": "D9PYumOCNNYE"
      }
    },
    {
      "cell_type": "code",
      "source": [
        "import multiprocessing\n",
        "\n",
        "def print_hello():\n",
        "    print(\"Hello from the child process!\")\n",
        "\n",
        "if __name__ == \"__main__\":\n",
        "    # Creating a Process\n",
        "    process = multiprocessing.Process(target=print_hello)\n",
        "\n",
        "    # Starting the Process\n",
        "    process.start()\n",
        "\n",
        "    # Waiting for the Process to Finish\n",
        "    process.join()\n",
        "\n",
        "    print(\"Main process execution completed.\")"
      ],
      "metadata": {
        "colab": {
          "base_uri": "https://localhost:8080/"
        },
        "id": "bh_-XRS2NSIr",
        "outputId": "5f996915-838c-4c37-ee6d-e9a770b01b3a"
      },
      "execution_count": 1,
      "outputs": [
        {
          "output_type": "stream",
          "name": "stdout",
          "text": [
            "Hello from the child process!\n",
            "Main process execution completed.\n"
          ]
        }
      ]
    },
    {
      "cell_type": "code",
      "source": [],
      "metadata": {
        "id": "a519ZZEXNhXR"
      },
      "execution_count": null,
      "outputs": []
    },
    {
      "cell_type": "markdown",
      "source": [
        "**Q4. What is a multiprocessing pool in python? Why is it used?**"
      ],
      "metadata": {
        "id": "OxCAi4SZNntG"
      }
    },
    {
      "cell_type": "markdown",
      "source": [
        "**Ans:**\n",
        "\n",
        "A multiprocessing pool is a feature of the multiprocessing module that allows you to execute multiple tasks in parallel using a pool of worker processes.\n",
        "\n",
        "**Why Use a Multiprocessing Pool?**\n",
        "\n",
        "1. **Efficient Task Distribution** → It automatically assigns tasks to available CPU cores.\n",
        "2. **Parallel Execution** → Runs tasks in parallel, improving performance.\n",
        "3. **Simplifies Code** → No need to manually create and manage processes."
      ],
      "metadata": {
        "id": "DskwhWx6Nwzx"
      }
    },
    {
      "cell_type": "code",
      "source": [],
      "metadata": {
        "id": "EEz4miS4OhfQ"
      },
      "execution_count": null,
      "outputs": []
    },
    {
      "cell_type": "markdown",
      "source": [
        "**Q5. How can we create a pool of worker processes in python using the multiprocessing module?**"
      ],
      "metadata": {
        "id": "3GQOWyKdOaac"
      }
    },
    {
      "cell_type": "code",
      "source": [],
      "metadata": {
        "id": "JLgmLuEkOBhi"
      },
      "execution_count": null,
      "outputs": []
    },
    {
      "cell_type": "markdown",
      "source": [
        "**Ans:**\n",
        "\n",
        "**Creating a Pool of Worker Processes in Python using multiprocessing**\n",
        "\n",
        "A Pool of worker processes in Python allows us to execute multiple tasks in parallel using the multiprocessing.Pool class.\n",
        "\n",
        "**Steps to Create a Pool of Worker Processes**\n",
        "1. Import multiprocessing\n",
        "\n",
        "2. Define a function that will be executed by worker processes.\n",
        "\n",
        "3. Create a pool using multiprocessing.Pool(processes=n), where n is the number of worker processes.\n",
        "\n",
        "4. Use pool methods like map(), apply(), or starmap() to distribute tasks among processes.\n",
        "\n",
        "5. Close the pool after execution.\n"
      ],
      "metadata": {
        "id": "1ajFafqlOidw"
      }
    },
    {
      "cell_type": "code",
      "source": [
        "# Example\n",
        "# Creating a Pool to Compute Squares of Numbers\n",
        "import multiprocessing\n",
        "\n",
        "def square(n):\n",
        "    return n * n\n",
        "\n",
        "if __name__ == \"__main__\":\n",
        "    numbers = [1, 2, 3, 4, 5]\n",
        "\n",
        "    # Creating a pool of 3 worker processes\n",
        "    with multiprocessing.Pool(processes=3) as pool:\n",
        "        results = pool.map(square, numbers)  # Applies 'square' function to each number in the list\n",
        "\n",
        "    print(\"Squared Numbers:\", results)"
      ],
      "metadata": {
        "colab": {
          "base_uri": "https://localhost:8080/"
        },
        "id": "alAx4MHBO6DG",
        "outputId": "2d7a7bd5-10d5-4dcf-bbaa-e8ff4064b15a"
      },
      "execution_count": 2,
      "outputs": [
        {
          "output_type": "stream",
          "name": "stdout",
          "text": [
            "Squared Numbers: [1, 4, 9, 16, 25]\n"
          ]
        }
      ]
    },
    {
      "cell_type": "code",
      "source": [],
      "metadata": {
        "id": "JOIHY127PC3T"
      },
      "execution_count": null,
      "outputs": []
    },
    {
      "cell_type": "markdown",
      "source": [
        "**Q6. Write a python program to create 4 processes, each process should print a different number using the multiprocessing module in python.**"
      ],
      "metadata": {
        "id": "ofxHthNlPIgI"
      }
    },
    {
      "cell_type": "code",
      "source": [
        "# Python Program to Create 4 Processes\n",
        "import multiprocessing\n",
        "\n",
        "def print_number(n):\n",
        "    \"\"\"Function that prints a number.\"\"\"\n",
        "    print(f\"Process {multiprocessing.current_process().name} prints: {n}\")\n",
        "\n",
        "if __name__ == \"__main__\":\n",
        "    # Creating 4 processes\n",
        "    processes = []\n",
        "    numbers = [10, 20, 30, 40]  # Different numbers for each process\n",
        "\n",
        "    for i in range(4):\n",
        "        process = multiprocessing.Process(target=print_number, args=(numbers[i],))\n",
        "        processes.append(process)\n",
        "        process.start()  # Start the process\n",
        "\n",
        "    # Wait for all processes to finish\n",
        "    for process in processes:\n",
        "        process.join()\n",
        "\n",
        "    print(\"All processes completed.\")\n",
        "\n",
        "\n"
      ],
      "metadata": {
        "colab": {
          "base_uri": "https://localhost:8080/"
        },
        "id": "YWyvlEnsPLON",
        "outputId": "1e5a14ea-1b9e-4ce1-de8d-c1d145bd7c4e"
      },
      "execution_count": 3,
      "outputs": [
        {
          "output_type": "stream",
          "name": "stdout",
          "text": [
            "Process Process-5 prints: 10Process Process-6 prints: 20\n",
            "Process Process-7 prints: 30Process Process-8 prints: 40\n",
            "\n",
            "\n",
            "All processes completed.\n"
          ]
        }
      ]
    }
  ]
}