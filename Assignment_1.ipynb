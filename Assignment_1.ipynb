{
  "nbformat": 4,
  "nbformat_minor": 0,
  "metadata": {
    "colab": {
      "provenance": []
    },
    "kernelspec": {
      "name": "python3",
      "display_name": "Python 3"
    },
    "language_info": {
      "name": "python"
    }
  },
  "cells": [
    {
      "cell_type": "markdown",
      "source": [
        "# Q1. Create one variable containing following type of data:\n",
        "(i) string\n",
        "(ii) list\n",
        "(iii) float\n",
        "(iv) tuple"
      ],
      "metadata": {
        "id": "0bghsewrNNSK"
      }
    },
    {
      "cell_type": "code",
      "source": [
        "# (i) String\n",
        "my_string = \"Hello, world!\"\n",
        "\n",
        "# (ii) List\n",
        "my_list = [1, 2, 3, 4, 5]\n",
        "\n",
        "# (iii) Float\n",
        "my_float = 3.14\n",
        "\n",
        "# (iv) Tuple\n",
        "my_tuple = (1, 2, 3, 4, 5)"
      ],
      "metadata": {
        "id": "o9Nv51jnNPYt"
      },
      "execution_count": 1,
      "outputs": []
    },
    {
      "cell_type": "markdown",
      "source": [
        "# Q2. Given are some following variables containing data:\n",
        "(i) var1 = ‘ ‘\n",
        "(ii) var2 = ‘[ DS , ML , Python]’\n",
        "(iii) var3 = [ ‘DS’ , ’ML’ , ‘Python’ ]\n",
        "(iv) var4 = 1.\n",
        "What will be the data type of the above given variable."
      ],
      "metadata": {
        "id": "Zm4_8PvrN6LX"
      }
    },
    {
      "cell_type": "markdown",
      "source": [
        "\n",
        "Here are the data types for each of the given variables:\n",
        "\n",
        "(i) var1 = ‘ ‘:\n",
        "Data type: String\n",
        "\n",
        "(ii) var2 = ‘[ DS , ML , Python]’:\n",
        "Data type: String\n",
        "\n",
        "(iii) var3 = [ ‘DS’ , ’ML’ , ‘Python’ ]:\n",
        "Data type: List\n",
        "\n",
        "(iv) var4 = 1.:\n",
        "Data type: Float"
      ],
      "metadata": {
        "id": "MvTDjEO4On1e"
      }
    },
    {
      "cell_type": "markdown",
      "source": [
        "# Q3. Explain the use of the following operators using an example:\n",
        "(i) /\n",
        "(ii) %\n",
        "(iii) //\n",
        "(iv) **"
      ],
      "metadata": {
        "id": "OMYttB0LPRNx"
      }
    },
    {
      "cell_type": "code",
      "source": [
        "#(i) / (Division Operator):\n",
        "\n",
        "#The division operator (/) is used to perform division between two numbers.\n",
        "#It returns the quotient of the division.\n",
        "# Example:\n",
        "a = 10 / 3\n",
        "print(a)  # output is 3.3333333333333335"
      ],
      "metadata": {
        "colab": {
          "base_uri": "https://localhost:8080/"
        },
        "id": "QJBdGGQyORJM",
        "outputId": "b4b797b8-7e9b-447d-f8d0-338fa9e2a641"
      },
      "execution_count": 8,
      "outputs": [
        {
          "output_type": "stream",
          "name": "stdout",
          "text": [
            "3.3333333333333335\n"
          ]
        }
      ]
    },
    {
      "cell_type": "code",
      "source": [
        "# (ii) % (Modulus Operator):\n",
        "\n",
        "# The modulus operator (%) returns the remainder of the division operation.\n",
        "# It's often used to check if a number is divisible by another number or to extract digits from a number.\n",
        "#Example:\n",
        "# Modulus\n",
        "a = 10 % 3\n",
        "print(a)  # Output: 1 (because 10 divided by 3 gives a quotient of 3 and a remainder of 1)\n"
      ],
      "metadata": {
        "colab": {
          "base_uri": "https://localhost:8080/"
        },
        "id": "OjhylIsiPvFQ",
        "outputId": "c177b607-ff90-4910-fbd1-52854974589c"
      },
      "execution_count": 10,
      "outputs": [
        {
          "output_type": "stream",
          "name": "stdout",
          "text": [
            "1\n"
          ]
        }
      ]
    },
    {
      "cell_type": "code",
      "source": [
        "# (iii) // (Floor Division Operator):\n",
        "\n",
        "# The floor division operator (//) performs division and returns the integer part of the result (rounds down to the nearest integer).\n",
        "# It's useful when you want to get the quotient as an integer without the fractional part.\n",
        "# Example:\n",
        "a =10//3\n",
        "print (a) # Output 3 (because 10 divided by 3 gives 3.3333... but // operator rounds down to 3)"
      ],
      "metadata": {
        "colab": {
          "base_uri": "https://localhost:8080/"
        },
        "id": "7WaGiG55QbxG",
        "outputId": "31382298-12d2-4289-973d-ea945a2b9257"
      },
      "execution_count": 11,
      "outputs": [
        {
          "output_type": "stream",
          "name": "stdout",
          "text": [
            "3\n"
          ]
        }
      ]
    },
    {
      "cell_type": "code",
      "source": [
        "# (iv) ** (Exponentiation Operator):\n",
        "\n",
        "# The exponentiation operator (**) raises the left operand to the power of the right operand.\n",
        "# It's used to perform exponentiation operations.\n",
        "# Example:\n",
        "a=2**3\n",
        "print (a) # Output: 8 (because 2 raised to the power of 3 equals 8)"
      ],
      "metadata": {
        "colab": {
          "base_uri": "https://localhost:8080/"
        },
        "id": "ZnH7VYL2RgR4",
        "outputId": "395430de-4023-4698-99b3-001fc92aae92"
      },
      "execution_count": 12,
      "outputs": [
        {
          "output_type": "stream",
          "name": "stdout",
          "text": [
            "8\n"
          ]
        }
      ]
    },
    {
      "cell_type": "markdown",
      "source": [
        "# Q4. Create a list of length 10 of your choice containing multiple types of data. Using for loop print the element and its data type."
      ],
      "metadata": {
        "id": "VFC1ZNs7SK-_"
      }
    },
    {
      "cell_type": "code",
      "source": [
        "l=[1,2,3,4,5,6,7,8,'pk',3.43]\n",
        "for i in l :\n",
        "  print (i, '_',type(i))"
      ],
      "metadata": {
        "colab": {
          "base_uri": "https://localhost:8080/"
        },
        "id": "SqveQ0JfR-Il",
        "outputId": "c51bcd99-489b-4b72-f861-64d9ddfa912b"
      },
      "execution_count": 20,
      "outputs": [
        {
          "output_type": "stream",
          "name": "stdout",
          "text": [
            "1 _ <class 'int'>\n",
            "2 _ <class 'int'>\n",
            "3 _ <class 'int'>\n",
            "4 _ <class 'int'>\n",
            "5 _ <class 'int'>\n",
            "6 _ <class 'int'>\n",
            "7 _ <class 'int'>\n",
            "8 _ <class 'int'>\n",
            "pk _ <class 'str'>\n",
            "3.43 _ <class 'float'>\n"
          ]
        }
      ]
    },
    {
      "cell_type": "code",
      "source": [],
      "metadata": {
        "id": "MJAjX_uCUDWD"
      },
      "execution_count": null,
      "outputs": []
    },
    {
      "cell_type": "markdown",
      "source": [
        "# Q5. Using a while loop, verify if the number A is purely divisible by number B and if so then how many times it can be divisible."
      ],
      "metadata": {
        "id": "SncC2aqqUF_L"
      }
    },
    {
      "cell_type": "code",
      "source": [
        "from binascii import b2a_qp\n",
        "a=10\n",
        "b=2\n",
        "count=0\n",
        "while a%b==0 :\n",
        "  a /=b\n",
        "  count +=1\n",
        "if count > 0:\n",
        "    print(f\"{count} times divisible by {b} with quotient {a}\")\n",
        "else:\n",
        "    print(f\"{a} is not divisible by {b}\")"
      ],
      "metadata": {
        "colab": {
          "base_uri": "https://localhost:8080/"
        },
        "id": "e-RaZybmYvQw",
        "outputId": "241c1692-7483-482b-a9ce-104222add225"
      },
      "execution_count": 26,
      "outputs": [
        {
          "output_type": "stream",
          "name": "stdout",
          "text": [
            "1 times divisible by 2 with quotient 5.0\n"
          ]
        }
      ]
    },
    {
      "cell_type": "code",
      "source": [],
      "metadata": {
        "id": "pQMXNqltaGCY"
      },
      "execution_count": null,
      "outputs": []
    },
    {
      "cell_type": "markdown",
      "source": [
        "# Q6. Create a list containing 25 int type data. Using for loop and if-else condition print if the element is divisible by 3 or not."
      ],
      "metadata": {
        "id": "-_3ujNquaWHa"
      }
    },
    {
      "cell_type": "code",
      "source": [
        "l=[1,2,3,4,5,6,7,8,9,10,11,12,13,14,15,16,17,18,19,20,21,22,23,24,25]\n",
        "for i in l :\n",
        "  if i % 3== 0:\n",
        "    print(f'{i} is divisible by 3')\n",
        "  else :\n",
        "    print(f'{i} is not divisible by 3')\n",
        "\n"
      ],
      "metadata": {
        "colab": {
          "base_uri": "https://localhost:8080/"
        },
        "id": "kVH5-GzbaZMX",
        "outputId": "f96e730c-2c2b-4a2b-954d-daea4e6bea6e"
      },
      "execution_count": 33,
      "outputs": [
        {
          "output_type": "stream",
          "name": "stdout",
          "text": [
            "1 is not divisible by 3\n",
            "2 is not divisible by 3\n",
            "3 is divisible by 3\n",
            "4 is not divisible by 3\n",
            "5 is not divisible by 3\n",
            "6 is divisible by 3\n",
            "7 is not divisible by 3\n",
            "8 is not divisible by 3\n",
            "9 is divisible by 3\n",
            "10 is not divisible by 3\n",
            "11 is not divisible by 3\n",
            "12 is divisible by 3\n",
            "13 is not divisible by 3\n",
            "14 is not divisible by 3\n",
            "15 is divisible by 3\n",
            "16 is not divisible by 3\n",
            "17 is not divisible by 3\n",
            "18 is divisible by 3\n",
            "19 is not divisible by 3\n",
            "20 is not divisible by 3\n",
            "21 is divisible by 3\n",
            "22 is not divisible by 3\n",
            "23 is not divisible by 3\n",
            "24 is divisible by 3\n",
            "25 is not divisible by 3\n"
          ]
        }
      ]
    },
    {
      "cell_type": "code",
      "source": [],
      "metadata": {
        "id": "BJELXecxbapK"
      },
      "execution_count": null,
      "outputs": []
    },
    {
      "cell_type": "markdown",
      "source": [
        "## Q7. What do you understand about mutable and immutable data types? Give examples for both showing this property."
      ],
      "metadata": {
        "id": "8RAv1qMZcbWp"
      }
    },
    {
      "cell_type": "code",
      "source": [
        "#Mutable and immutable data types refer to whether the value of an object can be changed after it has been created.\n",
        "# Mutable Data Types:\n",
        "\n",
        "# Mutable data types are those whose values can be changed after creation.\n",
        "# This means you can modify the contents of an object without changing its identity.\n",
        "# Examples of mutable data types in Python include lists, dictionaries, and sets.\n",
        "# Example :-\n",
        "l=[1,3,5,4,'pk'] # Creating a list\n",
        "print(l)\n",
        "\n",
        "l[1]=20 # modifying the list\n",
        "print(l) # After modifying the list\n",
        "\n",
        "# Immutable Data Types:\n",
        "\n",
        "# Immutable data types are those whose values cannot be changed after creation.\n",
        "# This means once an object is created, you cannot modify its contents. If you need to change the value, you must create a new object.\n",
        "# Examples of immutable data types in Python include integers, floats, strings, tuples, and frozensets.\n",
        "# Example :-\n",
        "s= 'Prashant'   # creating a str var\n",
        "print(s)\n",
        "\n",
        "# Trying to modify str var (this will raise an error)\n",
        "s[3] = 'k'\n",
        "\n",
        "\n"
      ],
      "metadata": {
        "colab": {
          "base_uri": "https://localhost:8080/",
          "height": 263
        },
        "id": "hUARWU4AcglG",
        "outputId": "5d0eba90-46ad-4bbf-9b8c-34a285072e67"
      },
      "execution_count": 38,
      "outputs": [
        {
          "output_type": "stream",
          "name": "stdout",
          "text": [
            "[1, 3, 5, 4, 'pk']\n",
            "[1, 20, 5, 4, 'pk']\n",
            "Prashant\n"
          ]
        },
        {
          "output_type": "error",
          "ename": "TypeError",
          "evalue": "'str' object does not support item assignment",
          "traceback": [
            "\u001b[0;31m---------------------------------------------------------------------------\u001b[0m",
            "\u001b[0;31mTypeError\u001b[0m                                 Traceback (most recent call last)",
            "\u001b[0;32m<ipython-input-38-5245241eba35>\u001b[0m in \u001b[0;36m<cell line: 24>\u001b[0;34m()\u001b[0m\n\u001b[1;32m     22\u001b[0m \u001b[0;34m\u001b[0m\u001b[0m\n\u001b[1;32m     23\u001b[0m \u001b[0;31m# Trying to modify str var (this will raise an error)\u001b[0m\u001b[0;34m\u001b[0m\u001b[0;34m\u001b[0m\u001b[0m\n\u001b[0;32m---> 24\u001b[0;31m \u001b[0ms\u001b[0m\u001b[0;34m[\u001b[0m\u001b[0;36m3\u001b[0m\u001b[0;34m]\u001b[0m \u001b[0;34m=\u001b[0m \u001b[0;34m'k'\u001b[0m\u001b[0;34m\u001b[0m\u001b[0;34m\u001b[0m\u001b[0m\n\u001b[0m\u001b[1;32m     25\u001b[0m \u001b[0;34m\u001b[0m\u001b[0m\n\u001b[1;32m     26\u001b[0m \u001b[0;34m\u001b[0m\u001b[0m\n",
            "\u001b[0;31mTypeError\u001b[0m: 'str' object does not support item assignment"
          ]
        }
      ]
    },
    {
      "cell_type": "code",
      "source": [],
      "metadata": {
        "id": "pH10viOHfiF-"
      },
      "execution_count": null,
      "outputs": []
    }
  ]
}