{
  "nbformat": 4,
  "nbformat_minor": 0,
  "metadata": {
    "colab": {
      "provenance": []
    },
    "kernelspec": {
      "name": "python3",
      "display_name": "Python 3"
    },
    "language_info": {
      "name": "python"
    }
  },
  "cells": [
    {
      "cell_type": "markdown",
      "source": [
        "Q1. What is an Exception in python? Write the difference between Exceptions and Syntax errors."
      ],
      "metadata": {
        "id": "VY7ixBCQ5WA_"
      }
    },
    {
      "cell_type": "markdown",
      "source": [
        "**Ans**.\n",
        "An exception is an error that occurs during the execution of a program. Unlike syntax errors, exceptions do not prevent the program from running initially but cause it to stop if not handled properly.\n",
        "\n",
        "**Difference Between Exceptions and Syntax Errors**\n",
        "\n",
        "**Exception**\n",
        "1. During program execution (runtime)\n",
        "2. Due to invalid operations (e.g., division by zero, file not found)\n",
        "3. Can be handled using try-except\n",
        "\n",
        "**Syntax Error**\n",
        "1. Before execution (at compile-time)\n",
        "2. Due to incorrect syntax (e.g., missing colons, incorrect indentation)\n",
        "3. Cannot be handled, needs to be fixed"
      ],
      "metadata": {
        "id": "SmQKykLV5k4P"
      }
    },
    {
      "cell_type": "code",
      "source": [
        "# Example of an Exception\n",
        "try:\n",
        "    x = 5 / 0  # This will cause a ZeroDivisionError\n",
        "except ZeroDivisionError:\n",
        "    print(\"You cannot divide by zero!\")"
      ],
      "metadata": {
        "colab": {
          "base_uri": "https://localhost:8080/"
        },
        "id": "ooWGkg5L5W3X",
        "outputId": "d3373dc7-b845-477d-9e6b-d2620ff7de98"
      },
      "execution_count": null,
      "outputs": [
        {
          "output_type": "stream",
          "name": "stdout",
          "text": [
            "You cannot divide by zero!\n"
          ]
        }
      ]
    },
    {
      "cell_type": "code",
      "source": [
        "# Example of a Syntax Error\n",
        "\n",
        "print(\"Hello World\"  # Missing closing parenthesis\n",
        "\n"
      ],
      "metadata": {
        "colab": {
          "base_uri": "https://localhost:8080/",
          "height": 106
        },
        "id": "vlEjSeK06YkQ",
        "outputId": "f3f8fe96-d58b-400d-cc82-8e3da4f507cd"
      },
      "execution_count": null,
      "outputs": [
        {
          "output_type": "error",
          "ename": "SyntaxError",
          "evalue": "incomplete input (<ipython-input-2-afe2cf5420b6>, line 4)",
          "traceback": [
            "\u001b[0;36m  File \u001b[0;32m\"<ipython-input-2-afe2cf5420b6>\"\u001b[0;36m, line \u001b[0;32m4\u001b[0m\n\u001b[0;31m    \u001b[0m\n\u001b[0m    ^\u001b[0m\n\u001b[0;31mSyntaxError\u001b[0m\u001b[0;31m:\u001b[0m incomplete input\n"
          ]
        }
      ]
    },
    {
      "cell_type": "code",
      "source": [],
      "metadata": {
        "id": "tn4sXNJg6e96"
      },
      "execution_count": null,
      "outputs": []
    },
    {
      "cell_type": "markdown",
      "source": [
        "Q2. What happens when an exception is not handled? Explain with an example."
      ],
      "metadata": {
        "id": "np0isxWk6fz6"
      }
    },
    {
      "cell_type": "markdown",
      "source": [
        "**Ans**.\n",
        "If an exception is not handled, the program immediately stops execution and throws an error message (traceback). This is called an unhandled exception, which disrupts the normal flow of the program."
      ],
      "metadata": {
        "id": "u2uD7-vV6_1e"
      }
    },
    {
      "cell_type": "code",
      "source": [
        "# Example of an Unhandled Exception\n",
        "\n",
        "x = 10 / 0  # ZeroDivisionError: division by zero\n",
        "print(\"This line will not execute\")\n",
        "\n",
        "\n"
      ],
      "metadata": {
        "colab": {
          "base_uri": "https://localhost:8080/",
          "height": 211
        },
        "id": "Z4ByXoJ97Eah",
        "outputId": "b23da77b-e34c-407c-fac8-62f8c6ddda4a"
      },
      "execution_count": null,
      "outputs": [
        {
          "output_type": "error",
          "ename": "ZeroDivisionError",
          "evalue": "division by zero",
          "traceback": [
            "\u001b[0;31m---------------------------------------------------------------------------\u001b[0m",
            "\u001b[0;31mZeroDivisionError\u001b[0m                         Traceback (most recent call last)",
            "\u001b[0;32m<ipython-input-3-52a84573910d>\u001b[0m in \u001b[0;36m<cell line: 0>\u001b[0;34m()\u001b[0m\n\u001b[1;32m      1\u001b[0m \u001b[0;31m# Example of an Unhandled Exception\u001b[0m\u001b[0;34m\u001b[0m\u001b[0;34m\u001b[0m\u001b[0m\n\u001b[1;32m      2\u001b[0m \u001b[0;34m\u001b[0m\u001b[0m\n\u001b[0;32m----> 3\u001b[0;31m \u001b[0mx\u001b[0m \u001b[0;34m=\u001b[0m \u001b[0;36m10\u001b[0m \u001b[0;34m/\u001b[0m \u001b[0;36m0\u001b[0m  \u001b[0;31m# ZeroDivisionError: division by zero\u001b[0m\u001b[0;34m\u001b[0m\u001b[0;34m\u001b[0m\u001b[0m\n\u001b[0m\u001b[1;32m      4\u001b[0m \u001b[0mprint\u001b[0m\u001b[0;34m(\u001b[0m\u001b[0;34m\"This line will not execute\"\u001b[0m\u001b[0;34m)\u001b[0m\u001b[0;34m\u001b[0m\u001b[0;34m\u001b[0m\u001b[0m\n\u001b[1;32m      5\u001b[0m \u001b[0;34m\u001b[0m\u001b[0m\n",
            "\u001b[0;31mZeroDivisionError\u001b[0m: division by zero"
          ]
        }
      ]
    },
    {
      "cell_type": "code",
      "source": [
        "# Handling the Exception to Prevent Program Crash\n",
        "\n",
        "try:\n",
        "    x = 10 / 0  # This will cause an exception\n",
        "except ZeroDivisionError:\n",
        "    print(\"Error: You cannot divide by zero!\")\n",
        "\n",
        "print(\"This line will execute\")  # Now the program continues\n"
      ],
      "metadata": {
        "colab": {
          "base_uri": "https://localhost:8080/"
        },
        "id": "PQkfUbCp7YB6",
        "outputId": "9ddaec4e-65eb-41cc-efb3-400603515590"
      },
      "execution_count": null,
      "outputs": [
        {
          "output_type": "stream",
          "name": "stdout",
          "text": [
            "Error: You cannot divide by zero!\n",
            "This line will execute\n"
          ]
        }
      ]
    },
    {
      "cell_type": "code",
      "source": [],
      "metadata": {
        "id": "nlmBYjtq7cLy"
      },
      "execution_count": null,
      "outputs": []
    },
    {
      "cell_type": "markdown",
      "source": [
        "**Q3. Which Python statements are used to catch and handle exceptions? Explain with an example.**"
      ],
      "metadata": {
        "id": "TXyR6cJ87ikY"
      }
    },
    {
      "cell_type": "markdown",
      "source": [
        "Python provides the following statements to catch and handle exceptions:\n",
        "\n",
        "1. try - Defines a block of code where an exception might occur.\n",
        "2. except - Catches and handles the exception.\n",
        "3. else (optional) - Runs if no exception occurs.\n",
        "4. finally (optional) - Runs always, whether an exception occurs or not."
      ],
      "metadata": {
        "id": "kXy4e6SV7xQ4"
      }
    },
    {
      "cell_type": "code",
      "source": [
        "# Basic Try-Except Example\n",
        "\n",
        "try:\n",
        "    x = 10 / 0  # This will raise ZeroDivisionError\n",
        "except ZeroDivisionError:\n",
        "    print(\"Cannot divide by zero!\")"
      ],
      "metadata": {
        "colab": {
          "base_uri": "https://localhost:8080/"
        },
        "id": "A_hq8Szj7-u1",
        "outputId": "789e2c33-3255-4a33-f802-e5e3ccc36f2f"
      },
      "execution_count": null,
      "outputs": [
        {
          "output_type": "stream",
          "name": "stdout",
          "text": [
            "Cannot divide by zero!\n"
          ]
        }
      ]
    },
    {
      "cell_type": "code",
      "source": [
        "# Handling Multiple Exceptions\n",
        "\n",
        "try:\n",
        "    num = int(input(\"Enter a number: \"))  # Raises ValueError if input is not an integer\n",
        "    result = 10 / num  # Raises ZeroDivisionError if input is 0\n",
        "    print(\"Result:\", result)\n",
        "except ValueError:\n",
        "    print(\"Invalid input! Please enter a number.\")\n",
        "except ZeroDivisionError:\n",
        "    print(\"Error: Cannot divide by zero!\")"
      ],
      "metadata": {
        "colab": {
          "base_uri": "https://localhost:8080/"
        },
        "id": "5xRcaujg9Pnh",
        "outputId": "434f0e67-1337-4b30-ce48-311536e78e28"
      },
      "execution_count": null,
      "outputs": [
        {
          "output_type": "stream",
          "name": "stdout",
          "text": [
            "Enter a number: a\n",
            "Invalid input! Please enter a number.\n"
          ]
        }
      ]
    },
    {
      "cell_type": "code",
      "source": [
        "# Using else with try-except\n",
        "\n",
        "try:\n",
        "    num = int(input(\"Enter a number: \"))\n",
        "    result = 100 / num\n",
        "except ValueError:\n",
        "    print(\"Please enter a valid number!\")\n",
        "except ZeroDivisionError:\n",
        "    print(\"Cannot divide by zero!\")\n",
        "else:\n",
        "    print(\"Success! The result is:\", result)  # Runs if no exception occurs"
      ],
      "metadata": {
        "colab": {
          "base_uri": "https://localhost:8080/"
        },
        "id": "tRfOpVj69VGl",
        "outputId": "efeac5ab-a25b-4b91-d9bd-0895a61f0e4c"
      },
      "execution_count": null,
      "outputs": [
        {
          "output_type": "stream",
          "name": "stdout",
          "text": [
            "Enter a number: 1\n",
            "Success! The result is: 100.0\n"
          ]
        }
      ]
    },
    {
      "cell_type": "code",
      "source": [
        "# Using finally for Cleanup\n",
        "try:\n",
        "    file = open(\"example.txt\", \"r\")  # Trying to read a non-existent file\n",
        "    content = file.read()\n",
        "except FileNotFoundError:\n",
        "    print(\"File not found!\")\n",
        "finally:\n",
        "    print(\"Execution completed.\")  # Runs always, useful for cleanup"
      ],
      "metadata": {
        "colab": {
          "base_uri": "https://localhost:8080/"
        },
        "id": "3upDddCU9feJ",
        "outputId": "188d037e-22e2-4b2c-e411-d5ad0bdeb741"
      },
      "execution_count": null,
      "outputs": [
        {
          "output_type": "stream",
          "name": "stdout",
          "text": [
            "File not found!\n",
            "Execution completed.\n"
          ]
        }
      ]
    },
    {
      "cell_type": "code",
      "source": [
        "# Catching Any Exception Using Exception\n",
        "\n",
        "try:\n",
        "    num = int(input(\"Enter a number: \"))\n",
        "    result = 10 / num\n",
        "except Exception as e:  # Catches any exception and prints error details\n",
        "    print(\"An error occurred:\", e)"
      ],
      "metadata": {
        "colab": {
          "base_uri": "https://localhost:8080/"
        },
        "id": "UnIhhBzI9-zC",
        "outputId": "0cf1be5e-8ad9-4f60-bbc7-422adfa3665a"
      },
      "execution_count": null,
      "outputs": [
        {
          "output_type": "stream",
          "name": "stdout",
          "text": [
            "Enter a number: a\n",
            "An error occurred: invalid literal for int() with base 10: 'a'\n"
          ]
        }
      ]
    },
    {
      "cell_type": "code",
      "source": [],
      "metadata": {
        "id": "N343BdMj-Gb4"
      },
      "execution_count": null,
      "outputs": []
    },
    {
      "cell_type": "markdown",
      "source": [
        "Q4. Explain with an example:#\n",
        "try and else\n",
        "finally\n",
        "raise"
      ],
      "metadata": {
        "id": "hQrPYuFW-jpp"
      }
    },
    {
      "cell_type": "code",
      "source": [
        "# try and else\n",
        "\n",
        "\"\"\" The try block contains code that might raise an exception.\n",
        "The else block executes only if no exception occurs in try.  \"\"\"\n",
        "\n",
        "try:\n",
        "    num = int(input(\"Enter a number: \"))  # User enters a number\n",
        "    result = 10 / num  # Potential ZeroDivisionError\n",
        "except ZeroDivisionError:\n",
        "    print(\"Cannot divide by zero!\")\n",
        "except ValueError:\n",
        "    print(\"Invalid input! Please enter a valid number.\")\n",
        "else:\n",
        "    print(\"Success! The result is:\", result)  # Runs only if no exception occurs"
      ],
      "metadata": {
        "colab": {
          "base_uri": "https://localhost:8080/"
        },
        "id": "oDx_ZCvN-rUy",
        "outputId": "d90eab76-dfc6-40bb-9138-0fdb54ef0e79"
      },
      "execution_count": null,
      "outputs": [
        {
          "output_type": "stream",
          "name": "stdout",
          "text": [
            "Enter a number: 0\n",
            "Cannot divide by zero!\n"
          ]
        }
      ]
    },
    {
      "cell_type": "code",
      "source": [
        "# finally\n",
        "\"\"\" The finally block always executes, whether an exception occurs or not.\n",
        "It is used for cleanup tasks like closing files or releasing resources.\n",
        "1. The finally block always executes whether an exception occurs or not.\n",
        "2. It is used for cleanup tasks like closing files or database connections. \"\"\"\n",
        "\n",
        "try:\n",
        "    file = open(\"example.txt\", \"r\")  # Trying to open a non-existent file\n",
        "    content = file.read()\n",
        "except FileNotFoundError:\n",
        "    print(\"File not found!\")\n",
        "finally:\n",
        "    print(\"Closing the program...\")  # Always runs"
      ],
      "metadata": {
        "colab": {
          "base_uri": "https://localhost:8080/"
        },
        "id": "Zup8IwFw_E0R",
        "outputId": "9c7fc784-a6ca-49b0-d798-021d7cbb5cef"
      },
      "execution_count": null,
      "outputs": [
        {
          "output_type": "stream",
          "name": "stdout",
          "text": [
            "File not found!\n",
            "Closing the program...\n"
          ]
        }
      ]
    },
    {
      "cell_type": "code",
      "source": [
        "# raise\n",
        "\"\"\"\n",
        "1. The raise statement is used to intentionally trigger an exception.\n",
        "2. It is useful when custom validation is required. \"\"\"\n",
        "\n",
        "def check_age(age):\n",
        "    if age < 18:\n",
        "        raise ValueError(\"You must be 18 or older!\")  # Manually raising an exception\n",
        "    else:\n",
        "        print(\"Access granted!\")\n",
        "\n",
        "try:\n",
        "    age = int(input(\"Enter your age: \"))\n",
        "    check_age(age)\n",
        "except ValueError as e:\n",
        "    print(\"Error:\", e)"
      ],
      "metadata": {
        "colab": {
          "base_uri": "https://localhost:8080/"
        },
        "id": "fw87lto9_kkZ",
        "outputId": "704332ab-8177-4d82-9444-f447b6a968d2"
      },
      "execution_count": null,
      "outputs": [
        {
          "output_type": "stream",
          "name": "stdout",
          "text": [
            "Enter your age: 13\n",
            "Error: You must be 18 or older!\n"
          ]
        }
      ]
    },
    {
      "cell_type": "code",
      "source": [],
      "metadata": {
        "id": "FgbMMCcJAC4j"
      },
      "execution_count": null,
      "outputs": []
    },
    {
      "cell_type": "markdown",
      "source": [
        "**Q5. What are Custom Exceptions in python? Why do we need Custom Exceptions? Explain with an example.**"
      ],
      "metadata": {
        "id": "PDx-O7hRAMcj"
      }
    },
    {
      "cell_type": "markdown",
      "source": [
        "**Ans.** Custom exceptions in Python are user-defined exceptions that extend the built-in Exception class. They allow us to define specific error types for our applications, making debugging and error handling easier.\n",
        "\n",
        "**Why Do We Need Custom Exceptions?**\n",
        "\n",
        "1. **More Meaningful Errors** → Instead of generic ValueError or TypeError, we can create meaningful errors like InvalidAgeError.\n",
        "\n",
        "2. **Better Debugging** → Helps in identifying the exact problem in a large codebase.\n",
        "\n",
        "3. **Custom Handling Logic** → We can define special behaviors when the exception occurs.\n",
        "\n",
        "4. **Improve Readability** → The error messages become clearer."
      ],
      "metadata": {
        "id": "RRxdrdfcA6-r"
      }
    },
    {
      "cell_type": "code",
      "source": [
        "# Custom Exception for Invalid Age\n",
        "\n",
        "class InvalidAgeError(Exception):  # Custom Exception\n",
        "    def __init__(self, age, message=\"Age must be 18 or older!\"):\n",
        "        self.age = age\n",
        "        self.message = message\n",
        "        super().__init__(self.message)  # Call parent constructor\n",
        "\n",
        "def check_voter_eligibility(age):\n",
        "    if age < 18:\n",
        "        raise InvalidAgeError(age)  # Raising Custom Exception\n",
        "    else:\n",
        "        print(\"You are eligible to vote!\")\n",
        "\n",
        "try:\n",
        "    age = int(input(\"Enter your age: \"))\n",
        "    check_voter_eligibility(age)\n",
        "except InvalidAgeError as e:\n",
        "    print(f\"Error: {e}\")  # Custom error message\n",
        "except ValueError:\n",
        "    print(\"Invalid input! Please enter a number.\")"
      ],
      "metadata": {
        "id": "njKf_6BjA-l4",
        "colab": {
          "base_uri": "https://localhost:8080/"
        },
        "outputId": "90b41432-53a8-4f92-e5c9-2008b290571f"
      },
      "execution_count": 18,
      "outputs": [
        {
          "output_type": "stream",
          "name": "stdout",
          "text": [
            "Enter your age: 44\n",
            "You are eligible to vote!\n"
          ]
        }
      ]
    },
    {
      "cell_type": "code",
      "source": [],
      "metadata": {
        "id": "EZWhGXyFCdY5"
      },
      "execution_count": 19,
      "outputs": []
    },
    {
      "cell_type": "markdown",
      "source": [
        "**Q6. Create a custom exception class. Use this class to handle an exception.**"
      ],
      "metadata": {
        "id": "uM-Z_mZMCh82"
      }
    },
    {
      "cell_type": "code",
      "source": [
        "# Custom Exception for Negative Numbers\n",
        "\n",
        "# Step 1: Create a Custom Exception Class\n",
        "class NegativeNumberError(Exception):\n",
        "    def __init__(self, value, message=\"Negative numbers are not allowed!\"):\n",
        "        self.value = value\n",
        "        self.message = message\n",
        "        super().__init__(self.message)  # Call parent constructor\n",
        "\n",
        "# Step 2: Function that Raises the Exception\n",
        "def check_positive_number(num):\n",
        "    if num < 0:\n",
        "        raise NegativeNumberError(num)  # Raising custom exception\n",
        "    else:\n",
        "        print(f\"Valid input: {num}\")\n",
        "\n",
        "# Step 3: Handling the Exception\n",
        "try:\n",
        "    num = int(input(\"Enter a positive number: \"))\n",
        "    check_positive_number(num)\n",
        "except NegativeNumberError as e:\n",
        "    print(f\"Error: {e}\")\n",
        "except ValueError:\n",
        "    print(\"Invalid input! Please enter a valid number.\")"
      ],
      "metadata": {
        "id": "iXNnU9sOCjzP",
        "colab": {
          "base_uri": "https://localhost:8080/"
        },
        "outputId": "994dabbf-d4ad-4863-afb8-5a50b910f675"
      },
      "execution_count": 19,
      "outputs": [
        {
          "output_type": "stream",
          "name": "stdout",
          "text": [
            "Enter a positive number: 33\n",
            "Valid input: 33\n"
          ]
        }
      ]
    },
    {
      "cell_type": "code",
      "source": [],
      "metadata": {
        "id": "4yhRQwzbC4EY"
      },
      "execution_count": null,
      "outputs": []
    }
  ]
}