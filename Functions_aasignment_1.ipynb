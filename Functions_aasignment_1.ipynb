{
  "nbformat": 4,
  "nbformat_minor": 0,
  "metadata": {
    "colab": {
      "provenance": []
    },
    "kernelspec": {
      "name": "python3",
      "display_name": "Python 3"
    },
    "language_info": {
      "name": "python"
    }
  },
  "cells": [
    {
      "cell_type": "markdown",
      "source": [
        "# Q1. Which keyword is used to create a function? Create a function to return a list of odd numbers in the range of 1 to 25.\n"
      ],
      "metadata": {
        "id": "InUo3KMHT77a"
      }
    },
    {
      "cell_type": "code",
      "source": [
        "def get_odd_numbers():\n",
        "    odd_numbers = []\n",
        "    for num in range(1, 26):\n",
        "        if num % 2 != 0:\n",
        "            odd_numbers.append(num)\n",
        "    return odd_numbers"
      ],
      "metadata": {
        "id": "QMGzPsGJSbpt"
      },
      "execution_count": 5,
      "outputs": []
    },
    {
      "cell_type": "code",
      "source": [
        "result = get_odd_numbers()\n",
        "print(result)"
      ],
      "metadata": {
        "colab": {
          "base_uri": "https://localhost:8080/"
        },
        "id": "yhShbGZ4SqOj",
        "outputId": "ba382aaf-ece4-4d85-9488-1d0125d6a254"
      },
      "execution_count": 6,
      "outputs": [
        {
          "output_type": "stream",
          "name": "stdout",
          "text": [
            "[1, 3, 5, 7, 9, 11, 13, 15, 17, 19, 21, 23, 25]\n"
          ]
        }
      ]
    },
    {
      "cell_type": "code",
      "source": [],
      "metadata": {
        "id": "zsqqmS48TwF4"
      },
      "execution_count": null,
      "outputs": []
    },
    {
      "cell_type": "markdown",
      "source": [
        "Q2. Why *args and **kwargs is used in some functions? Create a function each for *args and **kwargs\n",
        "to demonstrate their use."
      ],
      "metadata": {
        "id": "L4iTYtWPUEOn"
      }
    },
    {
      "cell_type": "markdown",
      "source": [
        "Answer:\n",
        "In Python, *args and **kwargs are used in function definitions to handle a variable number of arguments.\n",
        "\n",
        "1. *args (Non-Keyword Arguments)\n",
        "\n",
        "Used to pass multiple positional arguments to a function.\n",
        "\n",
        "Inside the function, *args is treated as a tuple.\n",
        "\n",
        "2. **kwargs (Keyword Arguments)\n",
        "\n",
        "Used to pass multiple keyword arguments (i.e., named arguments) to a function.\n",
        "\n",
        "Inside the function, **kwargs is treated as a dictionary.\n",
        "\n"
      ],
      "metadata": {
        "id": "TUh0CQk1UwSG"
      }
    },
    {
      "cell_type": "code",
      "source": [
        "\"\"\" Exa 1: Using *args\n",
        "A function to calculate the sum of multiple numbers using *args:  \"\"\"\n",
        "\n",
        "def sum_numbers(*args):\n",
        "    return sum(args)\n",
        "\n",
        "# Calling the function with multiple arguments\n",
        "result = sum_numbers(10, 20, 30, 40, 50)\n",
        "print(\"Sum:\", result)\n",
        "# *args allows passing any number of numbers to the function."
      ],
      "metadata": {
        "colab": {
          "base_uri": "https://localhost:8080/"
        },
        "id": "P2uhVGFwUzOB",
        "outputId": "01d1d9cc-3359-4401-e08d-8374fc557255"
      },
      "execution_count": 9,
      "outputs": [
        {
          "output_type": "stream",
          "name": "stdout",
          "text": [
            "Sum: 150\n"
          ]
        }
      ]
    },
    {
      "cell_type": "code",
      "source": [
        "''' Example 2: Using **kwargs\n",
        "A function to display details of a person using **kwargs: '''\n",
        "\n",
        "def person_details(**kwargs):\n",
        "    for key, value in kwargs.items():\n",
        "        print(f\"{key}: {value}\")\n",
        "\n",
        "# Calling the function with multiple keyword arguments\n",
        "person_details(name=\"Rahul\", age=25, city=\"Mumbai\")\n",
        "# **kwargs allows passing any number of named arguments.\n"
      ],
      "metadata": {
        "colab": {
          "base_uri": "https://localhost:8080/"
        },
        "id": "p4ZyXRGIVE2R",
        "outputId": "edefdd77-e117-4100-b602-1b212daefdc4"
      },
      "execution_count": 11,
      "outputs": [
        {
          "output_type": "stream",
          "name": "stdout",
          "text": [
            "name: Rahul\n",
            "age: 25\n",
            "city: Mumbai\n"
          ]
        }
      ]
    },
    {
      "cell_type": "code",
      "source": [],
      "metadata": {
        "id": "kcKqU_uOVSwy"
      },
      "execution_count": null,
      "outputs": []
    },
    {
      "cell_type": "markdown",
      "source": [
        "Q3. What is an iterator in python? Name the method used to initialise the iterator object and the method\n",
        "used for iteration. Use these methods to print the first five elements of the given list [2, 4, 6, 8, 10, 12, 14,\n",
        "16, 18, 20]."
      ],
      "metadata": {
        "id": "h5pHGG-_VbqI"
      }
    },
    {
      "cell_type": "markdown",
      "source": [
        "**Ans:**\n",
        "An iterator in Python is an object that allows sequential access to elements of a collection (like lists, tuples, dictionaries) without needing to access them all at once.\n",
        "\n",
        "Methods Used for Iteration:\n",
        "iter() → Initializes an iterator object.\n",
        "\n",
        "next() → Fetches the next element from the iterator."
      ],
      "metadata": {
        "id": "n1hTsJc3WPSE"
      }
    },
    {
      "cell_type": "code",
      "source": [
        "## Example: Using an Iterator\n",
        "# Given list\n",
        "numbers = [2, 4, 6, 8, 10, 12, 14, 16, 18, 20]\n",
        "\n",
        "# Creating an iterator object\n",
        "iterator = iter(numbers)\n",
        "\n",
        "# Printing the first five elements using next()\n",
        "print(next(iterator))  # Output: 2\n",
        "print(next(iterator))  # Output: 4\n",
        "print(next(iterator))  # Output: 6\n",
        "print(next(iterator))  # Output: 8\n",
        "print(next(iterator))  # Output: 10\n"
      ],
      "metadata": {
        "colab": {
          "base_uri": "https://localhost:8080/"
        },
        "id": "E0DHpnkRWP-2",
        "outputId": "e5f2b41f-f8d8-4b35-820f-5ab5f309a477"
      },
      "execution_count": 13,
      "outputs": [
        {
          "output_type": "stream",
          "name": "stdout",
          "text": [
            "2\n",
            "4\n",
            "6\n",
            "8\n",
            "10\n"
          ]
        }
      ]
    },
    {
      "cell_type": "code",
      "source": [],
      "metadata": {
        "id": "cCrsZIpNWbT_"
      },
      "execution_count": null,
      "outputs": []
    },
    {
      "cell_type": "markdown",
      "source": [
        "Q4. What is a generator function in python? Why yield keyword is used? Give an example of a generator\n",
        "function."
      ],
      "metadata": {
        "id": "kphSXdbAWl8Q"
      }
    },
    {
      "cell_type": "markdown",
      "source": [
        "**Ans:**\n",
        "**What is a Generator Function in Python?**\n",
        "A generator function is a special type of function in Python that returns an iterator and allows you to iterate over values lazily (one at a time) without storing them in memory. It is defined like a normal function but uses the yield keyword instead of return.\n",
        "\n",
        "**Why is the yield Keyword Used?**\n",
        "The yield keyword pauses the function execution and remembers its state for the next time it is called.\n",
        "\n",
        "Unlike return, which terminates a function, yield allows the function to resume execution from where it left off.\n",
        "\n",
        "It is memory efficient, especially useful when working with large datasets."
      ],
      "metadata": {
        "id": "9VFi15KaWp58"
      }
    },
    {
      "cell_type": "code",
      "source": [
        "# Example of a Generator Function\n",
        "# A generator function to generate even numbers up to a given limit:\n",
        "\n",
        "def even_numbers(n):\n",
        "    for num in range(2, n + 1, 2):\n",
        "        yield num  # Yielding even numbers one by one\n",
        "\n",
        "# Creating a generator object\n",
        "gen = even_numbers(10)\n",
        "\n",
        "# Iterating through the generator\n",
        "for num in gen:\n",
        "    print(num)\n",
        "\n"
      ],
      "metadata": {
        "colab": {
          "base_uri": "https://localhost:8080/"
        },
        "id": "w7Oclo6wW2Gn",
        "outputId": "e6ebb063-b3e9-4caf-e8d4-a439ffe96394"
      },
      "execution_count": 14,
      "outputs": [
        {
          "output_type": "stream",
          "name": "stdout",
          "text": [
            "2\n",
            "4\n",
            "6\n",
            "8\n",
            "10\n"
          ]
        }
      ]
    },
    {
      "cell_type": "code",
      "source": [],
      "metadata": {
        "id": "a3a6AtwHXtmN"
      },
      "execution_count": null,
      "outputs": []
    },
    {
      "cell_type": "markdown",
      "source": [
        "Q5. Create a generator function for prime numbers less than 1000. Use the next() method to print the\n",
        "first 20 prime numbers."
      ],
      "metadata": {
        "id": "tfbtwfJ6X3W7"
      }
    },
    {
      "cell_type": "code",
      "source": [
        "def prime_generator():\n",
        "    \"\"\"Generator function to yield prime numbers less than 1000.\"\"\"\n",
        "    num = 2  # Start from the first prime number\n",
        "    while num < 1000:\n",
        "        # Check if num is prime\n",
        "        for i in range(2, int(num ** 0.5) + 1):\n",
        "            if num % i == 0:\n",
        "                break\n",
        "        else:\n",
        "            yield num  # Yield if prime\n",
        "        num += 1  # Move to the next number\n",
        "\n",
        "# Create a generator object\n",
        "primes = prime_generator()\n",
        "\n",
        "# Print the first 20 prime numbers using next()\n",
        "for _ in range(20):\n",
        "    print(next(primes))\n"
      ],
      "metadata": {
        "colab": {
          "base_uri": "https://localhost:8080/"
        },
        "id": "bmpDEp_MX65L",
        "outputId": "5ca1129d-9383-4ace-e12d-f3c2614c60e1"
      },
      "execution_count": 15,
      "outputs": [
        {
          "output_type": "stream",
          "name": "stdout",
          "text": [
            "2\n",
            "3\n",
            "5\n",
            "7\n",
            "11\n",
            "13\n",
            "17\n",
            "19\n",
            "23\n",
            "29\n",
            "31\n",
            "37\n",
            "41\n",
            "43\n",
            "47\n",
            "53\n",
            "59\n",
            "61\n",
            "67\n",
            "71\n"
          ]
        }
      ]
    },
    {
      "cell_type": "code",
      "source": [],
      "metadata": {
        "id": "CJF9yYGAYXNU"
      },
      "execution_count": null,
      "outputs": []
    },
    {
      "cell_type": "markdown",
      "source": [
        "Q6. Write a python program to print the first 10 Fibonacci numbers using a while loop."
      ],
      "metadata": {
        "id": "6z8Z2HjHYb7E"
      }
    },
    {
      "cell_type": "code",
      "source": [
        "# Initialize the first two Fibonacci numbers\n",
        "a, b = 0, 1\n",
        "count = 0\n",
        "\n",
        "# Number of Fibonacci numbers to print\n",
        "n = 10\n",
        "\n",
        "# Using while loop to generate Fibonacci numbers\n",
        "while count < n:\n",
        "    print(a)  # Print the current Fibonacci number\n",
        "    a, b = b, a + b  # Update values\n",
        "    count += 1  # Increase count\n"
      ],
      "metadata": {
        "colab": {
          "base_uri": "https://localhost:8080/"
        },
        "id": "-P41pdp4Ycow",
        "outputId": "ee4e66a3-5a96-4bbe-99a4-8a9bb17ef5a0"
      },
      "execution_count": 16,
      "outputs": [
        {
          "output_type": "stream",
          "name": "stdout",
          "text": [
            "0\n",
            "1\n",
            "1\n",
            "2\n",
            "3\n",
            "5\n",
            "8\n",
            "13\n",
            "21\n",
            "34\n"
          ]
        }
      ]
    },
    {
      "cell_type": "code",
      "source": [],
      "metadata": {
        "id": "g2xwZOnxY3py"
      },
      "execution_count": null,
      "outputs": []
    },
    {
      "cell_type": "markdown",
      "source": [
        "Q7. Write a List Comprehension to iterate through the given string: ‘pwskills’.\n",
        "Expected output: ['p', 'w', 's', 'k', 'i', 'l', 'l', 's']"
      ],
      "metadata": {
        "id": "jsAcXgsdY9r9"
      }
    },
    {
      "cell_type": "code",
      "source": [
        "string = 'pwskills'\n",
        "char_list = [char for char in string]\n",
        "print(char_list)\n"
      ],
      "metadata": {
        "colab": {
          "base_uri": "https://localhost:8080/"
        },
        "id": "_iYRC-L6Y-Tr",
        "outputId": "d422ff42-a013-4136-bb67-b463252065a6"
      },
      "execution_count": 17,
      "outputs": [
        {
          "output_type": "stream",
          "name": "stdout",
          "text": [
            "['p', 'w', 's', 'k', 'i', 'l', 'l', 's']\n"
          ]
        }
      ]
    },
    {
      "cell_type": "code",
      "source": [],
      "metadata": {
        "id": "j8rd7XzSZJ1_"
      },
      "execution_count": null,
      "outputs": []
    },
    {
      "cell_type": "markdown",
      "source": [
        "Q8. Write a python program to check whether a given number is Palindrome or not using a while loop."
      ],
      "metadata": {
        "id": "kk4XsJQUZUXe"
      }
    },
    {
      "cell_type": "code",
      "source": [
        "''' Answer:\n",
        "A palindrome number is a number that reads the same backward as forward. For example, 121 is\n",
        "a palindrome, but 123 is not. To check if a given number is a palindrome, we can reverse the\n",
        "number and compare it with the original number. If both are the same, it's a palindrome.'''\n",
        "\n",
        "def is_palindrome(number):\n",
        "    # Store the original number\n",
        "    original_number = number\n",
        "    reverse_number = 0\n",
        "\n",
        "    # Reverse the number using a while loop\n",
        "    while number > 0:\n",
        "        remainder = number % 10  # Get the last digit\n",
        "        reverse_number = reverse_number * 10 + remainder  # Build the reverse number\n",
        "        number //= 10  # Remove the last digit\n",
        "\n",
        "    # Check if the original number is equal to the reversed number\n",
        "    if original_number == reverse_number:\n",
        "        return True\n",
        "    else:\n",
        "        return False\n",
        "\n",
        "# Input number\n",
        "num = int(input(\"Enter a number: \"))\n",
        "\n",
        "# Check and print if the number is a palindrome\n",
        "if is_palindrome(num):\n",
        "    print(f\"{num} is a Palindrome!\")\n",
        "else:\n",
        "    print(f\"{num} is not a Palindrome!\")\n"
      ],
      "metadata": {
        "colab": {
          "base_uri": "https://localhost:8080/"
        },
        "id": "wT5YwAJ8ZU7f",
        "outputId": "ba8d8b8a-512a-4a8c-eae2-2ad7aef14faa"
      },
      "execution_count": 20,
      "outputs": [
        {
          "output_type": "stream",
          "name": "stdout",
          "text": [
            "Enter a number: 123\n",
            "123 is not a Palindrome!\n"
          ]
        }
      ]
    },
    {
      "cell_type": "code",
      "source": [],
      "metadata": {
        "id": "x7ZqpckTZgJQ"
      },
      "execution_count": 20,
      "outputs": []
    },
    {
      "cell_type": "markdown",
      "source": [
        "Q9. Write a code to print odd numbers from 1 to 100 using list comprehension.\n",
        "Note: Use a list comprehension to create a list from 1 to 100 and use another List comprehension to filter\n",
        "out odd numbers."
      ],
      "metadata": {
        "id": "tSmO4XqKakMk"
      }
    },
    {
      "cell_type": "code",
      "source": [
        "# Create a list of numbers from 1 to 100\n",
        "numbers = [num for num in range(1, 101)]\n",
        "\n",
        "# Use list comprehension to filter out odd numbers\n",
        "odd_numbers = [num for num in numbers if num % 2 != 0]\n",
        "\n",
        "# Print the odd numbers\n",
        "print(odd_numbers)\n"
      ],
      "metadata": {
        "colab": {
          "base_uri": "https://localhost:8080/"
        },
        "id": "c5-9D9mManFL",
        "outputId": "05bb61ab-a3ac-40df-abba-3a334cfaac08"
      },
      "execution_count": 21,
      "outputs": [
        {
          "output_type": "stream",
          "name": "stdout",
          "text": [
            "[1, 3, 5, 7, 9, 11, 13, 15, 17, 19, 21, 23, 25, 27, 29, 31, 33, 35, 37, 39, 41, 43, 45, 47, 49, 51, 53, 55, 57, 59, 61, 63, 65, 67, 69, 71, 73, 75, 77, 79, 81, 83, 85, 87, 89, 91, 93, 95, 97, 99]\n"
          ]
        }
      ]
    },
    {
      "cell_type": "code",
      "source": [],
      "metadata": {
        "id": "_v2OEgIGav38"
      },
      "execution_count": null,
      "outputs": []
    }
  ]
}