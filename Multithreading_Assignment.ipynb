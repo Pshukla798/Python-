{
  "nbformat": 4,
  "nbformat_minor": 0,
  "metadata": {
    "colab": {
      "provenance": []
    },
    "kernelspec": {
      "name": "python3",
      "display_name": "Python 3"
    },
    "language_info": {
      "name": "python"
    }
  },
  "cells": [
    {
      "cell_type": "markdown",
      "source": [
        "**Q1. What is multithreading in python? Why is it used? Name the module used to handle threads in python.**"
      ],
      "metadata": {
        "id": "NLiwxtgvZPsQ"
      }
    },
    {
      "cell_type": "markdown",
      "source": [
        "**Multithreading in Python**\n",
        "\n",
        "Multithreading is a technique where multiple threads run concurrently within the same process. A thread is a lightweight, independent unit of execution.\n",
        "\n",
        "**Why is Multithreading Used?**\n",
        "\n",
        "Improves responsiveness (useful for GUI applications).\n",
        "\n",
        "Helps perform I/O-bound tasks (e.g., file operations, web scraping).\n",
        "\n",
        "Enables parallel execution of independent tasks.\n",
        "\n",
        "**Which Module is Used?**\n",
        "\n",
        "Python provides the threading module to handle threads."
      ],
      "metadata": {
        "id": "_U1gJZ6mZrg4"
      }
    },
    {
      "cell_type": "code",
      "source": [
        "# Creating and Running Threads\n",
        "\n",
        "import threading\n",
        "\n",
        "def print_numbers():\n",
        "    for i in range(5):\n",
        "        print(f\"Number: {i}\")\n",
        "\n",
        "# Creating a thread\n",
        "thread1 = threading.Thread(target=print_numbers)\n",
        "\n",
        "# Starting the thread\n",
        "thread1.start()\n",
        "\n",
        "# Waiting for thread to complete\n",
        "thread1.join()\n",
        "\n",
        "print(\"Main thread execution completed.\")"
      ],
      "metadata": {
        "colab": {
          "base_uri": "https://localhost:8080/"
        },
        "id": "HusUG-rYahl4",
        "outputId": "4b25b9ba-9624-493a-e256-872449115cec"
      },
      "execution_count": null,
      "outputs": [
        {
          "output_type": "stream",
          "name": "stdout",
          "text": [
            "Number: 0\n",
            "Number: 1\n",
            "Number: 2\n",
            "Number: 3\n",
            "Number: 4\n",
            "Main thread execution completed.\n"
          ]
        }
      ]
    },
    {
      "cell_type": "code",
      "source": [],
      "metadata": {
        "id": "FLXT43FZayrI"
      },
      "execution_count": null,
      "outputs": []
    },
    {
      "cell_type": "markdown",
      "source": [
        "**Q2. Why threading module used? Write the use of the following functions:**\n",
        "1. activeCount()\n",
        "2. currentThread()\n",
        "3. enumerate()"
      ],
      "metadata": {
        "id": "-oadc9fVa4G3"
      }
    },
    {
      "cell_type": "markdown",
      "source": [
        "**Ans.**\n",
        "\n",
        "The threading module in Python is used to create and manage multiple threads, allowing parallel execution of tasks.\n",
        "\n",
        "**It is mainly useful for I/O-bound operations like:**\n",
        "\n",
        "File reading/writing\n",
        "\n",
        "Web scraping\n",
        "\n",
        "Database operations\n",
        "\n",
        "GUI applications\n",
        "\n",
        "\n",
        "activeCount() → Returns the number of running threads.\n",
        "\n",
        "currentThread() → Returns the currently executing thread.\n",
        "\n",
        "enumerate() → Returns a list of all active threads."
      ],
      "metadata": {
        "id": "aunQxy54b2p5"
      }
    },
    {
      "cell_type": "code",
      "source": [
        "# activeCount()\n",
        "\n",
        "import threading\n",
        "import time\n",
        "\n",
        "def task():\n",
        "    time.sleep(2)\n",
        "\n",
        "# Creating threads\n",
        "t1 = threading.Thread(target=task)\n",
        "t2 = threading.Thread(target=task)\n",
        "\n",
        "t1.start()\n",
        "t2.start()\n",
        "\n",
        "print(f\"Active threads: {threading.activeCount()}\")  # Counts main + 2 threads"
      ],
      "metadata": {
        "id": "5lZQBvMfcC9R",
        "colab": {
          "base_uri": "https://localhost:8080/"
        },
        "outputId": "71a74847-7ac2-4afb-9cfe-a7d104d37d9c"
      },
      "execution_count": 2,
      "outputs": [
        {
          "output_type": "stream",
          "name": "stdout",
          "text": [
            "Active threads: 5\n"
          ]
        },
        {
          "output_type": "stream",
          "name": "stderr",
          "text": [
            "<ipython-input-2-1585bc9aa0eb>:16: DeprecationWarning: activeCount() is deprecated, use active_count() instead\n",
            "  print(f\"Active threads: {threading.activeCount()}\")  # Counts main + 2 threads\n"
          ]
        }
      ]
    },
    {
      "cell_type": "code",
      "source": [
        "# currentThread()\n",
        "\n",
        "def show_thread():\n",
        "    print(f\"Current Thread: {threading.currentThread().name}\")\n",
        "\n",
        "t = threading.Thread(target=show_thread)\n",
        "t.start()\n"
      ],
      "metadata": {
        "colab": {
          "base_uri": "https://localhost:8080/"
        },
        "id": "s6dMGI9idc0I",
        "outputId": "632dee9d-b1f7-4415-c7ce-0326653125ad"
      },
      "execution_count": 3,
      "outputs": [
        {
          "output_type": "stream",
          "name": "stdout",
          "text": [
            "Current Thread: Thread-11 (show_thread)\n"
          ]
        },
        {
          "output_type": "stream",
          "name": "stderr",
          "text": [
            "<ipython-input-3-6d66c2402097>:4: DeprecationWarning: currentThread() is deprecated, use current_thread() instead\n",
            "  print(f\"Current Thread: {threading.currentThread().name}\")\n"
          ]
        }
      ]
    },
    {
      "cell_type": "code",
      "source": [
        "# enumerate()\n",
        "\n",
        "def task():\n",
        "    time.sleep(2)\n",
        "\n",
        "t1 = threading.Thread(target=task)\n",
        "t2 = threading.Thread(target=task)\n",
        "\n",
        "t1.start()\n",
        "t2.start()\n",
        "\n",
        "print(\"Active Threads:\", threading.enumerate())  # Shows all active threads"
      ],
      "metadata": {
        "colab": {
          "base_uri": "https://localhost:8080/"
        },
        "id": "ogaAvHVGdluF",
        "outputId": "5951e636-a108-4cf9-b9ea-73c00ecd0df1"
      },
      "execution_count": 4,
      "outputs": [
        {
          "output_type": "stream",
          "name": "stdout",
          "text": [
            "Active Threads: [<_MainThread(MainThread, started 136318405836800)>, <ParentPollerUnix(Thread-2, started daemon 136317899896384)>, <Thread(_colab_inspector_thread, started daemon 136317295916608)>, <Thread(Thread-12 (task), started 136317849540160)>, <Thread(Thread-13 (task), started 136317279131200)>]\n"
          ]
        }
      ]
    },
    {
      "cell_type": "code",
      "source": [],
      "metadata": {
        "id": "GCqI_4BkdvU0"
      },
      "execution_count": null,
      "outputs": []
    },
    {
      "cell_type": "markdown",
      "source": [
        "**Q3. Explain the following functions :**\n",
        "\n",
        "1. run()\n",
        "2. start()\n",
        "3. join()\n",
        "4. isAlive()"
      ],
      "metadata": {
        "id": "cWpcXGhWd322"
      }
    },
    {
      "cell_type": "markdown",
      "source": [
        "**Ans:**\n",
        "\n",
        "The threading module provides several functions to manage threads efficiently.\n",
        "\n",
        "1. run() :\n",
        "a. The run() method contains the code that runs when a thread starts.\n",
        "\n",
        "b. It is not called directly; instead, use start().\n",
        "\n",
        "2. start() :\n",
        "Starts a new thread and calls the run() method internally.\n",
        "\n",
        "Allows multiple tasks to execute concurrently.\n",
        "\n",
        "3. join() :\n",
        "Blocks the calling thread until the specified thread completes execution.\n",
        "\n",
        "Useful for synchronization to ensure a thread finishes before proceeding.\n",
        "\n",
        "4. isAlive() :\n",
        "Checks if a thread is still running (alive).\n",
        "\n",
        "Useful for debugging and monitoring thread execution."
      ],
      "metadata": {
        "id": "xc-Q0epHeeVh"
      }
    },
    {
      "cell_type": "code",
      "source": [],
      "metadata": {
        "id": "JSv8caPkeFo5"
      },
      "execution_count": null,
      "outputs": []
    },
    {
      "cell_type": "markdown",
      "source": [
        "**Q4. Write a python program to create two threads. Thread one must print the list of squares and thread two must print the list of cubes.**"
      ],
      "metadata": {
        "id": "7Kqh00Tnf4fE"
      }
    },
    {
      "cell_type": "code",
      "source": [
        "import threading\n",
        "\n",
        "def print_squares():\n",
        "    squares = [x**2 for x in range(1, 6)]\n",
        "    print(\"Squares:\", squares)\n",
        "\n",
        "def print_cubes():\n",
        "    cubes = [x**3 for x in range(1, 6)]\n",
        "    print(\"Cubes:\", cubes)\n",
        "\n",
        "# Creating threads\n",
        "thread1 = threading.Thread(target=print_squares)\n",
        "thread2 = threading.Thread(target=print_cubes)\n",
        "\n",
        "# Starting threads\n",
        "thread1.start()\n",
        "thread2.start()\n",
        "\n",
        "# Waiting for both threads to complete\n",
        "thread1.join()\n",
        "thread2.join()\n",
        "\n",
        "print(\"Both threads finished execution.\")"
      ],
      "metadata": {
        "colab": {
          "base_uri": "https://localhost:8080/"
        },
        "id": "MRlCB45Of8MN",
        "outputId": "850a25c4-33cb-4b8a-84bd-8211f3b790c7"
      },
      "execution_count": 5,
      "outputs": [
        {
          "output_type": "stream",
          "name": "stdout",
          "text": [
            "Squares: [1, 4, 9, 16, 25]\n",
            "Cubes: [1, 8, 27, 64, 125]\n",
            "Both threads finished execution.\n"
          ]
        }
      ]
    },
    {
      "cell_type": "code",
      "source": [],
      "metadata": {
        "id": "5ajIn5cFggDW"
      },
      "execution_count": null,
      "outputs": []
    },
    {
      "cell_type": "markdown",
      "source": [
        "**Q5. State advantages and disadvantages of multithreading.**"
      ],
      "metadata": {
        "id": "cPYuHnzXgj5m"
      }
    },
    {
      "cell_type": "code",
      "source": [],
      "metadata": {
        "id": "bpYCEjQAgld1"
      },
      "execution_count": null,
      "outputs": []
    },
    {
      "cell_type": "markdown",
      "source": [
        "**Advantages and Disadvantages of Multithreading in Python**\n",
        "\n",
        "**Advantages of Multithreading**\n",
        "1. Faster Execution → Multiple threads run concurrently, reducing execution time.\n",
        "\n",
        "2. Efficient CPU Utilization → Keeps the CPU busy by executing tasks in parallel.\n",
        "\n",
        "3. Reduces Response Time → Improves responsiveness in applications like GUIs and web servers.\n",
        "\n",
        "4. Resource Sharing → Threads share the same memory space, reducing memory consumption.\n",
        "\n",
        "5. Ideal for I/O-Bound Tasks → Best for network requests, file I/O, and database operations.\n",
        "\n",
        "**Disadvantages of Multithreading**\n",
        "\n",
        "1. Complexity in Debugging → Hard to track and fix errors in parallel execution.\n",
        "\n",
        "2. Shared Resource Issues → May lead to race conditions and deadlocks.\n",
        "\n",
        "3. Overhead in Thread Management → Creating and managing multiple threads consumes system resources.\n",
        "\n",
        "4. Not True Parallelism in Python → Due to the Global Interpreter Lock (GIL), only one thread executes Python bytecode at a time (except for I/O-bound tasks).\n",
        "\n"
      ],
      "metadata": {
        "id": "q-Sbqdetg3CD"
      }
    },
    {
      "cell_type": "code",
      "source": [],
      "metadata": {
        "id": "rN2sI0HMhU0e"
      },
      "execution_count": null,
      "outputs": []
    },
    {
      "cell_type": "markdown",
      "source": [
        "**Q6. Explain deadlocks and race conditions.**"
      ],
      "metadata": {
        "id": "pDUbjzYsha7G"
      }
    },
    {
      "cell_type": "markdown",
      "source": [
        "**Deadlocks & Race Conditions in Multithreading**\n",
        "\n",
        "**Deadlock**\n",
        "A deadlock occurs when two or more threads are waiting for each other to release a resource, but none can proceed because they are all blocked.\n",
        "\n",
        "**Race Condition**\n",
        "A race condition occurs when multiple threads access and modify a shared resource simultaneously, leading to unpredictable results.\n",
        "\n"
      ],
      "metadata": {
        "id": "rc9_oek6h073"
      }
    },
    {
      "cell_type": "code",
      "source": [],
      "metadata": {
        "id": "p8LQT15qiZ-i"
      },
      "execution_count": null,
      "outputs": []
    }
  ]
}