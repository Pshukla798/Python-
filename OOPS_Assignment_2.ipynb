{
  "nbformat": 4,
  "nbformat_minor": 0,
  "metadata": {
    "colab": {
      "provenance": []
    },
    "kernelspec": {
      "name": "python3",
      "display_name": "Python 3"
    },
    "language_info": {
      "name": "python"
    }
  },
  "cells": [
    {
      "cell_type": "markdown",
      "source": [
        "Q1. What is Abstraction in OOps? Explain with an example."
      ],
      "metadata": {
        "id": "elWyw29Z1d-a"
      }
    },
    {
      "cell_type": "markdown",
      "source": [
        "Abstraction is one of the four pillars of Object-Oriented Programming (OOPs). It is the process of hiding implementation details from the user and only showing the essential features of an object.\n",
        "\n",
        "**Key Features of Abstraction:**\n",
        "1. Hides complex implementation and shows only the necessary details.\n",
        "2. Achieved using abstract classes and abstract methods.\n",
        "3. Cannot instantiate an abstract class directly.\n",
        "4. Helps in reducing code complexity and increasing code reusability.\n",
        "\n",
        "**Example:**\n"
      ],
      "metadata": {
        "id": "8ZWnpICX1vzl"
      }
    },
    {
      "cell_type": "code",
      "source": [
        "from abc import ABC, abstractmethod\n",
        "\n",
        "# Abstract Class\n",
        "class Vehicle(ABC):\n",
        "    @abstractmethod\n",
        "    def start(self):  # Abstract Method\n",
        "        pass\n",
        "\n",
        "    def common_info(self):  # Normal Method\n",
        "        return \"All vehicles have wheels and an engine\"\n",
        "\n",
        "# Concrete Class (Child class)\n",
        "class Car(Vehicle):\n",
        "    def start(self):\n",
        "        return \"Car starts with a key\"\n",
        "\n",
        "# Concrete Class (Another child class)\n",
        "class Bike(Vehicle):\n",
        "    def start(self):\n",
        "        return \"Bike starts with a self-start button\"\n",
        "\n",
        "# Creating objects of concrete classes\n",
        "car = Car()\n",
        "bike = Bike()\n",
        "\n",
        "print(car.start())  # Output: Car starts with a key\n",
        "print(bike.start()) # Output: Bike starts with a self-start button\n",
        "print(car.common_info())  # Output: All vehicles have wheels and an engine"
      ],
      "metadata": {
        "colab": {
          "base_uri": "https://localhost:8080/"
        },
        "id": "FuM6c9Ns1hAT",
        "outputId": "e0d3e6d0-3c8e-4caf-bd08-a2fe9bd2d76c"
      },
      "execution_count": 1,
      "outputs": [
        {
          "output_type": "stream",
          "name": "stdout",
          "text": [
            "Car starts with a key\n",
            "Bike starts with a self-start button\n",
            "All vehicles have wheels and an engine\n"
          ]
        }
      ]
    },
    {
      "cell_type": "code",
      "source": [],
      "metadata": {
        "id": "-eOjY_gK2WYu"
      },
      "execution_count": null,
      "outputs": []
    },
    {
      "cell_type": "markdown",
      "source": [
        "Q2. Differentiate between Abstraction and Encapsulation. Explain with an example."
      ],
      "metadata": {
        "id": "ewy7rZ_a2evt"
      }
    },
    {
      "cell_type": "code",
      "source": [],
      "metadata": {
        "id": "-tpykW0s2fjm"
      },
      "execution_count": null,
      "outputs": []
    },
    {
      "cell_type": "markdown",
      "source": [
        "**Difference Between Abstraction and Encapsulation**\n",
        "\n",
        "Abstraction and Encapsulation are both important Object-Oriented Programming (OOP) concepts, but they serve different purposes.\n",
        "\n",
        "**Abstraction**\n",
        "\t1. Hides implementation details and shows only the necessary features.\n",
        "  2. To simplify complex systems by exposing only the relevant parts.\n",
        "  3. Abstract Classes & Interfaces\n",
        "  4. Hiding Implementation\n",
        "\n",
        "**  Encapsulation **\n",
        " 1. Binds data and methods together and restricts direct access.\n",
        " 2. To protect data and prevent direct modification.\n",
        " 3. Private and Protected Access Modifiers (_, __)\n",
        " 4. Data Protection and Restriction"
      ],
      "metadata": {
        "id": "phE99GGs2xsn"
      }
    },
    {
      "cell_type": "code",
      "source": [
        "# Example Abstraction:\n",
        "\n",
        "from abc import ABC, abstractmethod\n",
        "\n",
        "# Abstract Class\n",
        "class Vehicle(ABC):\n",
        "    @abstractmethod\n",
        "    def start(self):  # Abstract method\n",
        "        pass\n",
        "\n",
        "# Concrete Class (Child)\n",
        "class Car(Vehicle):\n",
        "    def start(self):\n",
        "        return \"Car starts with a key\"\n",
        "\n",
        "# Creating an object of Car\n",
        "car = Car()\n",
        "print(car.start())  # Output: Car starts with a key\n"
      ],
      "metadata": {
        "colab": {
          "base_uri": "https://localhost:8080/"
        },
        "id": "UTjPi29W3e7B",
        "outputId": "550cc6e5-8616-4ae7-c675-5985077f5f6d"
      },
      "execution_count": 2,
      "outputs": [
        {
          "output_type": "stream",
          "name": "stdout",
          "text": [
            "Car starts with a key\n"
          ]
        }
      ]
    },
    {
      "cell_type": "code",
      "source": [
        "# Encapsulation\n",
        "\n",
        "class BankAccount:\n",
        "    def __init__(self, balance):\n",
        "        self.__balance = balance  # Private variable\n",
        "\n",
        "    def deposit(self, amount):\n",
        "        self.__balance += amount\n",
        "        return f\"Deposited {amount}, New Balance: {self.__balance}\"\n",
        "\n",
        "    def withdraw(self, amount):\n",
        "        if amount <= self.__balance:\n",
        "            self.__balance -= amount\n",
        "            return f\"Withdrawn {amount}, Remaining Balance: {self.__balance}\"\n",
        "        else:\n",
        "            return \"Insufficient balance\"\n",
        "\n",
        "    def get_balance(self):  # Getter method\n",
        "        return self.__balance\n",
        "\n",
        "# Creating an object\n",
        "account = BankAccount(5000)\n",
        "print(account.deposit(2000))  # Output: Deposited 2000, New Balance: 7000\n",
        "print(account.withdraw(3000)) # Output: Withdrawn 3000, Remaining Balance: 4000\n",
        "print(account.get_balance())  # Output: 4000\n"
      ],
      "metadata": {
        "colab": {
          "base_uri": "https://localhost:8080/"
        },
        "id": "L2HCps4W4B7z",
        "outputId": "cd9477b5-b855-4744-e087-655c62385dde"
      },
      "execution_count": 3,
      "outputs": [
        {
          "output_type": "stream",
          "name": "stdout",
          "text": [
            "Deposited 2000, New Balance: 7000\n",
            "Withdrawn 3000, Remaining Balance: 4000\n",
            "4000\n"
          ]
        }
      ]
    },
    {
      "cell_type": "code",
      "source": [],
      "metadata": {
        "id": "4Mr0eMt-4OBW"
      },
      "execution_count": null,
      "outputs": []
    },
    {
      "cell_type": "markdown",
      "source": [
        "Q3. What is abc module in python? Why is it used?"
      ],
      "metadata": {
        "id": "bti-TcaK4UP3"
      }
    },
    {
      "cell_type": "code",
      "source": [],
      "metadata": {
        "id": "AzHtSq1c4U5N"
      },
      "execution_count": null,
      "outputs": []
    },
    {
      "cell_type": "markdown",
      "source": [
        "The abc (Abstract Base Class) module in Python provides a way to define abstract classes. An abstract class is a class that cannot be instantiated and is used as a blueprint for other classes.\n",
        "\n",
        "1. The abc module is part of Python’s built-in abc (Abstract Base Classes) package.\n",
        "2. It helps in enforcing method implementation in child classes.\n",
        "3. Abstract classes contain abstract methods, which must be implemented by derived classes.\n",
        "\n",
        "**Why is the abc Module Used?**\n",
        "1. Ensures a common interface for all child classes.\n",
        "2. Encourages code consistency by forcing subclasses to implement required methods.\n",
        "3. Improves maintainability by defining a clear contract for future classes.\n",
        "4. Helps in achieving Abstraction, which hides implementation details\n",
        "\n",
        "**How to Use the abc Module?**\n",
        "To create an abstract class in Python:\n",
        "1. Import ABC and abstractmethod from abc.\n",
        "2. Inherit ABC class in the parent class.\n",
        "3. Use @abstractmethod decorator to define abstract methods."
      ],
      "metadata": {
        "id": "eJ-GxIkT4iAT"
      }
    },
    {
      "cell_type": "code",
      "source": [
        "# Example:\n",
        "from abc import ABC, abstractmethod\n",
        "\n",
        "# Abstract Class\n",
        "class Animal(ABC):\n",
        "    @abstractmethod\n",
        "    def sound(self):\n",
        "        pass  # No implementation\n",
        "\n",
        "# Concrete Class (Child Class)\n",
        "class Dog(Animal):\n",
        "    def sound(self):\n",
        "        return \"Bark\"\n",
        "\n",
        "class Cat(Animal):\n",
        "    def sound(self):\n",
        "        return \"Meow\"\n",
        "\n",
        "# Creating objects\n",
        "dog = Dog()\n",
        "cat = Cat()\n",
        "\n",
        "print(dog.sound())  # Output: Bark\n",
        "print(cat.sound())  # Output: Meow"
      ],
      "metadata": {
        "colab": {
          "base_uri": "https://localhost:8080/"
        },
        "id": "W4B8FwzL5HNg",
        "outputId": "30683ffd-8ff7-43bd-e333-38fc58c63944"
      },
      "execution_count": 5,
      "outputs": [
        {
          "output_type": "stream",
          "name": "stdout",
          "text": [
            "Bark\n",
            "Meow\n"
          ]
        }
      ]
    },
    {
      "cell_type": "code",
      "source": [],
      "metadata": {
        "id": "uIxRvmO_5K5b"
      },
      "execution_count": null,
      "outputs": []
    },
    {
      "cell_type": "markdown",
      "source": [
        "Q4. How can we achieve data abstraction?"
      ],
      "metadata": {
        "id": "woSO38Hg5XzR"
      }
    },
    {
      "cell_type": "markdown",
      "source": [
        "Data Abstraction is achieved in Python using:\n",
        "1. Abstract Classes (via the abc module) :\n",
        "  Abstract classes in Python hide implementation details and force child classes to implement required methods.\n",
        "2. Encapsulation (using access specifiers like private and protected attributes): Encapsulation also helps in hiding the internal state of an object and only exposing necessary functionalities.\n"
      ],
      "metadata": {
        "id": "XXN8a-9W6Ny3"
      }
    },
    {
      "cell_type": "code",
      "source": [
        "# Example: Abstract Class for a Bank Account\n",
        "\n",
        "from abc import ABC, abstractmethod\n",
        "\n",
        "# Abstract Class\n",
        "class BankAccount(ABC):\n",
        "    def __init__(self, balance):\n",
        "        self._balance = balance  # Protected variable\n",
        "\n",
        "    @abstractmethod\n",
        "    def deposit(self, amount):\n",
        "        pass\n",
        "\n",
        "    @abstractmethod\n",
        "    def withdraw(self, amount):\n",
        "        pass\n",
        "\n",
        "# Concrete Class (Child Class)\n",
        "class SavingsAccount(BankAccount):\n",
        "    def deposit(self, amount):\n",
        "        self._balance += amount\n",
        "        return f\"Deposited {amount}, New Balance: {self._balance}\"\n",
        "\n",
        "    def withdraw(self, amount):\n",
        "        if amount <= self._balance:\n",
        "            self._balance -= amount\n",
        "            return f\"Withdrawn {amount}, Remaining Balance: {self._balance}\"\n",
        "        else:\n",
        "            return \"Insufficient balance\"\n",
        "\n",
        "# Creating an object\n",
        "account = SavingsAccount(5000)\n",
        "print(account.deposit(2000))  # Output: Deposited 2000, New Balance: 7000\n",
        "print(account.withdraw(3000)) # Output: Withdrawn 3000, Remaining Balance: 4000\n"
      ],
      "metadata": {
        "colab": {
          "base_uri": "https://localhost:8080/"
        },
        "id": "c41pcaAu6q7l",
        "outputId": "0da7dd56-42b7-444c-cf73-728abb09757f"
      },
      "execution_count": 6,
      "outputs": [
        {
          "output_type": "stream",
          "name": "stdout",
          "text": [
            "Deposited 2000, New Balance: 7000\n",
            "Withdrawn 3000, Remaining Balance: 4000\n"
          ]
        }
      ]
    },
    {
      "cell_type": "code",
      "source": [
        "# Example: Hiding Account Balance\n",
        "\n",
        "class BankAccount:\n",
        "    def __init__(self, balance):\n",
        "        self.__balance = balance  # Private variable\n",
        "\n",
        "    def deposit(self, amount):\n",
        "        self.__balance += amount\n",
        "        return f\"Deposited {amount}, New Balance: {self.__balance}\"\n",
        "\n",
        "    def withdraw(self, amount):\n",
        "        if amount <= self.__balance:\n",
        "            self.__balance -= amount\n",
        "            return f\"Withdrawn {amount}, Remaining Balance: {self.__balance}\"\n",
        "        else:\n",
        "            return \"Insufficient balance\"\n",
        "\n",
        "    def get_balance(self):  # Getter method\n",
        "        return self.__balance\n",
        "\n",
        "# Creating an object\n",
        "account = BankAccount(5000)\n",
        "print(account.deposit(2000))  # Output: Deposited 2000, New Balance: 7000\n",
        "print(account.withdraw(3000)) # Output: Withdrawn 3000, Remaining Balance: 4000\n",
        "print(account.get_balance())  # Output: 4000"
      ],
      "metadata": {
        "colab": {
          "base_uri": "https://localhost:8080/"
        },
        "id": "mtx9CNfF7ZIz",
        "outputId": "8eb606cb-b4e1-4584-ede5-b71a3b45f0b9"
      },
      "execution_count": 7,
      "outputs": [
        {
          "output_type": "stream",
          "name": "stdout",
          "text": [
            "Deposited 2000, New Balance: 7000\n",
            "Withdrawn 3000, Remaining Balance: 4000\n",
            "4000\n"
          ]
        }
      ]
    },
    {
      "cell_type": "code",
      "source": [],
      "metadata": {
        "id": "nmPRgPlP7foY"
      },
      "execution_count": null,
      "outputs": []
    },
    {
      "cell_type": "markdown",
      "source": [
        "Q5. Can we create an instance of an abstract class? Explain your answer."
      ],
      "metadata": {
        "id": "3vpKBtTa7q71"
      }
    },
    {
      "cell_type": "code",
      "source": [],
      "metadata": {
        "id": "5Gusbk3r7rsv"
      },
      "execution_count": null,
      "outputs": []
    },
    {
      "cell_type": "markdown",
      "source": [
        "**Ans**: No, we cannot create an instance of an abstract class in Python.\n",
        "**Why?**\n",
        "An abstract class is a blueprint for other classes and is meant to be incomplete. It contains one or more abstract methods (methods without implementation), which must be implemented in derived classes.\n",
        "\n",
        "In Python, abstract classes are created using the abc (Abstract Base Class) module.\n",
        "\n",
        "If you try to instantiate an abstract class, Python will raise a TypeError."
      ],
      "metadata": {
        "id": "5D6WPn9k71Bg"
      }
    },
    {
      "cell_type": "code",
      "source": [
        "# Example: Attempting to Create an Instance of an Abstract Class\n",
        "\n",
        "from abc import ABC, abstractmethod\n",
        "\n",
        "# Abstract Class\n",
        "class Animal(ABC):\n",
        "    @abstractmethod\n",
        "    def make_sound(self):\n",
        "        pass  # Abstract method with no implementation\n",
        "\n",
        "# Trying to create an instance of Animal\n",
        "animal = Animal()  # ❌ TypeError: Can't instantiate abstract class Animal with abstract method make_sound\n",
        "\n"
      ],
      "metadata": {
        "colab": {
          "base_uri": "https://localhost:8080/",
          "height": 193
        },
        "id": "2kvCg2uN73Fq",
        "outputId": "2911fc36-e785-4cac-eb70-99206978040f"
      },
      "execution_count": 8,
      "outputs": [
        {
          "output_type": "error",
          "ename": "TypeError",
          "evalue": "Can't instantiate abstract class Animal with abstract method make_sound",
          "traceback": [
            "\u001b[0;31m---------------------------------------------------------------------------\u001b[0m",
            "\u001b[0;31mTypeError\u001b[0m                                 Traceback (most recent call last)",
            "\u001b[0;32m<ipython-input-8-15908580d875>\u001b[0m in \u001b[0;36m<cell line: 0>\u001b[0;34m()\u001b[0m\n\u001b[1;32m     10\u001b[0m \u001b[0;34m\u001b[0m\u001b[0m\n\u001b[1;32m     11\u001b[0m \u001b[0;31m# Trying to create an instance of Animal\u001b[0m\u001b[0;34m\u001b[0m\u001b[0;34m\u001b[0m\u001b[0m\n\u001b[0;32m---> 12\u001b[0;31m \u001b[0manimal\u001b[0m \u001b[0;34m=\u001b[0m \u001b[0mAnimal\u001b[0m\u001b[0;34m(\u001b[0m\u001b[0;34m)\u001b[0m  \u001b[0;31m# ❌ TypeError: Can't instantiate abstract class Animal with abstract method make_sound\u001b[0m\u001b[0;34m\u001b[0m\u001b[0;34m\u001b[0m\u001b[0m\n\u001b[0m\u001b[1;32m     13\u001b[0m \u001b[0;34m\u001b[0m\u001b[0m\n",
            "\u001b[0;31mTypeError\u001b[0m: Can't instantiate abstract class Animal with abstract method make_sound"
          ]
        }
      ]
    },
    {
      "cell_type": "code",
      "source": [],
      "metadata": {
        "id": "YNajxtGo8SSm"
      },
      "execution_count": null,
      "outputs": []
    }
  ]
}