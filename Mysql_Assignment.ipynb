{
  "nbformat": 4,
  "nbformat_minor": 0,
  "metadata": {
    "colab": {
      "provenance": []
    },
    "kernelspec": {
      "name": "python3",
      "display_name": "Python 3"
    },
    "language_info": {
      "name": "python"
    }
  },
  "cells": [
    {
      "cell_type": "markdown",
      "source": [
        "**Q1. What is a database? Differentiate between SQL and NoSQL databases.**"
      ],
      "metadata": {
        "id": "pX-egWbIT8Yu"
      }
    },
    {
      "cell_type": "markdown",
      "source": [
        "**What is a Database?**\n",
        "A database is a structured system for storing, managing, and retrieving data efficiently. It helps organize data in a way that allows easy access, updating, and security. Databases are widely used in applications ranging from small websites to large enterprise systems.\n",
        "\n",
        "**Difference Between SQL and NoSQL Databases**\n",
        "\n",
        "**1. Definition**\n",
        "\n",
        "**SQL Databases**: Structured databases that store data in tables with predefined relationships.\n",
        "\n",
        "**NoSQL Databases**: Non-relational databases designed for flexible and scalable data storage.\n",
        "\n",
        "**2. Data Structure**\n",
        "\n",
        "**SQL**: Uses tables with rows and columns (structured format).\n",
        "\n",
        "**NoSQL**: Uses flexible formats such as key-value pairs, documents, graphs, or wide-column stores.\n",
        "\n",
        "**3. Schema**\n",
        "\n",
        "SQL: Requires a fixed schema; data must fit predefined columns and types.\n",
        "\n",
        "NoSQL: Schema-less or dynamic schema, allowing flexibility in data storage\n",
        "\n",
        "**4. Scalability**\n",
        "\n",
        "SQL: Typically scales vertically (adding more power to a single server).\n",
        "\n",
        "NoSQL: Scales horizontally (distributes data across multiple servers).\n",
        "\n",
        "**5. ACID vs. BASE**\n",
        "\n",
        "SQL: Follows ACID properties (Atomicity, Consistency, Isolation, Durability) for reliable transactions.\n",
        "\n",
        "NoSQL: Follows BASE principles (Basically Available, Soft-state, Eventually consistent) for performance and scalability.\n",
        "\n",
        "**6. Query Language**\n",
        "\n",
        "SQL: Uses Structured Query Language (SQL) for queries.\n",
        "\n",
        "NoSQL: Uses database-specific queries (e.g., MongoDB uses JSON-like queries).\n",
        "\n",
        "**7. Best Use Cases**\n",
        "SQL: Suitable for applications requiring high consistency, such as banking, finance, and ERP systems.\n",
        "\n",
        "NoSQL: Best for handling large-scale data, real-time applications, and big data analytics.\n",
        "\n",
        "**8. Examples**\n",
        "\n",
        "SQL: MySQL, PostgreSQL, SQL Server, Oracle.\n",
        "\n",
        "NoSQL: MongoDB, Cassandra, Redis, Firebase."
      ],
      "metadata": {
        "id": "scsM--TQURhs"
      }
    },
    {
      "cell_type": "code",
      "source": [],
      "metadata": {
        "id": "oyGxvRYxUVcf"
      },
      "execution_count": null,
      "outputs": []
    },
    {
      "cell_type": "markdown",
      "source": [
        "**Q2. What is DDL? Explain why CREATE, DROP, ALTER, and TRUNCATE are used with an example.**"
      ],
      "metadata": {
        "id": "SOipWWe6VPGi"
      }
    },
    {
      "cell_type": "code",
      "source": [],
      "metadata": {
        "id": "nxANsyIlVTle"
      },
      "execution_count": null,
      "outputs": []
    },
    {
      "cell_type": "markdown",
      "source": [
        "**What is DDL (Data Definition Language)?**\n",
        "\n",
        "DDL (Data Definition Language) is a subset of SQL that is used to define, modify, and manage database structures like tables, schemas, indexes, and constraints. DDL commands do not manipulate data but rather define how data is stored.\n",
        "\n",
        "**Key DDL Commands with Examples:**\n",
        "\n",
        "**1. CREATE**\n",
        "\n",
        "The CREATE command is used to create new database objects such as databases, tables, indexes, or views\n",
        "\n",
        "**Example:** Creating a Table\n",
        "\n",
        "CREATE TABLE Employees (\n",
        "    ID INT PRIMARY KEY,\n",
        "    Name VARCHAR(50),\n",
        "    Age INT,\n",
        "    Salary DECIMAL(10,2)\n",
        ");\n",
        "\n",
        "**2. DROP**\n",
        "\n",
        "The DROP command is used to delete a database object (such as a table, view, or database) permanently.\n",
        "\n",
        "Example: DROP TABLE Employees;\n",
        "\n",
        "**3. ALTER**\n",
        "\n",
        "The ALTER command is used to modify an existing database object, such as adding, deleting, or modifying columns in a table.\n",
        "\n",
        "Example: Adding a Column\n",
        "\n",
        "ALTER TABLE Employees ADD Email VARCHAR(100);\n",
        "\n",
        "**4. TRUNCATE**\n",
        "\n",
        "The TRUNCATE command removes all rows from a table but keeps the table structure intact.\n",
        "\n",
        "Example: Truncating a Table\n",
        "\n",
        "TRUNCATE TABLE Employees;"
      ],
      "metadata": {
        "id": "T62___FcVUFG"
      }
    },
    {
      "cell_type": "code",
      "source": [],
      "metadata": {
        "id": "Y9IsPHmJWSC-"
      },
      "execution_count": null,
      "outputs": []
    },
    {
      "cell_type": "markdown",
      "source": [
        "**Q3. What is DML? Explain INSERT, UPDATE, and DELETE with an example.**"
      ],
      "metadata": {
        "id": "olYvpS9nWS-S"
      }
    },
    {
      "cell_type": "markdown",
      "source": [
        "**What is DML (Data Manipulation Language)?**\n",
        "\n",
        "DML (Data Manipulation Language) is a subset of SQL used to manipulate data stored in a database. It includes commands that allow users to insert, update, delete, and retrieve data from tables.\n",
        "\n",
        "Unlike DDL (Data Definition Language), which defines database structure, DML focuses on handling the data itself.\n",
        "\n",
        "**Key DML Commands with Examples**\n",
        "\n",
        "**1. INSERT (Adding Data to a Table)**\n",
        "The INSERT command is used to add new records into a table.\n",
        "\n",
        "Example: Inserting a Single Record\n",
        "\n",
        "INSERT INTO Employees (ID, Name, Age, Salary)\n",
        "VALUES (1, 'John Doe', 30, 50000);\n",
        "\n",
        "**2. UPDATE (Modifying Existing Data)**\n",
        "The UPDATE command modifies existing records in a table.\n",
        "\n",
        "Example: Updating a Single Record\n",
        "\n",
        "UPDATE Employees\n",
        "SET Salary = 65000\n",
        "WHERE ID = 1;\n",
        "\n",
        "**3. DELETE (Removing Data from a Table)**\n",
        "The DELETE command removes specific records from a table.\n",
        "\n",
        "Example: Deleting a Single Record\n",
        "\n",
        "DELETE FROM Employees\n",
        "WHERE ID = 3;"
      ],
      "metadata": {
        "id": "Ne1baMRjWd9E"
      }
    },
    {
      "cell_type": "code",
      "source": [],
      "metadata": {
        "id": "SSdZuwinW62z"
      },
      "execution_count": null,
      "outputs": []
    },
    {
      "cell_type": "markdown",
      "source": [
        "**Q4. What is DQL? Explain SELECT with an example.**"
      ],
      "metadata": {
        "id": "kq-9VPy5W9if"
      }
    },
    {
      "cell_type": "markdown",
      "source": [
        "**What is DQL?**\n",
        "\n",
        "**DQL (Data Query Language)** is a subset of SQL used only to query and fetch data from the database.\n",
        "It is mainly used to retrieve data from one or more tables in a structured format.\n",
        "\n",
        "**DQL has only one command** → SELECT\n",
        "This command is used to fetch data based on conditions, filters, or requirements.\n",
        "\n",
        "**SELECT Command Explanation**\n",
        "\n",
        "The SELECT statement is used to retrieve data from one or more tables in a database.\n",
        "\n",
        "SELECT column1, column2, ...\n",
        "FROM table_name\n",
        "WHERE condition;\n",
        "\n",
        "Example 1: Fetch All Columns\n",
        "\n",
        "SELECT * FROM Employees;\n",
        "This will fetch all columns and all records from the Employees table.\n",
        "\n"
      ],
      "metadata": {
        "id": "WlorUbPpYY5U"
      }
    },
    {
      "cell_type": "code",
      "source": [],
      "metadata": {
        "id": "jiQYld8_Y0S5"
      },
      "execution_count": null,
      "outputs": []
    },
    {
      "cell_type": "markdown",
      "source": [
        "**Q5. Explain Primary Key and Foreign Key.**"
      ],
      "metadata": {
        "id": "aEW28FJ0Y9kd"
      }
    },
    {
      "cell_type": "markdown",
      "source": [
        "**Primary Key**\n",
        "\n",
        "A Primary Key (PK) is a unique identifier for a record in a table.\n",
        "Each table can have only one primary key, and its values must be unique and not NULL.\n",
        "\n",
        "**Properties of Primary Key**\n",
        "\n",
        "**Uniqueness** → No duplicate values allowed.\n",
        "\n",
        "**Not NULL** → Cannot have NULL values.\n",
        "\n",
        "**Only one per table **→ A table can have only one primary key.\n",
        "\n",
        "**Example: Employees Table**\n",
        "\n",
        "CREATE TABLE Employees (\n",
        "    EmployeeID INT PRIMARY KEY,  -- Unique Identifier\n",
        "    Name VARCHAR(50),\n",
        "    Age INT,\n",
        "    Department VARCHAR(50)\n",
        ");\n",
        "\n",
        "**Foreign Key**\n",
        "\n",
        "A Foreign Key (FK) is a column that establishes a relationship between two tables. It refers to the Primary Key of another table.\n",
        "\n",
        "**Properties of Foreign Key**\n",
        "\n",
        "Creates a link between two tables.\n",
        "\n",
        "Can have duplicate values (many employees can belong to the same department).\n",
        "\n",
        "Can have NULL values if the relationship is optional.\n",
        "\n",
        "**Example:** Employees and Departments Table\n",
        "\n",
        "CREATE TABLE Departments (\n",
        "    DeptID INT PRIMARY KEY,  -- Primary Key\n",
        "    DeptName VARCHAR(50)\n",
        ");\n",
        "\n",
        "CREATE TABLE Employees (\n",
        "    EmployeeID INT PRIMARY KEY,\n",
        "    Name VARCHAR(50),\n",
        "    Age INT,\n",
        "    DeptID INT,  -- Foreign Key referencing Departments table\n",
        "    FOREIGN KEY (DeptID) REFERENCES Departments(DeptID)\n",
        ");\n"
      ],
      "metadata": {
        "id": "FtiQfEQvZDp0"
      }
    },
    {
      "cell_type": "code",
      "source": [],
      "metadata": {
        "id": "NMtJCGM7Zoks"
      },
      "execution_count": null,
      "outputs": []
    },
    {
      "cell_type": "markdown",
      "source": [
        "**Q6. Write a python code to connect MySQL to python. Explain the cursor() and execute() method.**"
      ],
      "metadata": {
        "id": "mwIlgUyKdOtQ"
      }
    },
    {
      "cell_type": "markdown",
      "source": [
        "**Connecting MySQL to Python**\n",
        "\n",
        "To connect MySQL to Python, we use the mysql.connector module.\n",
        "\n"
      ],
      "metadata": {
        "id": "b0Kj2-8N0QCX"
      }
    },
    {
      "cell_type": "code",
      "source": [
        "import mysql.connector\n",
        "\n",
        "# Step 1: Establish Connection\n",
        "conn = mysql.connector.connect(\n",
        "    host=\"localhost\",      # MySQL Server Host\n",
        "    user=\"root\",           # MySQL Username\n",
        "    password=\"password\",   # MySQL Password\n",
        "    database=\"test_db\"     # Database Name\n",
        ")\n",
        "\n",
        "# Step 2: Create Cursor Object\n",
        "cursor = conn.cursor()\n",
        "\n",
        "# Step 3: Create a Table (if not exists)\n",
        "cursor.execute(\"\"\"\n",
        "    CREATE TABLE IF NOT EXISTS students (\n",
        "        id INT AUTO_INCREMENT PRIMARY KEY,\n",
        "        name VARCHAR(100),\n",
        "        age INT\n",
        "    )\n",
        "\"\"\")\n",
        "\n",
        "print(\"Table Created Successfully!\")\n",
        "\n",
        "# Step 4: Insert Data into Table\n",
        "cursor.execute(\"INSERT INTO students (name, age) VALUES (%s, %s)\", (\"John Doe\", 21))\n",
        "conn.commit()  # Save changes\n",
        "\n",
        "print(\"Data Inserted Successfully!\")\n",
        "\n",
        "# Step 5: Fetch Data from Table\n",
        "cursor.execute(\"SELECT * FROM students\")\n",
        "rows = cursor.fetchall()\n",
        "\n",
        "print(\"Student Records:\")\n",
        "for row in rows:\n",
        "    print(row)\n",
        "\n",
        "# Step 6: Close Connection\n",
        "cursor.close()\n",
        "conn.close()\n"
      ],
      "metadata": {
        "colab": {
          "base_uri": "https://localhost:8080/",
          "height": 383
        },
        "id": "u_-cEjeP1hKU",
        "outputId": "2cc94ea7-3888-4bd7-f08f-82af76e526bd"
      },
      "execution_count": 1,
      "outputs": [
        {
          "output_type": "error",
          "ename": "ModuleNotFoundError",
          "evalue": "No module named 'mysql'",
          "traceback": [
            "\u001b[0;31m---------------------------------------------------------------------------\u001b[0m",
            "\u001b[0;31mModuleNotFoundError\u001b[0m                       Traceback (most recent call last)",
            "\u001b[0;32m<ipython-input-1-795de5dad4e7>\u001b[0m in \u001b[0;36m<cell line: 0>\u001b[0;34m()\u001b[0m\n\u001b[0;32m----> 1\u001b[0;31m \u001b[0;32mimport\u001b[0m \u001b[0mmysql\u001b[0m\u001b[0;34m.\u001b[0m\u001b[0mconnector\u001b[0m\u001b[0;34m\u001b[0m\u001b[0;34m\u001b[0m\u001b[0m\n\u001b[0m\u001b[1;32m      2\u001b[0m \u001b[0;34m\u001b[0m\u001b[0m\n\u001b[1;32m      3\u001b[0m \u001b[0;31m# Step 1: Establish Connection\u001b[0m\u001b[0;34m\u001b[0m\u001b[0;34m\u001b[0m\u001b[0m\n\u001b[1;32m      4\u001b[0m conn = mysql.connector.connect(\n\u001b[1;32m      5\u001b[0m     \u001b[0mhost\u001b[0m\u001b[0;34m=\u001b[0m\u001b[0;34m\"localhost\"\u001b[0m\u001b[0;34m,\u001b[0m      \u001b[0;31m# MySQL Server Host\u001b[0m\u001b[0;34m\u001b[0m\u001b[0;34m\u001b[0m\u001b[0m\n",
            "\u001b[0;31mModuleNotFoundError\u001b[0m: No module named 'mysql'",
            "",
            "\u001b[0;31m---------------------------------------------------------------------------\u001b[0;32m\nNOTE: If your import is failing due to a missing package, you can\nmanually install dependencies using either !pip or !apt.\n\nTo view examples of installing some common dependencies, click the\n\"Open Examples\" button below.\n\u001b[0;31m---------------------------------------------------------------------------\u001b[0m\n"
          ],
          "errorDetails": {
            "actions": [
              {
                "action": "open_url",
                "actionText": "Open Examples",
                "url": "/notebooks/snippets/importing_libraries.ipynb"
              }
            ]
          }
        }
      ]
    },
    {
      "cell_type": "markdown",
      "source": [
        "**cursor() Method**\n",
        "Creates a cursor object to execute SQL queries.\n",
        "\n",
        "Acts as an interface between Python and MySQL.\n",
        "\n",
        "cursor = conn.cursor()\n",
        "\n",
        "Always close the cursor after use:\n",
        "cursor.close()\n",
        "\n",
        "\n",
        "**execute() Method**\n",
        "\n",
        "Runs SQL queries like CREATE TABLE, INSERT, SELECT.\n",
        "\n",
        "cursor.execute(\"SQL_QUERY\")\n",
        "For queries returning results:\n",
        "result = cursor.fetchall()  # Fetch all rows\n"
      ],
      "metadata": {
        "id": "nTX-o21d1xdm"
      }
    },
    {
      "cell_type": "code",
      "source": [],
      "metadata": {
        "id": "FlG6nuyZ2Ko3"
      },
      "execution_count": null,
      "outputs": []
    },
    {
      "cell_type": "markdown",
      "source": [
        "**Q7. Give the order of execution of SQL clauses in an SQL query.**\n",
        "\n"
      ],
      "metadata": {
        "id": "CgPP9fk02X8H"
      }
    },
    {
      "cell_type": "markdown",
      "source": [
        "**Ans. **\n",
        "When executing an SQL query, SQL follows a specific order of execution of clauses, which is different from the order in which they are written.\n",
        "\n",
        "**Order of Execution:**\n",
        "\n",
        "1. FROM - Specifies the table to retrieve data from.\n",
        "\n",
        "2. JOIN - Combines data from multiple tables if required.\n",
        "\n",
        "3. WHERE - Filters the data based on conditions.\n",
        "\n",
        "4. GROUP BY - Groups the filtered data based on specified columns.\n",
        "\n",
        "5. HAVING - Filters grouped data based on conditions.\n",
        "\n",
        "6. SELECT - Selects the columns to be retrieved.\n",
        "\n",
        "7. DISTINCT - Removes duplicate records from the selected results.\n",
        "\n",
        "8. ORDER BY - Sorts the results based on specified columns.\n",
        "\n",
        "9. LIMIT / OFFSET - Restricts the number of rows returned."
      ],
      "metadata": {
        "id": "t6T1gElD2mFW"
      }
    },
    {
      "cell_type": "code",
      "source": [],
      "metadata": {
        "id": "q87prZEl3PfJ"
      },
      "execution_count": null,
      "outputs": []
    }
  ]
}