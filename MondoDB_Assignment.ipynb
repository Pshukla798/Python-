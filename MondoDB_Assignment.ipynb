{
  "nbformat": 4,
  "nbformat_minor": 0,
  "metadata": {
    "colab": {
      "provenance": []
    },
    "kernelspec": {
      "name": "python3",
      "display_name": "Python 3"
    },
    "language_info": {
      "name": "python"
    }
  },
  "cells": [
    {
      "cell_type": "markdown",
      "source": [
        "**Q1. What is MongoDB? Explain non-relational databases in short. In which scenarios it is preferred to use MongoDB over SQL databases?**"
      ],
      "metadata": {
        "id": "y5DnKzwu733k"
      }
    },
    {
      "cell_type": "markdown",
      "source": [
        "**What is MongoDB?**\n",
        "\n",
        "MongoDB is a NoSQL database that stores data in a JSON-like format called BSON (Binary JSON). It is a document-oriented database that allows flexible and scalable data storage.\n",
        "\n",
        "**Key Features of MongoDB:**\n",
        "\n",
        "Schema-less: No fixed table structure; each document can have a different structure.\n",
        "Scalability: Supports horizontal scaling (sharding) to handle large data volumes.\n",
        "High Performance: Faster read/write operations compared to traditional SQL databases.\n",
        "Supports Replication: Provides high availability through replica sets.\n",
        "Flexible Querying: Supports queries similar to SQL (find, aggregate) but in JSON format.\n",
        "\n",
        "**What are Non-Relational Databases?**\n",
        "\n",
        "Non-relational (NoSQL) databases do not use tables and rows like traditional SQL databases. Instead, they use various data models, including:\n",
        "Document-based (MongoDB, CouchDB) - Stores data as JSON-like documents.\n",
        "Key-Value Store (Redis, DynamoDB) - Stores data as key-value pairs.\n",
        "Column-Family (Cassandra, HBase) - Stores data in columns instead of rows.\n",
        "Graph Databases (Neo4j, ArangoDB) - Stores data as nodes and edges for relationships.\n",
        "\n",
        " *NoSQL databases are best suited for unstructured or semi-structured data, whereas SQL databases are best for structured data with relationships.*\n",
        "\n",
        " **Scenarios Where MongoDB is Preferred Over SQL Databases**\n",
        "\n",
        " MongoDB is a NoSQL database that provides high flexibility, scalability, and performance. It is preferred over SQL databases in the following scenarios:\n",
        "\n",
        "** 1.  When You Need a Flexible Schema**\n",
        "\n",
        "MongoDB is preferred when data structure varies across records and does not require a strict schema.\n",
        "\n",
        " **Example:** E-commerce platforms where product details (name, size, color, specifications) may differ across categories\n",
        "\n",
        "{\n",
        "   \"product_name\": \"Laptop\",\n",
        "   \"brand\": \"Dell\",\n",
        "   \"specs\": { \"RAM\": \"16GB\", \"Processor\": \"Intel i7\" }\n",
        "}\n",
        "{\n",
        "   \"product_name\": \"Smartphone\",\n",
        "   \"brand\": \"Samsung\",\n",
        "   \"specs\": { \"Camera\": \"108MP\", \"Battery\": \"5000mAh\" }\n",
        "}\n",
        "\n",
        "In SQL, a fixed schema is required, making it harder to store dynamic fields.\n",
        "\n",
        "**2. When Scalability is a Priority**\n",
        "\n",
        "MongoDB supports horizontal scaling (sharding), making it suitable for handling large-scale data and high traffic.\n",
        " Example: Social media platforms like Facebook, Twitter, or Instagram, where user-generated content grows exponentially.\n",
        "\n",
        "SQL databases require vertical scaling, which is often expensive and has hardware limitations.\n",
        "\n",
        "**3. When High-Speed Read and Write Operations are Needed**\n",
        "\n",
        " MongoDB provides high-speed read/write performance due to its document-based storage.\n",
        "Example: Real-time analytics applications, where millions of data points are ingested and queried rapidly.\n",
        " Example: IoT applications, where sensor data is continuously collected and processed.\n",
        "\n",
        " MongoDB handles high-volume data ingestion better than SQL databases.\n",
        "\n",
        "** 4. When Handling Large and Unstructured Data**\n",
        "\n",
        "MongoDB efficiently handles unstructured or semi-structured data, like images, videos, logs, and metadata.\n",
        "Example: Streaming platforms (YouTube, Netflix) that store metadata for videos, thumbnails, and user preferences.\n",
        "\n",
        "SQL databases struggle with storing large multimedia files efficiently.\n",
        "\n",
        "**5. When You Need Quick Iteration and Agile Development**\n",
        "\n",
        "MongoDB allows fast development cycles by eliminating the need to modify schemas frequently.\n",
        "Example: Startups and fast-growing applications that frequently change database structures without downtime.\n",
        "\n",
        "SQL databases require strict schema changes, which slow down development.\n",
        "\n",
        "**6. When Data Relationships Are Not Complex**\n",
        "\n",
        "MongoDB works best when data relationships are minimal or can be handled within documents.\n",
        "Example: Product catalog in an e-commerce website, where each product has its details in a single document.\n",
        "\n",
        "SQL databases are better for applications with complex relationships, like banking systems or inventory management.\n"
      ],
      "metadata": {
        "id": "994QE7lf7_5y"
      }
    },
    {
      "cell_type": "code",
      "source": [],
      "metadata": {
        "id": "gqeyK_KU8C3R"
      },
      "execution_count": null,
      "outputs": []
    },
    {
      "cell_type": "markdown",
      "source": [
        "**Q2. State and Explain the features of MongoDB.**"
      ],
      "metadata": {
        "id": "8E34KdUt-PLG"
      }
    },
    {
      "cell_type": "markdown",
      "source": [
        "**Ans:**\n",
        "\n",
        "MongoDB is a NoSQL database that offers high scalability, flexibility, and performance. It is widely used for handling large volumes of unstructured and semi-structured data.\n",
        "\n",
        "**Features of MongoDB :**\n",
        "\n",
        "1. Schema-less – No fixed structure, flexible document model.\n",
        "2.  Document-Oriented – Stores data in BSON (JSON-like) format.\n",
        "3.  High Performance – Fast read/write operations.\n",
        "4. Scalability – Supports horizontal scaling (Sharding).\n",
        "5. Replication – Ensures high availability using replica sets.\n",
        "6. Indexing – Speeds up queries automatically.\n",
        "7. Aggregation Framework – Performs complex queries like SQL’s GROUP BY.\n",
        "8. Geospatial Queries – Built-in support for location-based data.\n",
        "9. Ad-Hoc Queries – Dynamic querying without schema changes.\n",
        "\n",
        "\n"
      ],
      "metadata": {
        "id": "DRjZQE4Q-xwt"
      }
    },
    {
      "cell_type": "code",
      "source": [],
      "metadata": {
        "id": "8TH13Cll-04U"
      },
      "execution_count": null,
      "outputs": []
    },
    {
      "cell_type": "markdown",
      "source": [
        "**Q3. Write a code to connect MongoDB to Python. Also, create a database and a collection in MongoDB.**"
      ],
      "metadata": {
        "id": "yjXi1i10_h4p"
      }
    },
    {
      "cell_type": "markdown",
      "source": [
        "**Ans: **\n",
        "\n",
        "**Python Code to Connect MongoDB and Create a Database & Collection**\n",
        "\n",
        "pip install pymongo   #Install pymongo (MongoDB driver for Python) using:\n",
        "\n",
        "import pymongo\n",
        "\n",
        "# Step 1: Connect to MongoDB (Ensure MongoDB server is running)\n",
        "client = pymongo.MongoClient(\"mongodb://localhost:27017/\")\n",
        "\n",
        "# Step 2: Create a Database\n",
        "db = client[\"MyDatabase\"]\n",
        "\n",
        "# Step 3: Create a Collection (Table equivalent in SQL)\n",
        "collection = db[\"MyCollection\"]\n",
        "\n",
        "# Step 4: Insert a Sample Document (Row equivalent in SQL)\n",
        "sample_data = {\"name\": \"John\", \"age\": 25, \"city\": \"New York\"}\n",
        "collection.insert_one(sample_data)\n",
        "\n",
        "print(\"MongoDB Connected, Database and Collection Created Successfully!\")\n"
      ],
      "metadata": {
        "id": "XzdSUx8s_nrL"
      }
    },
    {
      "cell_type": "code",
      "source": [],
      "metadata": {
        "id": "6GDzUNoA_987"
      },
      "execution_count": null,
      "outputs": []
    },
    {
      "cell_type": "markdown",
      "source": [
        "**Q4. Using the database and the collection created in question number 3, write a code to insert one record,and insert many records. Use the find() and find_one() methods to print the inserted record.**"
      ],
      "metadata": {
        "id": "8V4EY0qaAOIq"
      }
    },
    {
      "cell_type": "code",
      "source": [
        "import pymongo\n",
        "\n",
        "# Step 1: Connect to MongoDB\n",
        "client = pymongo.MongoClient(\"mongodb://localhost:27017/\")\n",
        "db = client[\"MyDatabase\"]  # Use the existing database\n",
        "collection = db[\"MyCollection\"]  # Use the existing collection\n",
        "\n",
        "# Step 2: Insert One Record\n",
        "one_record = {\"name\": \"Alice\", \"age\": 28, \"city\": \"Los Angeles\"}\n",
        "insert_one_result = collection.insert_one(one_record)\n",
        "print(\"Inserted One Record ID:\", insert_one_result.inserted_id)\n",
        "\n",
        "# Step 3: Insert Multiple Records\n",
        "many_records = [\n",
        "    {\"name\": \"Bob\", \"age\": 30, \"city\": \"Chicago\"},\n",
        "    {\"name\": \"Charlie\", \"age\": 35, \"city\": \"Houston\"},\n",
        "    {\"name\": \"David\", \"age\": 40, \"city\": \"San Francisco\"}\n",
        "]\n",
        "insert_many_result = collection.insert_many(many_records)\n",
        "print(\"Inserted Multiple Record IDs:\", insert_many_result.inserted_ids)\n",
        "\n",
        "# Step 4: Find One Record\n",
        "print(\"\\nOne Record Found:\", collection.find_one())\n",
        "\n",
        "# Step 5: Find All Records\n",
        "print(\"\\nAll Records in Collection:\")\n",
        "for record in collection.find():\n",
        "    print(record)"
      ],
      "metadata": {
        "colab": {
          "base_uri": "https://localhost:8080/",
          "height": 383
        },
        "id": "rKpztkm9AStf",
        "outputId": "19caa9ea-0650-472e-ff9c-010b7c9d846f"
      },
      "execution_count": 1,
      "outputs": [
        {
          "output_type": "error",
          "ename": "ModuleNotFoundError",
          "evalue": "No module named 'pymongo'",
          "traceback": [
            "\u001b[0;31m---------------------------------------------------------------------------\u001b[0m",
            "\u001b[0;31mModuleNotFoundError\u001b[0m                       Traceback (most recent call last)",
            "\u001b[0;32m<ipython-input-1-6ceb83d5c6cf>\u001b[0m in \u001b[0;36m<cell line: 0>\u001b[0;34m()\u001b[0m\n\u001b[0;32m----> 1\u001b[0;31m \u001b[0;32mimport\u001b[0m \u001b[0mpymongo\u001b[0m\u001b[0;34m\u001b[0m\u001b[0;34m\u001b[0m\u001b[0m\n\u001b[0m\u001b[1;32m      2\u001b[0m \u001b[0;34m\u001b[0m\u001b[0m\n\u001b[1;32m      3\u001b[0m \u001b[0;31m# Step 1: Connect to MongoDB\u001b[0m\u001b[0;34m\u001b[0m\u001b[0;34m\u001b[0m\u001b[0m\n\u001b[1;32m      4\u001b[0m \u001b[0mclient\u001b[0m \u001b[0;34m=\u001b[0m \u001b[0mpymongo\u001b[0m\u001b[0;34m.\u001b[0m\u001b[0mMongoClient\u001b[0m\u001b[0;34m(\u001b[0m\u001b[0;34m\"mongodb://localhost:27017/\"\u001b[0m\u001b[0;34m)\u001b[0m\u001b[0;34m\u001b[0m\u001b[0;34m\u001b[0m\u001b[0m\n\u001b[1;32m      5\u001b[0m \u001b[0mdb\u001b[0m \u001b[0;34m=\u001b[0m \u001b[0mclient\u001b[0m\u001b[0;34m[\u001b[0m\u001b[0;34m\"MyDatabase\"\u001b[0m\u001b[0;34m]\u001b[0m  \u001b[0;31m# Use the existing database\u001b[0m\u001b[0;34m\u001b[0m\u001b[0;34m\u001b[0m\u001b[0m\n",
            "\u001b[0;31mModuleNotFoundError\u001b[0m: No module named 'pymongo'",
            "",
            "\u001b[0;31m---------------------------------------------------------------------------\u001b[0;32m\nNOTE: If your import is failing due to a missing package, you can\nmanually install dependencies using either !pip or !apt.\n\nTo view examples of installing some common dependencies, click the\n\"Open Examples\" button below.\n\u001b[0;31m---------------------------------------------------------------------------\u001b[0m\n"
          ],
          "errorDetails": {
            "actions": [
              {
                "action": "open_url",
                "actionText": "Open Examples",
                "url": "/notebooks/snippets/importing_libraries.ipynb"
              }
            ]
          }
        }
      ]
    },
    {
      "cell_type": "markdown",
      "source": [],
      "metadata": {
        "id": "jmtpdtJzAXFS"
      }
    },
    {
      "cell_type": "markdown",
      "source": [
        "**Q5. Explain how you can use the find() method to query the MongoDB database. Write a simple code to demonstrate this.**"
      ],
      "metadata": {
        "id": "AUJXsOJlAgTt"
      }
    },
    {
      "cell_type": "markdown",
      "source": [
        "**Ans:**\n",
        "\n",
        "The find() method is used to retrieve multiple documents from a MongoDB collection. It allows us to filter, sort, and limit the data returned"
      ],
      "metadata": {
        "id": "DT07viTQBhMc"
      }
    },
    {
      "cell_type": "code",
      "source": [
        "# Example:\n",
        "\n",
        "import pymongo\n",
        "\n",
        "# Step 1: Connect to MongoDB\n",
        "client = pymongo.MongoClient(\"mongodb://localhost:27017/\")\n",
        "db = client[\"MyDatabase\"]  # Use the existing database\n",
        "collection = db[\"MyCollection\"]  # Use the existing collection\n",
        "\n",
        "# Step 2: Insert Sample Data (If Collection is Empty)\n",
        "if collection.count_documents({}) == 0:\n",
        "    collection.insert_many([\n",
        "        {\"name\": \"Alice\", \"age\": 28, \"city\": \"Los Angeles\"},\n",
        "        {\"name\": \"Bob\", \"age\": 30, \"city\": \"Chicago\"},\n",
        "        {\"name\": \"Charlie\", \"age\": 35, \"city\": \"Houston\"},\n",
        "        {\"name\": \"David\", \"age\": 40, \"city\": \"San Francisco\"}\n",
        "    ])\n",
        "\n",
        "# Step 3: Fetch All Documents\n",
        "print(\"\\nAll Records:\")\n",
        "for record in collection.find():\n",
        "    print(record)\n",
        "\n",
        "# Step 4: Fetch Documents with a Filter (age > 30)\n",
        "print(\"\\nRecords Where Age > 30:\")\n",
        "for record in collection.find({\"age\": {\"$gt\": 30}}):\n",
        "    print(record)\n",
        "\n",
        "# Step 5: Fetch Specific Fields (Only Name and Age)\n",
        "print(\"\\nOnly Name and Age:\")\n",
        "for record in collection.find({}, {\"_id\": 0, \"name\": 1, \"age\": 1}):\n",
        "    print(record)"
      ],
      "metadata": {
        "colab": {
          "base_uri": "https://localhost:8080/",
          "height": 383
        },
        "id": "hYv5aAMuBkTs",
        "outputId": "ab5d68f5-fbb9-4c54-9977-ebac29b9e786"
      },
      "execution_count": 2,
      "outputs": [
        {
          "output_type": "error",
          "ename": "ModuleNotFoundError",
          "evalue": "No module named 'pymongo'",
          "traceback": [
            "\u001b[0;31m---------------------------------------------------------------------------\u001b[0m",
            "\u001b[0;31mModuleNotFoundError\u001b[0m                       Traceback (most recent call last)",
            "\u001b[0;32m<ipython-input-2-6e3dc82892a9>\u001b[0m in \u001b[0;36m<cell line: 0>\u001b[0;34m()\u001b[0m\n\u001b[1;32m      1\u001b[0m \u001b[0;31m# Example:\u001b[0m\u001b[0;34m\u001b[0m\u001b[0;34m\u001b[0m\u001b[0m\n\u001b[1;32m      2\u001b[0m \u001b[0;34m\u001b[0m\u001b[0m\n\u001b[0;32m----> 3\u001b[0;31m \u001b[0;32mimport\u001b[0m \u001b[0mpymongo\u001b[0m\u001b[0;34m\u001b[0m\u001b[0;34m\u001b[0m\u001b[0m\n\u001b[0m\u001b[1;32m      4\u001b[0m \u001b[0;34m\u001b[0m\u001b[0m\n\u001b[1;32m      5\u001b[0m \u001b[0;31m# Step 1: Connect to MongoDB\u001b[0m\u001b[0;34m\u001b[0m\u001b[0;34m\u001b[0m\u001b[0m\n",
            "\u001b[0;31mModuleNotFoundError\u001b[0m: No module named 'pymongo'",
            "",
            "\u001b[0;31m---------------------------------------------------------------------------\u001b[0;32m\nNOTE: If your import is failing due to a missing package, you can\nmanually install dependencies using either !pip or !apt.\n\nTo view examples of installing some common dependencies, click the\n\"Open Examples\" button below.\n\u001b[0;31m---------------------------------------------------------------------------\u001b[0m\n"
          ],
          "errorDetails": {
            "actions": [
              {
                "action": "open_url",
                "actionText": "Open Examples",
                "url": "/notebooks/snippets/importing_libraries.ipynb"
              }
            ]
          }
        }
      ]
    },
    {
      "cell_type": "code",
      "source": [],
      "metadata": {
        "id": "18fqT7G2BvUa"
      },
      "execution_count": null,
      "outputs": []
    },
    {
      "cell_type": "markdown",
      "source": [
        "**Q6. Explain the sort() method. Give an example to demonstrate sorting in MongoDB.**"
      ],
      "metadata": {
        "id": "FstGzi4PB0cN"
      }
    },
    {
      "cell_type": "code",
      "source": [],
      "metadata": {
        "id": "Jo-mPEoPB3jP"
      },
      "execution_count": null,
      "outputs": []
    },
    {
      "cell_type": "markdown",
      "source": [
        "**MongoDB sort() Method**\n",
        "\n",
        "The sort() method in MongoDB is used to arrange documents in either ascending (1) or descending (-1) order based on a specified field.\n",
        "\n",
        "**Syntax:**\n",
        "\n",
        "collection.find().sort(\"field_name\", order)\n",
        "\n"
      ],
      "metadata": {
        "id": "4He6YcX4CDn0"
      }
    },
    {
      "cell_type": "code",
      "source": [
        "# Example :\n",
        "\n",
        "import pymongo\n",
        "\n",
        "# Step 1: Connect to MongoDB\n",
        "client = pymongo.MongoClient(\"mongodb://localhost:27017/\")\n",
        "db = client[\"MyDatabase\"]  # Use or create the database\n",
        "collection = db[\"MyCollection\"]  # Use or create the collection\n",
        "\n",
        "# Step 2: Insert Sample Data (if collection is empty)\n",
        "if collection.count_documents({}) == 0:\n",
        "    collection.insert_many([\n",
        "        {\"name\": \"Alice\", \"age\": 28, \"city\": \"Los Angeles\"},\n",
        "        {\"name\": \"Bob\", \"age\": 30, \"city\": \"Chicago\"},\n",
        "        {\"name\": \"Charlie\", \"age\": 35, \"city\": \"Houston\"},\n",
        "        {\"name\": \"David\", \"age\": 40, \"city\": \"San Francisco\"}\n",
        "    ])\n",
        "\n",
        "# Step 3: Sort by Age in Ascending Order\n",
        "print(\"\\nSorted by Age (Ascending):\")\n",
        "for record in collection.find().sort(\"age\", 1):\n",
        "    print(record)\n",
        "\n",
        "# Step 4: Sort by Age in Descending Order\n",
        "print(\"\\nSorted by Age (Descending):\")\n",
        "for record in collection.find().sort(\"age\", -1):\n",
        "    print(record)\n",
        "\n",
        "# Step 5: Sort by Name in Ascending Order\n",
        "print(\"\\nSorted by Name (Ascending):\")\n",
        "for record in collection.find().sort(\"name\", 1):\n",
        "    print(record)"
      ],
      "metadata": {
        "colab": {
          "base_uri": "https://localhost:8080/",
          "height": 383
        },
        "id": "O7EaVOEqCQuu",
        "outputId": "88a3b143-b608-4503-fa76-342fb881692f"
      },
      "execution_count": 3,
      "outputs": [
        {
          "output_type": "error",
          "ename": "ModuleNotFoundError",
          "evalue": "No module named 'pymongo'",
          "traceback": [
            "\u001b[0;31m---------------------------------------------------------------------------\u001b[0m",
            "\u001b[0;31mModuleNotFoundError\u001b[0m                       Traceback (most recent call last)",
            "\u001b[0;32m<ipython-input-3-a1d5ef123b46>\u001b[0m in \u001b[0;36m<cell line: 0>\u001b[0;34m()\u001b[0m\n\u001b[1;32m      1\u001b[0m \u001b[0;31m# Example :\u001b[0m\u001b[0;34m\u001b[0m\u001b[0;34m\u001b[0m\u001b[0m\n\u001b[1;32m      2\u001b[0m \u001b[0;34m\u001b[0m\u001b[0m\n\u001b[0;32m----> 3\u001b[0;31m \u001b[0;32mimport\u001b[0m \u001b[0mpymongo\u001b[0m\u001b[0;34m\u001b[0m\u001b[0;34m\u001b[0m\u001b[0m\n\u001b[0m\u001b[1;32m      4\u001b[0m \u001b[0;34m\u001b[0m\u001b[0m\n\u001b[1;32m      5\u001b[0m \u001b[0;31m# Step 1: Connect to MongoDB\u001b[0m\u001b[0;34m\u001b[0m\u001b[0;34m\u001b[0m\u001b[0m\n",
            "\u001b[0;31mModuleNotFoundError\u001b[0m: No module named 'pymongo'",
            "",
            "\u001b[0;31m---------------------------------------------------------------------------\u001b[0;32m\nNOTE: If your import is failing due to a missing package, you can\nmanually install dependencies using either !pip or !apt.\n\nTo view examples of installing some common dependencies, click the\n\"Open Examples\" button below.\n\u001b[0;31m---------------------------------------------------------------------------\u001b[0m\n"
          ],
          "errorDetails": {
            "actions": [
              {
                "action": "open_url",
                "actionText": "Open Examples",
                "url": "/notebooks/snippets/importing_libraries.ipynb"
              }
            ]
          }
        }
      ]
    },
    {
      "cell_type": "code",
      "source": [],
      "metadata": {
        "id": "c9WEJkBLCXvO"
      },
      "execution_count": null,
      "outputs": []
    },
    {
      "cell_type": "markdown",
      "source": [
        "**Q7. Explain why delete_one(), delete_many(), and drop() is used.**"
      ],
      "metadata": {
        "id": "RfaxryDHCbwI"
      }
    },
    {
      "cell_type": "markdown",
      "source": [
        "**MongoDB Deletion Methods: delete_one(), delete_many(), and drop()**\n",
        "\n",
        "MongoDB provides different methods to remove documents and collections from a database.\n",
        "\n",
        "**1. delete_one() → Deletes a Single Document**\n",
        "\n",
        "Removes the first matching document from a collection based on the query.\n",
        "\n",
        "If multiple documents match, only one will be deleted.\n",
        "\n",
        "**Syntax:**\n",
        "\n",
        "collection.delete_one({\"field_name\": \"value\"})\n",
        "\n",
        "**2.  delete_many() → Deletes Multiple Documents**\n",
        "Removes all documents that match the given condition.\n",
        "\n",
        "**Syntax:**\n",
        "  collection.delete_many({\"field_name\": \"value\"})\n",
        "\n",
        "**3. drop() → Deletes an Entire Collection**\n",
        "\n",
        "Completely removes the collection from the database.\n",
        "\n",
        "Cannot be undone.\n",
        "\n",
        "**Syntax:**\n",
        "\n",
        "collection.drop()\n",
        "\n",
        "\n"
      ],
      "metadata": {
        "id": "6-PmdW-ACnw_"
      }
    }
  ]
}