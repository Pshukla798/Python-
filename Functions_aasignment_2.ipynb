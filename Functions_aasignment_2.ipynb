{
  "nbformat": 4,
  "nbformat_minor": 0,
  "metadata": {
    "colab": {
      "provenance": []
    },
    "kernelspec": {
      "name": "python3",
      "display_name": "Python 3"
    },
    "language_info": {
      "name": "python"
    }
  },
  "cells": [
    {
      "cell_type": "markdown",
      "source": [
        "Q1. Create a python program to sort the given list of tuples based on integer value using a\n",
        "lambda function.\n",
        "[('Sachin Tendulkar', 34357), ('Ricky Ponting', 27483), ('Jack Kallis', 25534), ('Virat Kohli', 24936)]"
      ],
      "metadata": {
        "id": "lTzNomPnb4HO"
      }
    },
    {
      "cell_type": "code",
      "source": [
        "# List of tuples (Player name, Runs)\n",
        "players = [('Sachin Tendulkar', 34357), ('Ricky Ponting', 27483), ('Jack Kallis', 25534), ('Virat Kohli', 24936)]\n",
        "\n",
        "# Sorting the list of tuples based on the second element (runs) using lambda function\n",
        "sorted_players = sorted(players, key=lambda x: x[1], reverse=True)\n",
        "\n",
        "# Printing the sorted list\n",
        "print(sorted_players)\n"
      ],
      "metadata": {
        "colab": {
          "base_uri": "https://localhost:8080/"
        },
        "id": "rE7zKFWjcDEz",
        "outputId": "46a3f13e-65b8-4dc4-8c4b-b06b62506b24"
      },
      "execution_count": 1,
      "outputs": [
        {
          "output_type": "stream",
          "name": "stdout",
          "text": [
            "[('Sachin Tendulkar', 34357), ('Ricky Ponting', 27483), ('Jack Kallis', 25534), ('Virat Kohli', 24936)]\n"
          ]
        }
      ]
    },
    {
      "cell_type": "markdown",
      "source": [
        "Q2. Write a Python Program to find the squares of all the numbers in the given list of integers using\n",
        "lambda and map functions.\n",
        "[1, 2, 3, 4, 5, 6, 7, 8, 9, 10]"
      ],
      "metadata": {
        "id": "QtBUr45dceVR"
      }
    },
    {
      "cell_type": "code",
      "source": [
        "# Ans: To find the squares of all the numbers in a list using the lambda and map functions, we can apply the\n",
        "# map() function to the list, where the lambda function will calculate the square of each number.\n",
        "\n",
        "# Given list of integers\n",
        "numbers = [1, 2, 3, 4, 5, 6, 7, 8, 9, 10]\n",
        "\n",
        "# Using lambda and map to find squares of all numbers\n",
        "squares = list(map(lambda x: x**2, numbers))\n",
        "\n",
        "# Printing the result\n",
        "print(squares)\n",
        "\n",
        "# lambda x: x**2: The lambda function takes an argument x and returns its square (x**2).\n",
        "\n",
        "# map(lambda x: x**2, numbers): The map() function applies the lambda function to each element of the list numbers.\n",
        "\n",
        "# list(map(...)): We convert the result of map() to a list, as map() returns an iterator.\"\"\"\n"
      ],
      "metadata": {
        "colab": {
          "base_uri": "https://localhost:8080/"
        },
        "id": "hBh6iOxrcmzJ",
        "outputId": "94ab77df-8f0b-41c7-c8b5-02dc6fdb1431"
      },
      "execution_count": 6,
      "outputs": [
        {
          "output_type": "stream",
          "name": "stdout",
          "text": [
            "[1, 4, 9, 16, 25, 36, 49, 64, 81, 100]\n"
          ]
        }
      ]
    },
    {
      "cell_type": "code",
      "source": [],
      "metadata": {
        "id": "0jSgzBDWcxaD"
      },
      "execution_count": null,
      "outputs": []
    },
    {
      "cell_type": "markdown",
      "source": [
        "Q3. Write a python program to convert the given list of integers into a tuple of strings. Use map and\n",
        "lambda functions\n",
        "Given String: [1, 2, 3, 4, 5, 6, 7, 8, 9, 10]\n",
        "Expected output: ('1', '2', '3', '4', '5', '6', '7', '8', '9', '10')"
      ],
      "metadata": {
        "id": "mfaal6KbdQaM"
      }
    },
    {
      "cell_type": "code",
      "source": [
        "''' lambda x: str(x): The lambda function converts each integer x to its string representation using str(x).\n",
        "\n",
        "map(lambda x: str(x), numbers): The map() function applies the lambda function to each element of the list numbers.\n",
        "\n",
        "tuple(): The tuple() function converts the result from map() into a tuple of strings.'''\n",
        "\n",
        "# Given list of integers\n",
        "numbers = [1, 2, 3, 4, 5, 6, 7, 8, 9, 10]\n",
        "\n",
        "# Using lambda and map to convert integers to strings\n",
        "string_tuple = tuple(map(lambda x: str(x), numbers))\n",
        "\n",
        "# Printing the result\n",
        "print(string_tuple)\n"
      ],
      "metadata": {
        "colab": {
          "base_uri": "https://localhost:8080/"
        },
        "id": "7P88YFnNdZRj",
        "outputId": "b4ae6d7a-7bc6-4291-9264-f2f2f8a7b998"
      },
      "execution_count": 9,
      "outputs": [
        {
          "output_type": "stream",
          "name": "stdout",
          "text": [
            "('1', '2', '3', '4', '5', '6', '7', '8', '9', '10')\n"
          ]
        }
      ]
    },
    {
      "cell_type": "code",
      "source": [],
      "metadata": {
        "id": "U7hDvXNKeQdu"
      },
      "execution_count": null,
      "outputs": []
    },
    {
      "cell_type": "markdown",
      "source": [
        "Q4. Write a python program using reduce function to compute the product of a list containing numbers\n",
        "from 1 to 25."
      ],
      "metadata": {
        "id": "nJrdoFSOejnB"
      }
    },
    {
      "cell_type": "markdown",
      "source": [
        "**Answer:**\n",
        "To compute the product of a list of numbers from 1 to 25 using the reduce() function, we need to:\n",
        "\n",
        "Import the reduce function from the functools module.\n",
        "\n",
        "Use reduce() to apply a lambda function that multiplies elements cumulatively."
      ],
      "metadata": {
        "id": "TI0pvTHDe4VB"
      }
    },
    {
      "cell_type": "code",
      "source": [
        "from functools import reduce\n",
        "\n",
        "# List of numbers from 1 to 25\n",
        "numbers = list(range(1, 26))\n",
        "\n",
        "# Using reduce to compute the product of the list\n",
        "product = reduce(lambda x, y: x * y, numbers)\n",
        "\n",
        "# Printing the result\n",
        "print(product)\n",
        "\n",
        "#\n",
        "''' Note : reduce(lambda x, y: x * y, numbers): The reduce() function takes a lambda that multiplies\n",
        "two numbers x and y. It applies this function cumulatively to the elements of the numbers list, starting from the first two numbers, then moving on to the next, and so on until all elements are multiplied together.\n",
        "\n",
        "The result is the product of all numbers in the list, from 1 to 25.\n",
        "\n",
        "The reduce() function is very useful for performing cumulative operations like this!'''\n"
      ],
      "metadata": {
        "colab": {
          "base_uri": "https://localhost:8080/",
          "height": 87
        },
        "id": "JI9xv2pte6Sr",
        "outputId": "469cd1a9-5df9-4adf-86e2-36669bf140ef"
      },
      "execution_count": 15,
      "outputs": [
        {
          "output_type": "stream",
          "name": "stdout",
          "text": [
            "15511210043330985984000000\n"
          ]
        },
        {
          "output_type": "execute_result",
          "data": {
            "text/plain": [
              "' Note : reduce(lambda x, y: x * y, numbers): The reduce() function takes a lambda that multiplies \\ntwo numbers x and y. It applies this function cumulatively to the elements of the numbers list, starting from the first two numbers, then moving on to the next, and so on until all elements are multiplied together.\\n\\nThe result is the product of all numbers in the list, from 1 to 25.\\n\\nThe reduce() function is very useful for performing cumulative operations like this!'"
            ],
            "application/vnd.google.colaboratory.intrinsic+json": {
              "type": "string"
            }
          },
          "metadata": {},
          "execution_count": 15
        }
      ]
    },
    {
      "cell_type": "code",
      "source": [],
      "metadata": {
        "id": "4gAvB56-e9tA"
      },
      "execution_count": null,
      "outputs": []
    },
    {
      "cell_type": "markdown",
      "source": [
        "Q5. Write a python program to filter the numbers in a given list that are divisible by 2 and 3 using the\n",
        "filter function.\n",
        "[2, 3, 6, 9, 27, 60, 90, 120, 55, 46]"
      ],
      "metadata": {
        "id": "WWd3fl7RfmvV"
      }
    },
    {
      "cell_type": "markdown",
      "source": [
        "**Answer**:\n",
        "To filter the numbers in a list that are divisible by both 2 and 3, we can use the filter() function in Python. The filter() function allows us to apply a filtering condition using a lambda function."
      ],
      "metadata": {
        "id": "ZY6YvPq3ftCv"
      }
    },
    {
      "cell_type": "code",
      "source": [
        "''' lambda x: x % 2 == 0 and x % 3 == 0: The lambda function checks if a number x is divisible by both 2 and 3.\n",
        "\n",
        "filter(lambda x: x % 2 == 0 and x % 3 == 0, numbers): The filter() function applies the lambda to each element in the numbers list. It returns only the numbers that satisfy the condition (divisible by 2 and 3).\n",
        "\n",
        "list(): Converts the result of filter() into a list to print the filtered numbers.'''\n",
        "\n",
        "# Given list of numbers\n",
        "numbers = [2, 3, 6, 9, 27, 60, 90, 120, 55, 46]\n",
        "\n",
        "# Using filter and lambda to filter numbers divisible by 2 and 3\n",
        "filtered_numbers = list(filter(lambda x: x % 2 == 0 and x % 3 == 0, numbers))\n",
        "\n",
        "# Printing the result\n",
        "print(filtered_numbers)\n"
      ],
      "metadata": {
        "colab": {
          "base_uri": "https://localhost:8080/"
        },
        "id": "kG4g67tYfuc4",
        "outputId": "e66a308d-3eca-4b4e-c58f-027b6528e5ce"
      },
      "execution_count": 17,
      "outputs": [
        {
          "output_type": "stream",
          "name": "stdout",
          "text": [
            "[6, 60, 90, 120]\n"
          ]
        }
      ]
    },
    {
      "cell_type": "code",
      "source": [],
      "metadata": {
        "id": "83GwZbGKgU4v"
      },
      "execution_count": null,
      "outputs": []
    },
    {
      "cell_type": "markdown",
      "source": [
        "Q6. Write a python program to find palindromes in the given list of strings using lambda and filter\n",
        "function.\n",
        "['python', 'php', 'aba', 'radar', 'level']"
      ],
      "metadata": {
        "id": "q_5J_MDFgZzw"
      }
    },
    {
      "cell_type": "markdown",
      "source": [
        "**Answer**:\n",
        "To find palindromes in a given list of strings using the lambda and filter functions, we need to:\n",
        "\n",
        "1. Check if a string is the same as its reverse (i.e., a palindrome).\n",
        "\n",
        "2. Use filter() to apply the condition to each string, and lambda to define the condition."
      ],
      "metadata": {
        "id": "bk_w5edjg7fj"
      }
    },
    {
      "cell_type": "code",
      "source": [
        "''' lambda x: x == x[::-1]: This lambda function checks if a string x is equal to its reverse (x[::-1]). The slicing technique [::-1] reverses the string.\n",
        "\n",
        "filter(lambda x: x == x[::-1], strings): The filter() function applies the lambda to each string in the list. It filters out the strings that are palindromes.\n",
        "\n",
        "list(): Converts the result of filter() into a list to print the palindromes.'''\n",
        "\n",
        "# Given list of strings\n",
        "strings = ['python', 'php', 'aba', 'radar', 'level']\n",
        "\n",
        "# Using filter and lambda to find palindromes\n",
        "palindromes = list(filter(lambda x: x == x[::-1], strings))\n",
        "\n",
        "# Printing the result\n",
        "print(palindromes)\n"
      ],
      "metadata": {
        "colab": {
          "base_uri": "https://localhost:8080/"
        },
        "id": "BEB7ltjyg9W-",
        "outputId": "fa907707-46d1-475b-ea55-a88dbece6507"
      },
      "execution_count": 20,
      "outputs": [
        {
          "output_type": "stream",
          "name": "stdout",
          "text": [
            "['php', 'aba', 'radar', 'level']\n"
          ]
        }
      ]
    },
    {
      "cell_type": "code",
      "source": [],
      "metadata": {
        "id": "qNBv_JlwhO-l"
      },
      "execution_count": null,
      "outputs": []
    }
  ]
}