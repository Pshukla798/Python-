{
  "nbformat": 4,
  "nbformat_minor": 0,
  "metadata": {
    "colab": {
      "provenance": []
    },
    "kernelspec": {
      "name": "python3",
      "display_name": "Python 3"
    },
    "language_info": {
      "name": "python"
    }
  },
  "cells": [
    {
      "cell_type": "markdown",
      "source": [
        "Q1, Create a vehicle class with an init method having instance variables as name_of_vehicle, max_speed\n",
        "and average_of_vehicle."
      ],
      "metadata": {
        "id": "5VqbUqwSootW"
      }
    },
    {
      "cell_type": "code",
      "source": [
        "''' The __init__ method initializes the instance variables:\n",
        "\n",
        "name_of_vehicle: Stores the name of the vehicle.\n",
        "\n",
        "max_speed: Stores the maximum speed of the vehicle.\n",
        "\n",
        "average_of_vehicle: Stores the mileage (fuel average) of the vehicle.\n",
        "\n",
        "The display_info() method returns the vehicle details in a readable format.\n",
        "\n",
        "We create an instance (car) of the Vehicle class and print its details.'''\n",
        "\n",
        "\n",
        "class Vehicle:\n",
        "    def __init__(self, name_of_vehicle, max_speed, average_of_vehicle):\n",
        "        self.name_of_vehicle = name_of_vehicle\n",
        "        self.max_speed = max_speed\n",
        "        self.average_of_vehicle = average_of_vehicle\n",
        "\n",
        "    def display_info(self):\n",
        "        return f\"Vehicle: {self.name_of_vehicle}, Max Speed: {self.max_speed} km/h, Average: {self.average_of_vehicle} km/l\"\n",
        "\n",
        "# Creating an object of the Vehicle class\n",
        "car = Vehicle(\"Toyota Corolla\", 180, 15)\n",
        "\n",
        "# Printing vehicle details\n",
        "print(car.display_info())\n"
      ],
      "metadata": {
        "colab": {
          "base_uri": "https://localhost:8080/"
        },
        "id": "SFpQahi4orCl",
        "outputId": "bf2d2ac2-5847-4ffc-90ce-233fd5e3c4ce"
      },
      "execution_count": 3,
      "outputs": [
        {
          "output_type": "stream",
          "name": "stdout",
          "text": [
            "Vehicle: Toyota Corolla, Max Speed: 180 km/h, Average: 15 km/l\n"
          ]
        }
      ]
    },
    {
      "cell_type": "code",
      "source": [],
      "metadata": {
        "id": "sXwEyNF3o5HT"
      },
      "execution_count": null,
      "outputs": []
    },
    {
      "cell_type": "markdown",
      "source": [
        "Q2. Create a child class car from the vehicle class created in Que 1, which will inherit the vehicle class.\n",
        "Create a method named seating_capacity which takes capacity as an argument and returns the name of\n",
        "the vehicle and its seating capacity."
      ],
      "metadata": {
        "id": "GpIkprJKpF1W"
      }
    },
    {
      "cell_type": "code",
      "source": [
        "class Vehicle:\n",
        "    def __init__(self, name_of_vehicle, max_speed, average_of_vehicle):\n",
        "        self.name_of_vehicle = name_of_vehicle\n",
        "        self.max_speed = max_speed\n",
        "        self.average_of_vehicle = average_of_vehicle\n",
        "\n",
        "    def display_info(self):\n",
        "        return f\"Vehicle: {self.name_of_vehicle}, Max Speed: {self.max_speed} km/h, Average: {self.average_of_vehicle} km/l\"\n",
        "\n",
        "# Child class inheriting from Vehicle\n",
        "class Car(Vehicle):\n",
        "    def seating_capacity(self, capacity):\n",
        "        return f\"{self.name_of_vehicle} has a seating capacity of {capacity} passengers.\"\n",
        "\n",
        "# Creating an instance of Car\n",
        "my_car = Car(\"Toyota Corolla\", 180, 15)\n",
        "\n",
        "# Printing vehicle details\n",
        "print(my_car.display_info())\n",
        "\n",
        "# Printing seating capacity\n",
        "print(my_car.seating_capacity(5))\n"
      ],
      "metadata": {
        "colab": {
          "base_uri": "https://localhost:8080/"
        },
        "id": "-Y7glvbApH7s",
        "outputId": "45e84f29-cb5e-4901-97e7-012dc1fdfb9c"
      },
      "execution_count": 4,
      "outputs": [
        {
          "output_type": "stream",
          "name": "stdout",
          "text": [
            "Vehicle: Toyota Corolla, Max Speed: 180 km/h, Average: 15 km/l\n",
            "Toyota Corolla has a seating capacity of 5 passengers.\n"
          ]
        }
      ]
    },
    {
      "cell_type": "code",
      "source": [],
      "metadata": {
        "id": "AWHGvOEupiBY"
      },
      "execution_count": null,
      "outputs": []
    },
    {
      "cell_type": "markdown",
      "source": [
        "Q3. What is multiple inheritance? Write a python code to demonstrate multiple inheritance."
      ],
      "metadata": {
        "id": "m7dD5tqOpwSQ"
      }
    },
    {
      "cell_type": "code",
      "source": [
        "''' Multiple inheritance is a feature in Python where a class can inherit from more than one parent class.\n",
        "This allows a child class to inherit attributes and methods from multiple base classes.'''\n",
        "\n",
        "# Parent Class 1\n",
        "class Engine:\n",
        "    def __init__(self, engine_type):\n",
        "        self.engine_type = engine_type\n",
        "\n",
        "    def show_engine(self):\n",
        "        return f\"Engine Type: {self.engine_type}\"\n",
        "\n",
        "# Parent Class 2\n",
        "class Wheels:\n",
        "    def __init__(self, num_wheels):\n",
        "        self.num_wheels = num_wheels\n",
        "\n",
        "    def show_wheels(self):\n",
        "        return f\"Number of Wheels: {self.num_wheels}\"\n",
        "\n",
        "# Child Class (inherits from both Engine and Wheels)\n",
        "class Car(Engine, Wheels):\n",
        "    def __init__(self, name, engine_type, num_wheels):\n",
        "        Engine.__init__(self, engine_type)  # Initialize Engine class\n",
        "        Wheels.__init__(self, num_wheels)  # Initialize Wheels class\n",
        "        self.name = name\n",
        "\n",
        "    def show_car_details(self):\n",
        "        return f\"Car: {self.name}, {self.show_engine()}, {self.show_wheels()}\"\n",
        "\n",
        "# Creating an instance of Car\n",
        "my_car = Car(\"Toyota Corolla\", \"Petrol\", 4)\n",
        "\n",
        "# Printing car details\n",
        "print(my_car.show_car_details())\n"
      ],
      "metadata": {
        "colab": {
          "base_uri": "https://localhost:8080/"
        },
        "id": "kL5cwkrqpwrV",
        "outputId": "4512ede0-90aa-423b-f0a1-74232941e434"
      },
      "execution_count": 5,
      "outputs": [
        {
          "output_type": "stream",
          "name": "stdout",
          "text": [
            "Car: Toyota Corolla, Engine Type: Petrol, Number of Wheels: 4\n"
          ]
        }
      ]
    },
    {
      "cell_type": "code",
      "source": [],
      "metadata": {
        "id": "n-DYsBVwp9Cf"
      },
      "execution_count": null,
      "outputs": []
    },
    {
      "cell_type": "markdown",
      "source": [
        "Q4. What are getter and setter in python? Create a class and create a getter and a setter method in this\n",
        "class."
      ],
      "metadata": {
        "id": "vNEBGaK9qAIL"
      }
    },
    {
      "cell_type": "code",
      "source": [
        "''' Getters and Setters are methods used to access and modify the values of private attributes in a class.\n",
        "\n",
        "1. Getter Method (@property): Used to retrieve (get) the value of an attribute.\n",
        "\n",
        "2. Setter Method (@attribute_name.setter): Used to modify (set) the value of an attribute with validation if needed.\n",
        "\n",
        "'''\n",
        "\n",
        "class Student:\n",
        "    def __init__(self, name, age):\n",
        "        self._name = name       # Private attribute\n",
        "        self._age = age         # Private attribute\n",
        "\n",
        "    # Getter method for age\n",
        "    @property\n",
        "    def age(self):\n",
        "        return self._age\n",
        "\n",
        "    # Setter method for age with validation\n",
        "    @age.setter\n",
        "    def age(self, new_age):\n",
        "        if new_age > 0:\n",
        "            self._age = new_age\n",
        "        else:\n",
        "            raise ValueError(\"Age must be a positive number\")\n",
        "\n",
        "# Creating an instance of Student class\n",
        "student1 = Student(\"Rahul\", 20)\n",
        "\n",
        "# Using the getter method\n",
        "print(\"Student Age:\", student1.age)\n",
        "\n",
        "# Using the setter method\n",
        "student1.age = 25  # Updating age using setter\n",
        "print(\"Updated Age:\", student1.age)\n",
        "\n",
        "# Uncommenting the line below will raise an error (negative age is not allowed)\n",
        "# student1.age = -5\n"
      ],
      "metadata": {
        "colab": {
          "base_uri": "https://localhost:8080/"
        },
        "id": "e4TQy6yFqAjD",
        "outputId": "4416a0c1-1fc2-4c7f-fa9e-5fed3093adec"
      },
      "execution_count": 6,
      "outputs": [
        {
          "output_type": "stream",
          "name": "stdout",
          "text": [
            "Student Age: 20\n",
            "Updated Age: 25\n"
          ]
        }
      ]
    },
    {
      "cell_type": "code",
      "source": [],
      "metadata": {
        "id": "buvyXTdnqQhv"
      },
      "execution_count": null,
      "outputs": []
    },
    {
      "cell_type": "markdown",
      "source": [
        "Q5.What is method overriding in python? Write a python code to demonstrate method overriding."
      ],
      "metadata": {
        "id": "CQbzPtYWqVKt"
      }
    },
    {
      "cell_type": "code",
      "source": [
        "''' Method Overriding allows a child class to redefine a method that is already defined in its parent class.\n",
        "This helps in providing specific implementations for inherited methods.\n",
        "\n",
        "1. The child class overrides the method from the parent class by defining it with the same name and parameters.\n",
        "\n",
        "2. When the method is called using a child class object, the child class method is executed instead of the parent class method.'''\n",
        "\n",
        "# Parent Class\n",
        "class Animal:\n",
        "    def speak(self):\n",
        "        return \"Animals make sounds\"\n",
        "\n",
        "# Child Class (Overriding Parent's Method)\n",
        "class Dog(Animal):\n",
        "    def speak(self):\n",
        "        return \"Dog barks\"\n",
        "\n",
        "# Child Class (Overriding Parent's Method)\n",
        "class Cat(Animal):\n",
        "    def speak(self):\n",
        "        return \"Cat meows\"\n",
        "\n",
        "# Creating Objects\n",
        "animal = Animal()\n",
        "dog = Dog()\n",
        "cat = Cat()\n",
        "\n",
        "# Calling speak() method\n",
        "print(animal.speak())  # Calls the parent class method\n",
        "print(dog.speak())     # Calls the overridden method in Dog class\n",
        "print(cat.speak())     # Calls the overridden method in Cat class\n"
      ],
      "metadata": {
        "colab": {
          "base_uri": "https://localhost:8080/"
        },
        "id": "JyeNf0etqV3Y",
        "outputId": "cdaceb15-c5c3-4661-e7a9-e54cd20ef1ce"
      },
      "execution_count": 7,
      "outputs": [
        {
          "output_type": "stream",
          "name": "stdout",
          "text": [
            "Animals make sounds\n",
            "Dog barks\n",
            "Cat meows\n"
          ]
        }
      ]
    },
    {
      "cell_type": "code",
      "source": [],
      "metadata": {
        "id": "m6mkayYyqmE7"
      },
      "execution_count": null,
      "outputs": []
    }
  ]
}