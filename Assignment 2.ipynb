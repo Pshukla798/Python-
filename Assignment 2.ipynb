{
  "nbformat": 4,
  "nbformat_minor": 0,
  "metadata": {
    "colab": {
      "provenance": []
    },
    "kernelspec": {
      "name": "python3",
      "display_name": "Python 3"
    },
    "language_info": {
      "name": "python"
    }
  },
  "cells": [
    {
      "cell_type": "markdown",
      "source": [
        "#Q1. How do you comment code in Python? What are the different types of comments?"
      ],
      "metadata": {
        "id": "jSjKLBaAPxvN"
      }
    },
    {
      "cell_type": "markdown",
      "source": [
        "\n",
        "'''In Python, you can add comments to your code using the # symbol. Anything written after the # symbol on a line is considered a comment and is ignored by the Python interpreter.''''\n",
        "There are two main types of comments in Python:\n",
        "1. Single-line comments: These are comments that appear on a single line and are used to explain the code immediately following them.\n",
        "\n",
        "exam # This is a single-line comment\n",
        "print(\"Hello, world!\")  # This comment explains the code\n",
        "\n",
        "Multi-line comments (docstrings): These are comments that span multiple lines and are typically used for documentation purposes or to provide longer explanations.\n",
        "\n",
        "exam:-\n",
        "\"\"\"\n",
        "This is a multi-line comment.\n",
        "It can span multiple lines.\n",
        "\"\"\"\n",
        "print(\"Hello, world!\")\n"
      ],
      "metadata": {
        "id": "YIPU0kuJOh8V"
      }
    },
    {
      "cell_type": "markdown",
      "source": [
        "#Q2. What are variables in Python? How do you declare and assign values to variables?"
      ],
      "metadata": {
        "id": "-DYWDF8GRSsl"
      }
    },
    {
      "cell_type": "markdown",
      "source": [
        "\n",
        "Variables in Python are used to store and manipulate data. They act as containers for storing values of different types such as integers, floats, strings, lists, etc. Variables have names which are used to reference the stored values in the program.\n",
        "To declare and assign values simply choose a name for the variable and use the assignment operator = to assign a value to it.\n",
        "\n",
        "# Example:-\n",
        "# Declaration and assignment of variables\n",
        "x = 10  # Integer variable\n",
        "y = 3.14  # Float variable\n",
        "name = \"John\"  # String variable\n",
        "# Multiple variable declaration and assignment\n",
        "a, b, c = 1, 2.5, \"Hello\"\n",
        "\n"
      ],
      "metadata": {
        "id": "vcRve1xhRcf2"
      }
    },
    {
      "cell_type": "markdown",
      "source": [
        "#Q3. How do you convert one data type to another in Python?\n",
        "\n"
      ],
      "metadata": {
        "id": "3iKVW9b-SfXB"
      }
    },
    {
      "cell_type": "markdown",
      "source": [
        "We can convert one data type to another using type conversion functions or constructors.\n",
        "Here are some Examples:-\n",
        "1. Implicit Type Conversion (Coercion): Python automatically converts data types in certain situations, such as when performing operations involving different types. For example, adding an integer to a float results in a float.\n",
        "\n",
        "2. Explicit Type Conversion (Type Casting): You can explicitly convert data from one type to another using built-in functions or constructors. Here are some examples:\n",
        "\n",
        "int(): Convert a value to an integer.\n",
        "x = 5.7\n",
        "y = int(x)  # y will be 5\n",
        "\n",
        "float(): Convert a value to a floating-point number.\n",
        "x = 10\n",
        "y = float(x)  # y will be 10.0\n",
        "\n",
        "str(): Convert a value to a string.\n",
        "x = 123\n",
        "y = str(x)  # y will be '123'\n",
        "\n"
      ],
      "metadata": {
        "id": "ewNsWOzpSi53"
      }
    },
    {
      "cell_type": "markdown",
      "source": [
        "#Q4. How do you write and execute a Python script from the command line?"
      ],
      "metadata": {
        "id": "OyQLT_woV712"
      }
    },
    {
      "cell_type": "markdown",
      "source": [
        "Open Jupyter Notebook: Launch Jupyter Notebook from the command line by typing jupyter notebook.\n",
        "\n",
        "Create a new notebook or open an existing one: In Jupyter Notebook, you can create a new notebook or open an existing one from the dashboard.\n",
        "\n",
        "Write your Python code in a cell: In the notebook interface, write your Python code in a code cell.\n",
        "\n",
        "Execute the cell: Press Shift + Enter to execute the cell. Jupyter Notebook will run the code and display the output below the cell."
      ],
      "metadata": {
        "id": "_uIk8k7bWBXC"
      }
    },
    {
      "cell_type": "markdown",
      "source": [
        "#Q5. Given a list my_list = [1, 2, 3, 4, 5], write the code to slice the list and obtain the sub-list [2, 3]."
      ],
      "metadata": {
        "id": "DWr_5dHsWUDw"
      }
    },
    {
      "cell_type": "code",
      "source": [
        "#List slicing allows us to extract a portion of a list by specifying a start index and an end index.\n",
        " # Here's the code to slice my_list and obtain the desired sub-list:my_list = [1, 2, 3, 4, 5]\n",
        "\n",
        "# Slice the list to obtain the sub-list [2, 3]\n",
        "sub_list = my_list[1:3]\n",
        "\n",
        "print(sub_list)  # Output: [2, 3]\n",
        "\n",
        "#my_list[1:3] slices the list starting from index 1 (inclusive) up to index 3 (exclusive),\n",
        "#so it includes elements at index 1 and 2, but not the one at index 3."
      ],
      "metadata": {
        "colab": {
          "base_uri": "https://localhost:8080/"
        },
        "id": "zivVxUSWWW6z",
        "outputId": "a6a3d277-c955-461a-c2f7-ed7a1a102480"
      },
      "execution_count": 3,
      "outputs": [
        {
          "output_type": "stream",
          "name": "stdout",
          "text": [
            "[2, 3]\n"
          ]
        }
      ]
    },
    {
      "cell_type": "markdown",
      "source": [
        "# Q6. What is a complex number in mathematics, and how is it represented in Python?"
      ],
      "metadata": {
        "id": "UzNclUMdXz4n"
      }
    },
    {
      "cell_type": "markdown",
      "source": [
        "In mathematics, a complex number is a number that can be expressed in the form a=bi,where\n",
        "a and b are real numbers, and i is the imaginary unit satisfying i2=-1.\n",
        "In Python, complex numbers are represented using the syntax a + bj, where a and b are real numbers, and j represents the imaginary unit.\n",
        "\n",
        "Example:- z = 3 + 2j\n",
        "3 is real number and 2j is imaginary unit"
      ],
      "metadata": {
        "id": "VFAvtDVUYvu4"
      }
    },
    {
      "cell_type": "markdown",
      "source": [
        "# Q7. What is the correct way to declare a variable named age and assign the value 25 to it?"
      ],
      "metadata": {
        "id": "uEbzC5XAY_SR"
      }
    },
    {
      "cell_type": "code",
      "source": [
        "# The correct way to declare a variable named age and assign the value 25 to it in Python is:\n",
        "age=25\n",
        "# This line of code declares a variable named age and assigns the integer value 25 to it using the assignment operator =.In python we do not need to declare the data type\n",
        "# Python automatic deduct the data type based on the values assigned."
      ],
      "metadata": {
        "id": "c8TTbB9pZAvS"
      },
      "execution_count": 6,
      "outputs": []
    },
    {
      "cell_type": "markdown",
      "source": [
        "# Q8. Declare a variable named price and assign the value 9.99 to it. What data type does this variable belong to?"
      ],
      "metadata": {
        "id": "soAHXqLWZ7by"
      }
    },
    {
      "cell_type": "code",
      "source": [
        "# Here is the variable named price and assigned values 9.99 and the data type is float.\n",
        "age=25"
      ],
      "metadata": {
        "id": "dgl-4hBoaLiW"
      },
      "execution_count": 7,
      "outputs": []
    },
    {
      "cell_type": "markdown",
      "source": [
        "# Q9. Create a variable named name and assign your full name to it as a string. How would you print the value of this variable?"
      ],
      "metadata": {
        "id": "Mq-y_K0Ba8IY"
      }
    },
    {
      "cell_type": "code",
      "source": [
        "# here's the variable named name and to print the name here we can use print(name):\n",
        "name ='Prashant shukla'  # declare the var\n",
        "print(name)  # printing the name"
      ],
      "metadata": {
        "colab": {
          "base_uri": "https://localhost:8080/"
        },
        "id": "bo5Hxclzal2G",
        "outputId": "6bd8a220-46fe-45ec-fe13-ffc06504ca1e"
      },
      "execution_count": 12,
      "outputs": [
        {
          "output_type": "stream",
          "name": "stdout",
          "text": [
            "Prashant shukla\n"
          ]
        }
      ]
    },
    {
      "cell_type": "markdown",
      "source": [
        "# Q10. Given the string \"Hello, World!\", extract the substring \"World\"."
      ],
      "metadata": {
        "id": "8ECnQGuPcJND"
      }
    },
    {
      "cell_type": "markdown",
      "source": [
        "<!-- Q10. Given the string \"Hello, World!\", extract the substring \"World\". -->"
      ],
      "metadata": {
        "id": "rlDIewQLcFdP"
      }
    },
    {
      "cell_type": "code",
      "source": [
        "# here we can extract by using sliceing techniques\n",
        "s = \"Hello, World!\"\n",
        "\n",
        "# Extracting the substring \"World\"\n",
        "s1 = s[-6:-1]\n",
        "\n",
        "print(s1)  # Output: World\n"
      ],
      "metadata": {
        "colab": {
          "base_uri": "https://localhost:8080/"
        },
        "id": "Mob1QnL5cG-E",
        "outputId": "e88a584d-9dfb-45b2-c0dc-09f7b59fe36a"
      },
      "execution_count": 16,
      "outputs": [
        {
          "output_type": "stream",
          "name": "stdout",
          "text": [
            "World\n"
          ]
        }
      ]
    },
    {
      "cell_type": "markdown",
      "source": [
        "# Q11. Create a variable named \"is_student\" and assign it a boolean value indicating whether you are currently a student or not."
      ],
      "metadata": {
        "id": "csCtzw7DeFiv"
      }
    },
    {
      "cell_type": "code",
      "source": [
        "# here is the variable named is_student and assing boolean values:-\n",
        "is_student =(True) # assigning the boolean value\n",
        "# true is indicate the yue are currently student."
      ],
      "metadata": {
        "id": "TVlPK32oekmo"
      },
      "execution_count": 17,
      "outputs": []
    },
    {
      "cell_type": "code",
      "source": [
        "is_student"
      ],
      "metadata": {
        "colab": {
          "base_uri": "https://localhost:8080/"
        },
        "id": "h95MrvCdfsC1",
        "outputId": "0247d887-74f6-4011-9e4b-cfc5954d2f68"
      },
      "execution_count": 18,
      "outputs": [
        {
          "output_type": "execute_result",
          "data": {
            "text/plain": [
              "True"
            ]
          },
          "metadata": {},
          "execution_count": 18
        }
      ]
    },
    {
      "cell_type": "code",
      "source": [],
      "metadata": {
        "id": "cJ82oGfAfus0"
      },
      "execution_count": null,
      "outputs": []
    }
  ]
}