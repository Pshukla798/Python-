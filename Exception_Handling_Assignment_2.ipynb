{
  "nbformat": 4,
  "nbformat_minor": 0,
  "metadata": {
    "colab": {
      "provenance": []
    },
    "kernelspec": {
      "name": "python3",
      "display_name": "Python 3"
    },
    "language_info": {
      "name": "python"
    }
  },
  "cells": [
    {
      "cell_type": "markdown",
      "source": [
        "**Q1. Explain why we have to use the Exception class while creating a Custom Exception.**\n",
        "\n",
        "**Note:** Here Exception class refers to the base class for all the exceptions."
      ],
      "metadata": {
        "id": "kKvTztoOEeKx"
      }
    },
    {
      "cell_type": "code",
      "source": [],
      "metadata": {
        "id": "sFUG9fp8Eg0t"
      },
      "execution_count": null,
      "outputs": []
    },
    {
      "cell_type": "markdown",
      "source": [
        "**Ans**.\n",
        "When creating a custom exception in Python, it is best practice to inherit from the built-in Exception class. This is because Exception is the base class for all standard exceptions in Python, and inheriting from it provides several benefits.\n",
        "\n",
        "** 1. Reasons to Inherit from the Exception Class**\n",
        "\n",
        "1. **Ensures Compatibility with Python's Exception Handling System**\n",
        "a. The Python interpreter expects exceptions to be derived from BaseException (or more commonly, Exception).\n",
        "\n",
        "b. This allows our custom exceptions to behave like built-in ones.\n",
        "\n",
        "**2. Allows Exception Handling with try-except**\n",
        "\n",
        "If we don't inherit from Exception, our custom exception might not be caught properly in a try-except block.\n",
        "\n",
        "**3. Provides Built-in Methods and Attributes**\n",
        "\n",
        "The Exception class already has useful methods like __str__(), which allows for readable error messages.\n",
        "\n",
        "**4. Improves Code Readability and Maintainability**\n",
        "\n",
        "Developers working with our code will immediately recognize the exception as part of Python's standard error-handling mechanism.\n",
        "\n"
      ],
      "metadata": {
        "id": "O73lYU1-Eyi3"
      }
    },
    {
      "cell_type": "code",
      "source": [
        "# Inheriting from Exception Class\n",
        "\n",
        "# Custom Exception Class\n",
        "class CustomError(Exception):  # Inherits from Exception\n",
        "    def __init__(self, message=\"This is a custom exception!\"):\n",
        "        self.message = message\n",
        "        super().__init__(self.message)  # Calling Exception's constructor\n",
        "\n",
        "# Function that raises our Custom Exception\n",
        "def check_number(num):\n",
        "    if num < 0:\n",
        "        raise CustomError(\"Negative numbers are not allowed!\")\n",
        "    else:\n",
        "        print(f\"Valid number: {num}\")\n",
        "\n",
        "# Handling the Exception\n",
        "try:\n",
        "    num = int(input(\"Enter a number: \"))\n",
        "    check_number(num)\n",
        "except CustomError as e:\n",
        "    print(f\"Error: {e}\")\n",
        "except ValueError:\n",
        "    print(\"Invalid input! Please enter a valid number.\")"
      ],
      "metadata": {
        "colab": {
          "base_uri": "https://localhost:8080/"
        },
        "id": "eKN-kHk_E2I3",
        "outputId": "a09d7c9f-919f-4d00-c7b1-9495c1b13748"
      },
      "execution_count": 1,
      "outputs": [
        {
          "output_type": "stream",
          "name": "stdout",
          "text": [
            "Enter a number: 2\n",
            "Valid number: 2\n"
          ]
        }
      ]
    },
    {
      "cell_type": "code",
      "source": [
        "# What Happens If We Don’t Inherit from Exception?\n",
        "\n",
        "class CustomError:  # NOT inheriting from Exception\n",
        "    pass\n",
        "\n",
        "try:\n",
        "    raise CustomError(\"An error occurred!\")  # This will cause issues\n",
        "except CustomError as e:\n",
        "    print(e)  # Will not behave like a proper exception\n",
        "\n",
        "# The error won’t be caught properly because CustomError does not behave like an exception."
      ],
      "metadata": {
        "colab": {
          "base_uri": "https://localhost:8080/",
          "height": 384
        },
        "id": "uNcSB2zGGRBq",
        "outputId": "ac200767-dd2e-4f5e-a7c3-c4d0535390ad"
      },
      "execution_count": 2,
      "outputs": [
        {
          "output_type": "error",
          "ename": "TypeError",
          "evalue": "catching classes that do not inherit from BaseException is not allowed",
          "traceback": [
            "\u001b[0;31m---------------------------------------------------------------------------\u001b[0m",
            "\u001b[0;31mTypeError\u001b[0m                                 Traceback (most recent call last)",
            "\u001b[0;32m<ipython-input-2-a790f0b2a935>\u001b[0m in \u001b[0;36m<cell line: 0>\u001b[0;34m()\u001b[0m\n\u001b[1;32m      6\u001b[0m \u001b[0;32mtry\u001b[0m\u001b[0;34m:\u001b[0m\u001b[0;34m\u001b[0m\u001b[0;34m\u001b[0m\u001b[0m\n\u001b[0;32m----> 7\u001b[0;31m     \u001b[0;32mraise\u001b[0m \u001b[0mCustomError\u001b[0m\u001b[0;34m(\u001b[0m\u001b[0;34m\"An error occurred!\"\u001b[0m\u001b[0;34m)\u001b[0m  \u001b[0;31m# This will cause issues\u001b[0m\u001b[0;34m\u001b[0m\u001b[0;34m\u001b[0m\u001b[0m\n\u001b[0m\u001b[1;32m      8\u001b[0m \u001b[0;32mexcept\u001b[0m \u001b[0mCustomError\u001b[0m \u001b[0;32mas\u001b[0m \u001b[0me\u001b[0m\u001b[0;34m:\u001b[0m\u001b[0;34m\u001b[0m\u001b[0;34m\u001b[0m\u001b[0m\n",
            "\u001b[0;31mTypeError\u001b[0m: CustomError() takes no arguments",
            "\nDuring handling of the above exception, another exception occurred:\n",
            "\u001b[0;31mTypeError\u001b[0m                                 Traceback (most recent call last)",
            "\u001b[0;32m<ipython-input-2-a790f0b2a935>\u001b[0m in \u001b[0;36m<cell line: 0>\u001b[0;34m()\u001b[0m\n\u001b[1;32m      6\u001b[0m \u001b[0;32mtry\u001b[0m\u001b[0;34m:\u001b[0m\u001b[0;34m\u001b[0m\u001b[0;34m\u001b[0m\u001b[0m\n\u001b[1;32m      7\u001b[0m     \u001b[0;32mraise\u001b[0m \u001b[0mCustomError\u001b[0m\u001b[0;34m(\u001b[0m\u001b[0;34m\"An error occurred!\"\u001b[0m\u001b[0;34m)\u001b[0m  \u001b[0;31m# This will cause issues\u001b[0m\u001b[0;34m\u001b[0m\u001b[0;34m\u001b[0m\u001b[0m\n\u001b[0;32m----> 8\u001b[0;31m \u001b[0;32mexcept\u001b[0m \u001b[0mCustomError\u001b[0m \u001b[0;32mas\u001b[0m \u001b[0me\u001b[0m\u001b[0;34m:\u001b[0m\u001b[0;34m\u001b[0m\u001b[0;34m\u001b[0m\u001b[0m\n\u001b[0m\u001b[1;32m      9\u001b[0m     \u001b[0mprint\u001b[0m\u001b[0;34m(\u001b[0m\u001b[0me\u001b[0m\u001b[0;34m)\u001b[0m  \u001b[0;31m# Will not behave like a proper exception\u001b[0m\u001b[0;34m\u001b[0m\u001b[0;34m\u001b[0m\u001b[0m\n\u001b[1;32m     10\u001b[0m \u001b[0;34m\u001b[0m\u001b[0m\n",
            "\u001b[0;31mTypeError\u001b[0m: catching classes that do not inherit from BaseException is not allowed"
          ]
        }
      ]
    },
    {
      "cell_type": "code",
      "source": [],
      "metadata": {
        "id": "8RkS4IqVGdPw"
      },
      "execution_count": null,
      "outputs": []
    },
    {
      "cell_type": "markdown",
      "source": [
        "**Q2. Write a python program to print Python Exception Hierarchy.**\n",
        "\n"
      ],
      "metadata": {
        "id": "13lg_ZLPGtAS"
      }
    },
    {
      "cell_type": "code",
      "source": [
        "\"\"\" Python's exception hierarchy is structured, with BaseException as the topmost class,\n",
        "followed by Exception, and various built-in exceptions. \"\"\"\n",
        "\n",
        "# Program to Display Exception Hierarchy\n",
        "import sys\n",
        "\n",
        "# Recursive function to print exception hierarchy\n",
        "def print_exception_hierarchy(cls, indent=0):\n",
        "    print(\" \" * indent + f\"{cls.__name__}\")  # Print exception class name\n",
        "    for subclass in cls.__subclasses__():\n",
        "        print_exception_hierarchy(subclass, indent + 4)  # Recursive call\n",
        "\n",
        "# Print Exception Hierarchy starting from BaseException\n",
        "print(\"Python Exception Hierarchy:\")\n",
        "print_exception_hierarchy(BaseException)"
      ],
      "metadata": {
        "colab": {
          "base_uri": "https://localhost:8080/"
        },
        "id": "4E-jsIIgHIhu",
        "outputId": "2eaea5a4-2cd3-4fc9-fe9c-424ac3ff4461"
      },
      "execution_count": 3,
      "outputs": [
        {
          "output_type": "stream",
          "name": "stdout",
          "text": [
            "Python Exception Hierarchy:\n",
            "BaseException\n",
            "    BaseExceptionGroup\n",
            "        ExceptionGroup\n",
            "    Exception\n",
            "        ArithmeticError\n",
            "            FloatingPointError\n",
            "            OverflowError\n",
            "            ZeroDivisionError\n",
            "                DivisionByZero\n",
            "                DivisionUndefined\n",
            "            DecimalException\n",
            "                Clamped\n",
            "                Rounded\n",
            "                    Underflow\n",
            "                    Overflow\n",
            "                Inexact\n",
            "                    Underflow\n",
            "                    Overflow\n",
            "                Subnormal\n",
            "                    Underflow\n",
            "                DivisionByZero\n",
            "                FloatOperation\n",
            "                InvalidOperation\n",
            "                    ConversionSyntax\n",
            "                    DivisionImpossible\n",
            "                    DivisionUndefined\n",
            "                    InvalidContext\n",
            "        AssertionError\n",
            "        AttributeError\n",
            "            FrozenInstanceError\n",
            "        BufferError\n",
            "        EOFError\n",
            "            IncompleteReadError\n",
            "        ImportError\n",
            "            ModuleNotFoundError\n",
            "                PackageNotFoundError\n",
            "                PackageNotFoundError\n",
            "            ZipImportError\n",
            "        LookupError\n",
            "            IndexError\n",
            "                AxisError\n",
            "                OutOfBounds\n",
            "            KeyError\n",
            "                NoSuchKernel\n",
            "                UnknownBackend\n",
            "            CodecRegistryError\n",
            "        MemoryError\n",
            "            MemoryError\n",
            "        NameError\n",
            "            UnboundLocalError\n",
            "        OSError\n",
            "            BlockingIOError\n",
            "            ChildProcessError\n",
            "            ConnectionError\n",
            "                BrokenPipeError\n",
            "                ConnectionAbortedError\n",
            "                ConnectionRefusedError\n",
            "                ConnectionResetError\n",
            "                    RemoteDisconnected\n",
            "            FileExistsError\n",
            "            FileNotFoundError\n",
            "                ExecutableNotFoundError\n",
            "            InterruptedError\n",
            "                InterruptedSystemCall\n",
            "            IsADirectoryError\n",
            "            NotADirectoryError\n",
            "            PermissionError\n",
            "            ProcessLookupError\n",
            "            TimeoutError\n",
            "            UnsupportedOperation\n",
            "            itimer_error\n",
            "            Error\n",
            "                SameFileError\n",
            "            SpecialFileError\n",
            "            ExecError\n",
            "            ReadError\n",
            "            herror\n",
            "            gaierror\n",
            "            SSLError\n",
            "                SSLCertVerificationError\n",
            "                SSLZeroReturnError\n",
            "                SSLWantWriteError\n",
            "                SSLWantReadError\n",
            "                SSLSyscallError\n",
            "                SSLEOFError\n",
            "            URLError\n",
            "                HTTPError\n",
            "                ContentTooShortError\n",
            "            BadGzipFile\n",
            "            UnidentifiedImageError\n",
            "            ProxyError\n",
            "                GeneralProxyError\n",
            "                ProxyConnectionError\n",
            "                SOCKS5AuthError\n",
            "                SOCKS5Error\n",
            "                SOCKS4Error\n",
            "                HTTPError\n",
            "        ReferenceError\n",
            "        RuntimeError\n",
            "            NotImplementedError\n",
            "                ZMQVersionError\n",
            "                StdinNotImplementedError\n",
            "            RecursionError\n",
            "            _DeadlockError\n",
            "            BrokenBarrierError\n",
            "            BrokenExecutor\n",
            "                BrokenThreadPool\n",
            "            SendfileNotAvailableError\n",
            "            BrokenBarrierError\n",
            "            VariableError\n",
            "            TooHardError\n",
            "        StopAsyncIteration\n",
            "        StopIteration\n",
            "        SyntaxError\n",
            "            IndentationError\n",
            "                TabError\n",
            "            ParseError\n",
            "        SystemError\n",
            "            CodecRegistryError\n",
            "        TypeError\n",
            "            MultipartConversionError\n",
            "            FloatOperation\n",
            "            DTypePromotionError\n",
            "            UFuncTypeError\n",
            "                UFuncTypeError\n",
            "                    UFuncTypeError\n",
            "                UFuncTypeError\n",
            "                    UFuncTypeError\n",
            "                    UFuncTypeError\n",
            "            ConversionError\n",
            "        ValueError\n",
            "            UnicodeError\n",
            "                UnicodeDecodeError\n",
            "                UnicodeEncodeError\n",
            "                UnicodeTranslateError\n",
            "            UnsupportedOperation\n",
            "            AddressValueError\n",
            "            NetmaskValueError\n",
            "            JSONDecodeError\n",
            "            SSLCertVerificationError\n",
            "            Error\n",
            "            UnsupportedDigestmodError\n",
            "            IllegalMonthError\n",
            "            IllegalWeekdayError\n",
            "            MessageDefect\n",
            "                NoBoundaryInMultipartDefect\n",
            "                StartBoundaryNotFoundDefect\n",
            "                CloseBoundaryNotFoundDefect\n",
            "                FirstHeaderLineIsContinuationDefect\n",
            "                MisplacedEnvelopeHeaderDefect\n",
            "                MissingHeaderBodySeparatorDefect\n",
            "                MultipartInvariantViolationDefect\n",
            "                InvalidMultipartContentTransferEncodingDefect\n",
            "                UndecodableBytesDefect\n",
            "                InvalidBase64PaddingDefect\n",
            "                InvalidBase64CharactersDefect\n",
            "                InvalidBase64LengthDefect\n",
            "                HeaderDefect\n",
            "                    InvalidHeaderDefect\n",
            "                    HeaderMissingRequiredValue\n",
            "                    NonPrintableDefect\n",
            "                    ObsoleteHeaderDefect\n",
            "                    NonASCIILocalPartDefect\n",
            "                    InvalidDateDefect\n",
            "            ClassNotFound\n",
            "            ClipboardEmpty\n",
            "            MacroToEdit\n",
            "            ParserError\n",
            "            InvalidVersion\n",
            "            DisabledFunctionError\n",
            "            AxisError\n",
            "            LinAlgError\n",
            "            DefusedXmlException\n",
            "                DTDForbidden\n",
            "                EntitiesForbidden\n",
            "                ExternalReferenceForbidden\n",
            "                NotSupportedError\n",
            "            NonIntersectingPathException\n",
            "            InvalidFileException\n",
            "        Warning\n",
            "            BytesWarning\n",
            "            DeprecationWarning\n",
            "                ProvisionalWarning\n",
            "                ModuleDeprecationWarning\n",
            "                MatplotlibDeprecationWarning\n",
            "            EncodingWarning\n",
            "            FutureWarning\n",
            "                ProvisionalCompleterWarning\n",
            "                MaskedArrayFutureWarning\n",
            "            ImportWarning\n",
            "            PendingDeprecationWarning\n",
            "            ResourceWarning\n",
            "            RuntimeWarning\n",
            "                ProactorSelectorThreadWarning\n",
            "                UnknownTimezoneWarning\n",
            "                ComplexWarning\n",
            "                RankWarning\n",
            "                DecompressionBombWarning\n",
            "            SyntaxWarning\n",
            "            UnicodeWarning\n",
            "            UserWarning\n",
            "                GetPassWarning\n",
            "                FormatterWarning\n",
            "                VisibleDeprecationWarning\n",
            "                ConversionWarning\n",
            "            DeprecatedTzFormatWarning\n",
            "        ExceptionGroup\n",
            "        _OptionError\n",
            "        error\n",
            "        error\n",
            "        LZMAError\n",
            "        RegistryError\n",
            "        _GiveupOnFastCopy\n",
            "        _Error\n",
            "        Error\n",
            "        SubprocessError\n",
            "            CalledProcessError\n",
            "            TimeoutExpired\n",
            "        _GiveupOnSendfile\n",
            "        error\n",
            "        ArgumentError\n",
            "        error\n",
            "        ZMQBaseError\n",
            "            ZMQError\n",
            "                ContextTerminated\n",
            "                Again\n",
            "                InterruptedSystemCall\n",
            "            ZMQBindError\n",
            "            NotDone\n",
            "        Error\n",
            "        PickleError\n",
            "            PicklingError\n",
            "            UnpicklingError\n",
            "        _Stop\n",
            "        TokenError\n",
            "        StopTokenizing\n",
            "        ClassFoundException\n",
            "        EndOfBlock\n",
            "        TraitError\n",
            "        Empty\n",
            "        Full\n",
            "        ArgumentError\n",
            "        ArgumentTypeError\n",
            "        ConfigError\n",
            "            ConfigLoaderError\n",
            "                ArgumentError\n",
            "            ConfigFileNotFound\n",
            "        ConfigurableError\n",
            "            MultipleInstanceError\n",
            "        ApplicationError\n",
            "        NoIPAddresses\n",
            "        Error\n",
            "            NoSectionError\n",
            "            DuplicateSectionError\n",
            "            DuplicateOptionError\n",
            "            NoOptionError\n",
            "            InterpolationError\n",
            "                InterpolationMissingOptionError\n",
            "                InterpolationSyntaxError\n",
            "                InterpolationDepthError\n",
            "            ParsingError\n",
            "                MissingSectionHeaderError\n",
            "        Error\n",
            "            CancelledError\n",
            "            InvalidStateError\n",
            "        Incomplete\n",
            "        InvalidStateError\n",
            "        LimitOverrunError\n",
            "        QueueEmpty\n",
            "        QueueFull\n",
            "        InvalidPortNumber\n",
            "        DuplicateKernelError\n",
            "        ErrorDuringImport\n",
            "        BdbQuit\n",
            "        Restart\n",
            "        ExceptionPexpect\n",
            "            EOF\n",
            "            TIMEOUT\n",
            "        PtyProcessError\n",
            "        FindCmdError\n",
            "        HomeDirError\n",
            "        ProfileDirError\n",
            "        IPythonCoreError\n",
            "            TryNext\n",
            "            UsageError\n",
            "            StdinNotImplementedError\n",
            "        InputRejected\n",
            "        GetoptError\n",
            "        Error\n",
            "        BadZipFile\n",
            "        LargeZipFile\n",
            "        MessageError\n",
            "            MessageParseError\n",
            "                HeaderParseError\n",
            "                    _InvalidEwError\n",
            "                BoundaryError\n",
            "            MultipartConversionError\n",
            "            CharsetError\n",
            "            HeaderWriteError\n",
            "        OptionError\n",
            "        ErrorToken\n",
            "        PrefilterError\n",
            "        AliasError\n",
            "            InvalidAliasError\n",
            "        Error\n",
            "            InterfaceError\n",
            "            DatabaseError\n",
            "                InternalError\n",
            "                OperationalError\n",
            "                ProgrammingError\n",
            "                IntegrityError\n",
            "                DataError\n",
            "                NotSupportedError\n",
            "        Warning\n",
            "        SpaceInInput\n",
            "        DOMException\n",
            "            IndexSizeErr\n",
            "            DomstringSizeErr\n",
            "            HierarchyRequestErr\n",
            "            WrongDocumentErr\n",
            "            InvalidCharacterErr\n",
            "            NoDataAllowedErr\n",
            "            NoModificationAllowedErr\n",
            "            NotFoundErr\n",
            "            NotSupportedErr\n",
            "            InuseAttributeErr\n",
            "            InvalidStateErr\n",
            "            SyntaxErr\n",
            "            InvalidModificationErr\n",
            "            NamespaceErr\n",
            "            InvalidAccessErr\n",
            "            ValidationErr\n",
            "        ValidationError\n",
            "        EditReadOnlyBuffer\n",
            "        _Retry\n",
            "        InvalidLayoutError\n",
            "        HeightIsUnknownError\n",
            "        ExpatError\n",
            "        ParseEscape\n",
            "        HTTPException\n",
            "            NotConnected\n",
            "            InvalidURL\n",
            "            UnknownProtocol\n",
            "            UnknownTransferEncoding\n",
            "            UnimplementedFileMode\n",
            "            IncompleteRead\n",
            "            ImproperConnectionState\n",
            "                CannotSendRequest\n",
            "                CannotSendHeader\n",
            "                ResponseNotReady\n",
            "            BadStatusLine\n",
            "                RemoteDisconnected\n",
            "            LineTooLong\n",
            "        InteractivelyDefined\n",
            "        KillEmbedded\n",
            "        error\n",
            "        ReturnValueIgnoredError\n",
            "        KeyReuseError\n",
            "        UnknownKeyError\n",
            "        LeakedCallbackError\n",
            "        BadYieldError\n",
            "        ReturnValueIgnoredError\n",
            "        Return\n",
            "        Error\n",
            "            NoSuchProcess\n",
            "                ZombieProcess\n",
            "            AccessDenied\n",
            "            TimeoutExpired\n",
            "        _Ipv6UnsupportedError\n",
            "        QueueEmpty\n",
            "        QueueFull\n",
            "        DebuggerInitializationError\n",
            "        Error\n",
            "            ProtocolError\n",
            "            ResponseError\n",
            "            Fault\n",
            "        _Error\n",
            "        UnableToResolveVariableException\n",
            "        InvalidTypeInArgsException\n",
            "        Error\n",
            "            AuthorizationError\n",
            "            RuntimeManagementError\n",
            "            MessageError\n",
            "        WidgetException\n",
            "        JsException\n",
            "        _PreprocessDTypeError\n",
            "        ConverterError\n",
            "            ConverterLockError\n",
            "        FormattedTracebackError\n",
            "        ParseBaseException\n",
            "            ParseException\n",
            "            ParseFatalException\n",
            "                ParseSyntaxException\n",
            "        RecursiveGrammarException\n",
            "        _ParseActionIndexError\n",
            "        HttpLib2Error\n",
            "            HttpLib2ErrorWithResponse\n",
            "                RedirectMissingLocation\n",
            "                RedirectLimit\n",
            "                FailedToDecompressContent\n",
            "                UnimplementedDigestAuthOptionError\n",
            "                UnimplementedHmacDigestAuthOptionError\n",
            "            MalformedHeader\n",
            "            RelativeURIError\n",
            "            ServerNotFoundError\n",
            "            ProxiesUnavailableError\n",
            "        DecompressionBombError\n",
            "        BadRequiredStrength\n",
            "        DuplicateConstraint\n",
            "        DuplicateEditVariable\n",
            "        UnknownConstraint\n",
            "        UnknownEditVariable\n",
            "        UnsatisfiableConstraint\n",
            "        MAError\n",
            "            MaskError\n",
            "        NonGuiException\n",
            "        InvalidIndexError\n",
            "        TerminateTrajectory\n",
            "        NoFreePortFoundError\n",
            "        CustomError\n",
            "    GeneratorExit\n",
            "    KeyboardInterrupt\n",
            "    SystemExit\n",
            "    CancelledError\n"
          ]
        }
      ]
    },
    {
      "cell_type": "code",
      "source": [],
      "metadata": {
        "id": "fRKqvt2cHiuB"
      },
      "execution_count": null,
      "outputs": []
    },
    {
      "cell_type": "markdown",
      "source": [
        "**Q3. What errors are defined in the ArithmeticError class? Explain any two with an example.**"
      ],
      "metadata": {
        "id": "1R9U_-pHIEEy"
      }
    },
    {
      "cell_type": "markdown",
      "source": [
        "**Errors Defined in the ArithmeticError Class in Python**\n",
        "\n",
        "The ArithmeticError class is a built-in exception in Python that serves as the base class for all errors that occur due to arithmetic operations. It has several subclasses:\n",
        "\n",
        "1. ZeroDivisionError - Raised when a number is divided by zero.\n",
        "\n",
        "2. OverflowError - Raised when a calculation exceeds the maximum limit of a numeric type.\n",
        "\n",
        "3. FloatingPointError - Raised in rare cases when floating-point operations fail (not commonly used)."
      ],
      "metadata": {
        "id": "unC0rpzDLhWo"
      }
    },
    {
      "cell_type": "markdown",
      "source": [],
      "metadata": {
        "id": "vtjfit_dNJ36"
      }
    },
    {
      "cell_type": "code",
      "source": [
        "# ZeroDivisionError (Dividing by Zero)\n",
        "\n",
        "# This error occurs when a number is divided by zero using / or //.\n",
        "try:\n",
        "    result = 10 / 0  # Division by zero\n",
        "except ZeroDivisionError as e:\n",
        "    print(f\"Error: {e}\")"
      ],
      "metadata": {
        "colab": {
          "base_uri": "https://localhost:8080/"
        },
        "id": "azjpyxubLvMw",
        "outputId": "df87a028-0e23-4f85-b161-5b50ca6fe64e"
      },
      "execution_count": 6,
      "outputs": [
        {
          "output_type": "stream",
          "name": "stdout",
          "text": [
            "Error: division by zero\n"
          ]
        }
      ]
    },
    {
      "cell_type": "code",
      "source": [
        "# OverflowError (Exceeding Numeric Limits)\n",
        "\n",
        "# This occurs when a mathematical computation exceeds the maximum limit that Python can handle for a number.\n",
        "\n",
        "import math\n",
        "\n",
        "try:\n",
        "    result = math.exp(1000)  # Exponential function with a very large input\n",
        "except OverflowError as e:\n",
        "    print(f\"Error: {e}\")"
      ],
      "metadata": {
        "colab": {
          "base_uri": "https://localhost:8080/"
        },
        "id": "BeoiBygaMCDK",
        "outputId": "cefb95e7-4099-46d9-bb37-421c07a9febd"
      },
      "execution_count": 7,
      "outputs": [
        {
          "output_type": "stream",
          "name": "stdout",
          "text": [
            "Error: math range error\n"
          ]
        }
      ]
    },
    {
      "cell_type": "code",
      "source": [],
      "metadata": {
        "id": "GwD7KfbSMVye"
      },
      "execution_count": 7,
      "outputs": []
    },
    {
      "cell_type": "markdown",
      "source": [
        "**Q4. Why LookupError class is used? Explain with an example KeyError and IndexError.**"
      ],
      "metadata": {
        "id": "JNVA2FA6NUde"
      }
    },
    {
      "cell_type": "code",
      "source": [],
      "metadata": {
        "id": "lT3-Uz2HNWgE"
      },
      "execution_count": null,
      "outputs": []
    },
    {
      "cell_type": "markdown",
      "source": [
        "**LookupError Class in Pytho**\n",
        "\n",
        "The LookupError class is a built-in exception that serves as the base class for exceptions raised when a key or index is not found in a sequence or dictionary.\n",
        "It has two main subclasses:\n",
        "\n",
        "1. KeyError - Raised when trying to access a dictionary key that doesn't exist.\n",
        "2. IndexError - Raised when trying to access an invalid index in a list or tuple."
      ],
      "metadata": {
        "id": "azCRHc4BSKeC"
      }
    },
    {
      "cell_type": "code",
      "source": [
        "# A KeyError occurs when you try to access a key in a dictionary that does not exist.\n",
        "\n",
        "try:\n",
        "    student_marks = {\"John\": 85, \"Emma\": 92}\n",
        "    print(student_marks[\"Michael\"])  # Key \"Michael\" does not exist\n",
        "except KeyError as e:\n",
        "    print(f\"KeyError: {e} not found in dictionary\")"
      ],
      "metadata": {
        "colab": {
          "base_uri": "https://localhost:8080/"
        },
        "id": "VVQoXhRuTbeH",
        "outputId": "c1c18404-529e-49ba-f8c3-6d90c9b31d65"
      },
      "execution_count": 8,
      "outputs": [
        {
          "output_type": "stream",
          "name": "stdout",
          "text": [
            "KeyError: 'Michael' not found in dictionary\n"
          ]
        }
      ]
    },
    {
      "cell_type": "code",
      "source": [
        " # An IndexError occurs when you try to access an invalid index in a list or tuple.\n",
        "\n",
        " try:\n",
        "    numbers = [10, 20, 30]\n",
        "    print(numbers[5])  # Index 5 does not exist\n",
        "except IndexError as e:\n",
        "    print(f\"IndexError: {e}\")\n",
        "\n"
      ],
      "metadata": {
        "colab": {
          "base_uri": "https://localhost:8080/"
        },
        "id": "W33pW8jFThRy",
        "outputId": "0a89d14f-d1ee-4c1c-80fd-8038f4e09164"
      },
      "execution_count": 9,
      "outputs": [
        {
          "output_type": "stream",
          "name": "stdout",
          "text": [
            "IndexError: list index out of range\n"
          ]
        }
      ]
    },
    {
      "cell_type": "code",
      "source": [],
      "metadata": {
        "id": "NCnPSEgnTy5x"
      },
      "execution_count": null,
      "outputs": []
    },
    {
      "cell_type": "markdown",
      "source": [
        "**Q5. Explain ImportError. What is ModuleNotFoundError?**"
      ],
      "metadata": {
        "id": "rXGQOPneUmTt"
      }
    },
    {
      "cell_type": "markdown",
      "source": [
        "**Ans:**\n",
        "\n",
        "**ImportError and ModuleNotFoundError in Python**\n",
        "Both ImportError and ModuleNotFoundError are related to importing modules in Python. They occur when Python is unable to locate or load a module properly.\n",
        "\n",
        "**1.ImportError**\n",
        "a. It occurs when an imported module or a specific function/class inside a module cannot be found or loaded.\n",
        "\n",
        "b. It often happens due to missing dependencies or incorrect import statements.\n",
        "\n",
        "**2. ModuleNotFoundError (A Subclass of ImportError)**\n",
        "\n",
        "a. It occurs when the module itself is not found.\n",
        "\n",
        "b. This usually happens when:\n",
        "\n",
        "c. The module is not installed (pip install module_name needed).\n",
        "\n",
        "d. The module name is misspelled.\n",
        "\n",
        "e. The Python environment does not have the module.\n"
      ],
      "metadata": {
        "id": "5rwamQGWU-2d"
      }
    },
    {
      "cell_type": "code",
      "source": [
        "# ImportError\n",
        "\n",
        "try:\n",
        "    from math import square  # 'square' function does not exist in 'math' module\n",
        "except ImportError as e:\n",
        "    print(f\"ImportError: {e}\")"
      ],
      "metadata": {
        "colab": {
          "base_uri": "https://localhost:8080/"
        },
        "id": "4aePHK2JVCLQ",
        "outputId": "3bb09610-be29-456c-a5a1-bb61c473b1b2"
      },
      "execution_count": 10,
      "outputs": [
        {
          "output_type": "stream",
          "name": "stdout",
          "text": [
            "ImportError: cannot import name 'square' from 'math' (unknown location)\n"
          ]
        }
      ]
    },
    {
      "cell_type": "code",
      "source": [
        "# ModuleNotFoundError\n",
        "\n",
        "try:\n",
        "    import non_existent_module  # This module does not exist\n",
        "except ModuleNotFoundError as e:\n",
        "    print(f\"ModuleNotFoundError: {e}\")"
      ],
      "metadata": {
        "colab": {
          "base_uri": "https://localhost:8080/"
        },
        "id": "f8MHUKYqV8bI",
        "outputId": "88133e4d-6715-41c4-d29b-f4d7359bee6a"
      },
      "execution_count": 12,
      "outputs": [
        {
          "output_type": "stream",
          "name": "stdout",
          "text": [
            "ModuleNotFoundError: No module named 'non_existent_module'\n"
          ]
        }
      ]
    },
    {
      "cell_type": "code",
      "source": [],
      "metadata": {
        "id": "iWuk4xnFWBPZ"
      },
      "execution_count": null,
      "outputs": []
    },
    {
      "cell_type": "markdown",
      "source": [
        "**Q6. List down some best practices for exception handling in python.**"
      ],
      "metadata": {
        "id": "F2vut0xgWH1y"
      }
    },
    {
      "cell_type": "markdown",
      "source": [
        "**Best Practices for Exception Handling in Python**\n",
        "\n",
        "Handling exceptions properly ensures that your code is robust, readable, and maintainable. Below are some of the best practices for handling exceptions in Python.\n",
        "\n",
        "1. Catch specific exceptions\n",
        "2. Use finally for cleanup\n",
        "3. Use else to separate logic\n",
        "4. Use raise to re-raise exceptions\n",
        "5. Create custom exceptions\n",
        "6. Log errors instead of printing\n",
        "7. Never use empty except blocks\n"
      ],
      "metadata": {
        "id": "4bUTJ2HHX4_R"
      }
    },
    {
      "cell_type": "code",
      "source": [],
      "metadata": {
        "id": "zg4pSItPYEl7"
      },
      "execution_count": null,
      "outputs": []
    }
  ]
}