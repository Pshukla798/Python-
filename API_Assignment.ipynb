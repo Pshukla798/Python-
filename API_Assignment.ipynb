{
  "nbformat": 4,
  "nbformat_minor": 0,
  "metadata": {
    "colab": {
      "provenance": []
    },
    "kernelspec": {
      "name": "python3",
      "display_name": "Python 3"
    },
    "language_info": {
      "name": "python"
    }
  },
  "cells": [
    {
      "cell_type": "markdown",
      "source": [
        "**Q1. What is an API? Give an example, where an API is used in real life.**"
      ],
      "metadata": {
        "id": "kXpR0_zSEa_Z"
      }
    },
    {
      "cell_type": "code",
      "source": [],
      "metadata": {
        "id": "KJrDyjU4EnWr"
      },
      "execution_count": null,
      "outputs": []
    },
    {
      "cell_type": "markdown",
      "source": [
        "**What is an API?**\n",
        "\n",
        "API (Application Programming Interface) is a set of rules and protocols that allows different software applications to communicate with each other. It acts as a bridge between different systems, enabling them to exchange data and functionality without knowing the internal details of each other.\n",
        "\n",
        "**Example of API in Real Life:**\n",
        "\n",
        "**Online Payments (UPI, PayPal, Stripe API):**\n",
        "\n",
        "When you purchase something online using Google Pay, PayPal, or Stripe, the e-commerce website doesn't process your payment directly.\n",
        "\n",
        "Instead, it sends a request to the payment gateway API, which processes the transaction securely and returns a response (success or failure).\n",
        "\n",
        "**Other Real-Life Examples:**\n",
        "\n",
        "1. Google Maps API → Used in food delivery and ride-sharing apps like Uber and Swiggy to show routes and locations.\n",
        "\n",
        "2. Weather API → Used by weather apps to fetch live weather data.\n",
        "\n",
        "3. Social Media API → Websites use Facebook, Twitter, or Instagram APIs to allow users to log in via social accounts.\n",
        "\n",
        "4. Banking API → Used in mobile banking apps to fetch transaction details securely."
      ],
      "metadata": {
        "id": "Qa7etj7FEn8-"
      }
    },
    {
      "cell_type": "code",
      "source": [],
      "metadata": {
        "id": "otPpvETEFU-9"
      },
      "execution_count": null,
      "outputs": []
    },
    {
      "cell_type": "markdown",
      "source": [
        "**Q2. Give advantages and disadvantages of using API.**"
      ],
      "metadata": {
        "id": "gFaO53T8FYcs"
      }
    },
    {
      "cell_type": "markdown",
      "source": [
        "**Advantages and Disadvantages of Using APIs**\n",
        "\n",
        "**Advantages of API**\n",
        "\n",
        "1. Automation → APIs allow systems to communicate without human intervention, improving efficiency.\n",
        "\n",
        "2. Efficiency → APIs reduce development time by providing ready-made functionalities.\n",
        "\n",
        "3. Scalability → APIs enable applications to handle large volumes of requests without affecting performance.\n",
        "\n",
        "4. Integration → APIs allow different applications and platforms (e.g., Google Maps, Payment Gateways) to work together.\n",
        "\n",
        "5. Security → APIs offer controlled access to data using authentication mechanisms like API keys and OAuth.\n",
        "\n",
        "6. Customization → APIs provide flexibility to developers for modifying or extending application functionalities.\n",
        "\n",
        "7. Better User Experience → APIs enhance the user experience by integrating external services (e.g., social logins, live weather updates).\n",
        "\n",
        "**Disadvantages of API**\n",
        "\n",
        "1. Security Risks → If not properly secured, APIs can be vulnerable to attacks like unauthorized access or data breaches.\n",
        "\n",
        "2. Dependency on Third-Party Services → If an external API service goes down, it can affect your application.\n",
        "\n",
        "3. Maintenance & Updates → APIs need regular updates to ensure compatibility with changing systems.\n",
        "\n",
        "4. Rate Limiting & Usage Costs → Many APIs have limitations on usage and may charge fees for high usage.\n",
        "\n",
        "5. Complex Implementation → Some APIs require authentication, data transformation, and error handling, making them difficult to implement.\n",
        "\n",
        "6. Data Privacy Issues → Sharing sensitive data via APIs can pose privacy risks if not handled properly."
      ],
      "metadata": {
        "id": "KCd96FtSGA9O"
      }
    },
    {
      "cell_type": "code",
      "source": [],
      "metadata": {
        "id": "fzxK3bXJG8es"
      },
      "execution_count": null,
      "outputs": []
    },
    {
      "cell_type": "markdown",
      "source": [
        "**Q3. What is a Web API? Differentiate between API and Web API.**"
      ],
      "metadata": {
        "id": "eHVao7I1HCSG"
      }
    },
    {
      "cell_type": "markdown",
      "source": [
        "**Ans:**\n",
        "\n",
        "A Web API (Web Application Programming Interface) is an API that allows communication between different applications over the internet using HTTP requests. It enables web-based applications to exchange data and interact with each other (e.g., fetching weather data from an external service).A Web API (Web Application Programming Interface) is an API that allows communication between different applications over the internet using HTTP requests. It enables web-based applications to exchange data and interact with each other (e.g., fetching weather data from an external service).\n",
        "\n",
        "**Example of Web API:**\n",
        "\n",
        "Google Maps API → Used to integrate maps into applications.\n",
        "\n",
        "OpenWeather API → Provides real-time weather data.\n",
        "\n",
        "Twitter API → Allows applications to fetch tweets and post updates.\n",
        "\n",
        "**Difference Between API and Web API**\n",
        "\n",
        "**\tAPI**\n",
        "\n",
        "\tA set of functions that allows applications to communicate with each other.\n",
        "\n",
        "  Can be local (within a system) or web-based.\n",
        "\n",
        "  Can use any format like XML, JSON, CSV, etc.\n",
        "\n",
        "  Can be platform-specific (like Java API, Windows API).\n",
        "\n",
        "  Used in software applications, libraries, and operating systems.\n",
        "\n",
        "**Web API**\n",
        "\n",
        "A type of API that is accessible via the web using HTTP.\n",
        "\n",
        "Works over the internet using protocols like HTTP/HTTPS.\n",
        "\n",
        "Mostly uses JSON or XML.\n",
        "\n",
        "Platform-independent, accessible from any system with internet access.\n",
        "\n",
        "Used in web-based applications, mobile apps, and cloud services.\n",
        "\n",
        "\n"
      ],
      "metadata": {
        "id": "UdiKGVl6JWG0"
      }
    },
    {
      "cell_type": "markdown",
      "source": [
        "**Q4. Explain REST and SOAP Architecture. Mention shortcomings of SOAP.**"
      ],
      "metadata": {
        "id": "KVY99eDtOnNc"
      }
    },
    {
      "cell_type": "markdown",
      "source": [
        "**REST (Representational State Transfer):**\n",
        "\n",
        "REST is an architectural style used for designing networked applications. It relies on stateless communication and uses HTTP methods to perform operations on resources.\n",
        "\n",
        "**Key Features of REST:**\n",
        "\n",
        "Uses HTTP methods: GET, POST, PUT, DELETE\n",
        "\n",
        "Data is usually exchanged in JSON or XML\n",
        "\n",
        "Stateless: Each request contains all information needed\n",
        "\n",
        "Lightweight and fast\n",
        "\n",
        "Suitable for web and mobile applications\n",
        "\n",
        "**Example:**\n",
        "\n",
        "GET https://api.example.com/users/101\n",
        "This could return data about a user with ID 101 in JSON format.\n",
        "\n",
        "**SOAP (Simple Object Access Protocol):**\n",
        "\n",
        "SOAP is a protocol for exchanging structured information between computers. It uses XML for data format and works over HTTP, SMTP, TCP, etc.\n",
        "\n",
        "**Key Features of SOAP:**\n",
        "\n",
        "Strictly uses XML for message format\n",
        "\n",
        "Heavier and more complex than REST\n",
        "\n",
        "Follows a standardized messaging structure (Envelope, Header, Body)\n",
        "\n",
        "Has built-in error handling, security (WS-Security), and ACID compliance\n",
        "\n",
        "Best suited for enterprise-level and secure transactions\n",
        "\n",
        "Example SOAP Envelope:\n",
        "\n",
        "<soapenv:Envelope xmlns:soapenv=\"http://schemas.xmlsoap.org/soap/envelope/\">\n",
        "   <soapenv:Body>\n",
        "      <getUserDetails>\n",
        "         <userId>101</userId>\n",
        "      </getUserDetails>\n",
        "   </soapenv:Body>\n",
        "</soapenv:Envelope>\n",
        "\n",
        "\n",
        "**Shortcomings of SOAP:**\n",
        "\n",
        "**Verbosity**\tSOAP messages are large due to XML format, increasing bandwidth usage.\n",
        "**Complexity**\tHarder to implement and maintain due to strict rules and structure.\n",
        "**Performance**\tSlower compared to REST due to XML parsing and extra headers.\n",
        "**Less flexible**\tWorks best in enterprise systems; not ideal for lightweight web or mobile apps.\n",
        "**Tight coupling**\tStrong dependency between client and server due to strict contracts (WSDL)."
      ],
      "metadata": {
        "id": "32xep74OPZBC"
      }
    },
    {
      "cell_type": "code",
      "source": [],
      "metadata": {
        "id": "nzjoanmlQoDT"
      },
      "execution_count": null,
      "outputs": []
    },
    {
      "cell_type": "markdown",
      "source": [
        "**Q5. Differentiate between REST and SOAP.**"
      ],
      "metadata": {
        "id": "5Gwqk3kyQpC1"
      }
    },
    {
      "cell_type": "markdown",
      "source": [
        "**Difference between REST and SOAP**\n",
        "\n",
        "**1. Definition**\n",
        "\n",
        "**REST** is an architectural style for designing networked applications using HTTP.\n",
        "\n",
        "**SOAP** is a protocol that defines rules for structuring messages and communicating between systems.\n",
        "\n",
        "**2. Data Format**\n",
        "\n",
        "**REST:** Supports multiple formats like JSON, XML, HTML, plain text (commonly JSON).\n",
        "\n",
        "**SOAP:** Uses only XML.\n",
        "\n",
        "**3. Flexibility**\n",
        "\n",
        "REST: More flexible, lighter, easier to integrate.\n",
        "\n",
        "SOAP: Rigid and follows strict rules.\n",
        "\n",
        "**4. Speed and Performance**\n",
        "\n",
        "REST: Faster, lightweight, uses fewer resources.\n",
        "\n",
        "SOAP: Slower due to XML formatting and heavy message structure.\n",
        "\n",
        "**5. Security**\n",
        "\n",
        "REST: Relies on HTTPS and additional layers like OAuth.\n",
        "\n",
        "SOAP: Built-in WS-Security for message-level security (ideal for sensitive data).\n",
        "\n",
        "**6. Protocol Usage**\n",
        "\n",
        "REST: Works over HTTP.\n",
        "\n",
        "SOAP: Can work over HTTP, SMTP, TCP, etc.\n",
        "\n",
        "7. Statefulness\n",
        "\n",
        "REST: Generally stateless – each request is independent.\n",
        "\n",
        "SOAP: Can be stateful or stateless.\n",
        "\n",
        "**8. Use Cases**\n",
        "\n",
        "REST: Used in web services, mobile apps, public APIs (e.g., Twitter, Instagram).\n",
        "\n",
        "SOAP: Used in enterprise apps, banking, payment gateways (e.g., e-commerce transactions)."
      ],
      "metadata": {
        "id": "SqTJlmKxRDlS"
      }
    }
  ]
}