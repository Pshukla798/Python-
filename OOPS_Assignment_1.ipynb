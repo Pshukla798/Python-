{
  "nbformat": 4,
  "nbformat_minor": 0,
  "metadata": {
    "colab": {
      "provenance": []
    },
    "kernelspec": {
      "name": "python3",
      "display_name": "Python 3"
    },
    "language_info": {
      "name": "python"
    }
  },
  "cells": [
    {
      "cell_type": "markdown",
      "source": [
        "Q1. Explain Class and Object with respect to Object-Oriented Programming. Give a suitable example."
      ],
      "metadata": {
        "id": "lg5WNp3QrIdD"
      }
    },
    {
      "cell_type": "markdown",
      "source": [
        "Class and Object in Object-Oriented Programming (OOP)\n",
        "1. What is a Class?\n",
        "A class is a blueprint or template for creating objects. It defines attributes (variables) and methods (functions) that describe the behavior of an object.\n",
        "\n",
        "2.  What is an Object?\n",
        "An object is an instance of a class. It contains data (attributes) and can perform actions (methods) defined in the class."
      ],
      "metadata": {
        "id": "vW0ciixpubFB"
      }
    },
    {
      "cell_type": "code",
      "source": [
        "# Defining a Class\n",
        "class Car:\n",
        "    def __init__(self, brand, model, year):\n",
        "        self.brand = brand    # Attribute\n",
        "        self.model = model    # Attribute\n",
        "        self.year = year      # Attribute\n",
        "\n",
        "    def display_info(self):   # Method\n",
        "        return f\"Car: {self.brand} {self.model}, Year: {self.year}\"\n",
        "\n",
        "# Creating Objects (Instances of Class)\n",
        "car1 = Car(\"Toyota\", \"Corolla\", 2020)\n",
        "car2 = Car(\"Honda\", \"Civic\", 2022)\n",
        "\n",
        "# Accessing Methods\n",
        "print(car1.display_info())\n",
        "print(car2.display_info())\n"
      ],
      "metadata": {
        "colab": {
          "base_uri": "https://localhost:8080/"
        },
        "id": "amV21UX5rOZD",
        "outputId": "6ebd2e2d-44a4-4227-91a5-6813f204db52"
      },
      "execution_count": 1,
      "outputs": [
        {
          "output_type": "stream",
          "name": "stdout",
          "text": [
            "Car: Toyota Corolla, Year: 2020\n",
            "Car: Honda Civic, Year: 2022\n"
          ]
        }
      ]
    },
    {
      "cell_type": "code",
      "source": [],
      "metadata": {
        "id": "qAXONqCCu3nn"
      },
      "execution_count": null,
      "outputs": []
    },
    {
      "cell_type": "markdown",
      "source": [
        "Q2. Name the four pillars of OOPs."
      ],
      "metadata": {
        "id": "ObXCGtPtu6YP"
      }
    },
    {
      "cell_type": "markdown",
      "source": [
        "without examples\n",
        "\n",
        "\n",
        "ChatGPT said:\n",
        "The four pillars of Object-Oriented Programming (OOPs) are:\n",
        "\n",
        "1. **Encapsulation**\n",
        "Encapsulation is the process of hiding internal details and restricting direct access to the object's data.\n",
        "\n",
        "It ensures that data is protected from unintended modifications.\n",
        "\n",
        "Access to data is controlled through getter and setter methods.\n",
        "\n",
        "2. **Inheritance**\n",
        "Inheritance allows a child class to acquire the properties and behaviors of a parent class.\n",
        "\n",
        "It promotes code reusability and reduces redundancy.\n",
        "\n",
        "Helps in establishing relationships between classes (e.g., parent-child hierarchy).\n",
        "\n",
        "3. **Polymorphism**\n",
        "Polymorphism means \"many forms\", where the same method or function behaves differently based on the object.\n",
        "\n",
        "It allows method overloading (same method name with different parameters) and method overriding (redefining parent class methods in the child class).\n",
        "\n",
        "It helps in dynamic method resolution and flexible code design.\n",
        "\n",
        "4. **Abstraction**\n",
        "Abstraction focuses on hiding implementation details while exposing only the essential features.\n",
        "\n",
        "It allows working with high-level concepts rather than complex underlying code.\n",
        "\n",
        "Implemented using abstract classes and interfaces in object-oriented programming."
      ],
      "metadata": {
        "id": "dKXnTTVgvrLe"
      }
    },
    {
      "cell_type": "code",
      "source": [],
      "metadata": {
        "id": "Du12Qq1wvr65"
      },
      "execution_count": null,
      "outputs": []
    },
    {
      "cell_type": "markdown",
      "source": [
        "Q3. Explain why the __init__() function is used. Give a suitable example."
      ],
      "metadata": {
        "id": "SOqh3Rk2wGnc"
      }
    },
    {
      "cell_type": "markdown",
      "source": [
        "**Ans:**\n",
        "The __init__() function is a constructor in Python that is automatically called when a new object of a class is created. It is used to initialize the attributes of the class.\n",
        "\n",
        "Key Points about __init__()\n",
        "It helps in setting up the initial state of an object.\n",
        "\n",
        "1. It is automatically executed when an object is instantiated.\n",
        "\n",
        "2. It allows passing parameters to assign values to object attributes."
      ],
      "metadata": {
        "id": "xnY-R9VawH66"
      }
    },
    {
      "cell_type": "code",
      "source": [
        "# Example:\n",
        "\n",
        "class Car:\n",
        "    def __init__(self, brand, model, year):  # Constructor method\n",
        "        self.brand = brand  # Initializing attributes\n",
        "        self.model = model\n",
        "        self.year = year\n",
        "\n",
        "    def display_info(self):\n",
        "        return f\"{self.year} {self.brand} {self.model}\"\n",
        "\n",
        "# Creating an object of the Car class\n",
        "car1 = Car(\"Toyota\", \"Corolla\", 2022)\n",
        "print(car1.display_info())  # Output: 2022 Toyota Corolla\n"
      ],
      "metadata": {
        "colab": {
          "base_uri": "https://localhost:8080/"
        },
        "id": "BS-oN5YfwKpG",
        "outputId": "927769cb-e28f-4952-958f-2b00bc1b85fa"
      },
      "execution_count": 4,
      "outputs": [
        {
          "output_type": "stream",
          "name": "stdout",
          "text": [
            "2022 Toyota Corolla\n"
          ]
        }
      ]
    },
    {
      "cell_type": "code",
      "source": [],
      "metadata": {
        "id": "Kpf1D-CJwuqw"
      },
      "execution_count": null,
      "outputs": []
    },
    {
      "cell_type": "markdown",
      "source": [
        "Q4. Why self is used in OOPs?"
      ],
      "metadata": {
        "id": "ndb144pVw3nh"
      }
    },
    {
      "cell_type": "markdown",
      "source": [
        "# **Ans**:\n",
        "In Object-Oriented Programming (OOP), self is a reference to the current instance of a class. It is used to:\n",
        "1.  **Distinguish Instance Variables**\n",
        "self allows us to refer to instance variables inside class methods.\n",
        "\n",
        "Without self, Python would not know whether a variable belongs to the instance or is just a local variable inside a method.\n",
        "\n",
        "2.  **Access Instance Methods and Attributes**\n",
        "It helps in modifying, retrieving, and working with instance attributes.\n",
        "\n",
        "Each method in a class takes self as the first parameter to operate on the instance’s attributes.\n",
        "\n",
        "3. **Differentiate Between Class and Instance Variables**\n",
        "Using self, each object maintains its own separate copy of instance variables."
      ],
      "metadata": {
        "id": "FPjQlkcJw8ep"
      }
    },
    {
      "cell_type": "code",
      "source": [],
      "metadata": {
        "id": "CR5giB6qxA4C"
      },
      "execution_count": null,
      "outputs": []
    },
    {
      "cell_type": "markdown",
      "source": [
        "Q5. What is inheritance? Give an example for each type of inheritance."
      ],
      "metadata": {
        "id": "yK2IzYZux45H"
      }
    },
    {
      "cell_type": "markdown",
      "source": [
        "Inheritance is an Object-Oriented Programming (OOP) concept that allows a child class to inherit attributes and methods from a parent class. It helps in code reusability and reduces redundancy."
      ],
      "metadata": {
        "id": "DoeOuG8cx-pl"
      }
    },
    {
      "cell_type": "code",
      "source": [
        "# Types of Inheritance in Python\n",
        "\n",
        "# Single Inheritance\n",
        "# A child class inherits from a single parent class.\n",
        "class Animal:\n",
        "    def sound(self):\n",
        "        return \"Animals make sounds\"\n",
        "\n",
        "class Dog(Animal):  # Inheriting from Animal\n",
        "    def sound(self):\n",
        "        return \"Dog barks\"\n",
        "\n",
        "dog = Dog()\n",
        "print(dog.sound())  # Output: Dog barks\n"
      ],
      "metadata": {
        "colab": {
          "base_uri": "https://localhost:8080/"
        },
        "id": "-1BnKUOpx_NH",
        "outputId": "7312a78e-b3b3-4798-9a68-c6758dc3a7e5"
      },
      "execution_count": 5,
      "outputs": [
        {
          "output_type": "stream",
          "name": "stdout",
          "text": [
            "Dog barks\n"
          ]
        }
      ]
    },
    {
      "cell_type": "code",
      "source": [
        "# Multiple Inheritance\n",
        "# A child class inherits from multiple parent classes.\n",
        "\n",
        "class Father:\n",
        "    def quality1(self):\n",
        "        return \"Father is disciplined\"\n",
        "\n",
        "class Mother:\n",
        "    def quality2(self):\n",
        "        return \"Mother is caring\"\n",
        "\n",
        "class Child(Father, Mother):  # Inheriting from both Father and Mother\n",
        "    def show_qualities(self):\n",
        "        return f\"{self.quality1()} and {self.quality2()}\"\n",
        "\n",
        "child = Child()\n",
        "print(child.show_qualities())\n",
        "# Output: Father is disciplined and Mother is caring\n"
      ],
      "metadata": {
        "colab": {
          "base_uri": "https://localhost:8080/"
        },
        "id": "ExqwKUQWzXQj",
        "outputId": "98c1e160-1c82-4602-f8c6-9b993076feb2"
      },
      "execution_count": 6,
      "outputs": [
        {
          "output_type": "stream",
          "name": "stdout",
          "text": [
            "Father is disciplined and Mother is caring\n"
          ]
        }
      ]
    },
    {
      "cell_type": "code",
      "source": [
        "# Multilevel Inheritance\n",
        "# A child class inherits from a parent class, which itself is a child of another class (Grandparent → Parent → Child).\n",
        "\n",
        "class Grandparent:\n",
        "    def grandparent_feature(self):\n",
        "        return \"Grandparent's wisdom\"\n",
        "\n",
        "class Parent(Grandparent):\n",
        "    def parent_feature(self):\n",
        "        return \"Parent's experience\"\n",
        "\n",
        "class Child(Parent):\n",
        "    def child_feature(self):\n",
        "        return \"Child's energy\"\n",
        "\n",
        "child = Child()\n",
        "print(child.grandparent_feature())  # Output: Grandparent's wisdom\n",
        "print(child.parent_feature())       # Output: Parent's experience\n",
        "print(child.child_feature())        # Output: Child's energy\n"
      ],
      "metadata": {
        "colab": {
          "base_uri": "https://localhost:8080/"
        },
        "id": "pjJDaaRCzhdZ",
        "outputId": "0412c829-a78d-46ed-cff4-39587b496585"
      },
      "execution_count": 7,
      "outputs": [
        {
          "output_type": "stream",
          "name": "stdout",
          "text": [
            "Grandparent's wisdom\n",
            "Parent's experience\n",
            "Child's energy\n"
          ]
        }
      ]
    },
    {
      "cell_type": "code",
      "source": [
        "# Hierarchical Inheritance\n",
        "# A single parent class has multiple child classes.\n",
        "\n",
        "class Vehicle:\n",
        "    def general_info(self):\n",
        "        return \"Vehicles are used for transportation\"\n",
        "\n",
        "class Car(Vehicle):  # Inheriting from Vehicle\n",
        "    def car_info(self):\n",
        "        return \"Cars have four wheels\"\n",
        "\n",
        "class Bike(Vehicle):  # Another child class\n",
        "    def bike_info(self):\n",
        "        return \"Bikes have two wheels\"\n",
        "\n",
        "car = Car()\n",
        "bike = Bike()\n",
        "print(car.general_info())  # Output: Vehicles are used for transportation\n",
        "print(car.car_info())      # Output: Cars have four wheels\n",
        "print(bike.bike_info())    # Output: Bikes have two wheels\n"
      ],
      "metadata": {
        "colab": {
          "base_uri": "https://localhost:8080/"
        },
        "id": "lU-TFBfw0fR3",
        "outputId": "5819f579-66dc-4330-eb35-1e17395afd8b"
      },
      "execution_count": 9,
      "outputs": [
        {
          "output_type": "stream",
          "name": "stdout",
          "text": [
            "Vehicles are used for transportation\n",
            "Cars have four wheels\n",
            "Bikes have two wheels\n"
          ]
        }
      ]
    },
    {
      "cell_type": "code",
      "source": [
        "# Hybrid Inheritance\n",
        "# A combination of two or more types of inheritance.\n",
        "\n",
        "class A:\n",
        "    def featureA(self):\n",
        "        return \"Feature of A\"\n",
        "\n",
        "class B(A):\n",
        "    def featureB(self):\n",
        "        return \"Feature of B\"\n",
        "\n",
        "class C(A):\n",
        "    def featureC(self):\n",
        "        return \"Feature of C\"\n",
        "\n",
        "class D(B, C):  # Combining Multiple and Hierarchical Inheritance\n",
        "    def featureD(self):\n",
        "        return \"Feature of D\"\n",
        "\n",
        "obj = D()\n",
        "print(obj.featureA())  # Output: Feature of A\n",
        "print(obj.featureB())  # Output: Feature of B\n",
        "print(obj.featureC())  # Output: Feature of C\n",
        "print(obj.featureD())  # Output: Feature of D\n"
      ],
      "metadata": {
        "colab": {
          "base_uri": "https://localhost:8080/"
        },
        "id": "-Wi-mhP60m5h",
        "outputId": "dad76e32-ebfa-4f17-c483-b23b18ac87c2"
      },
      "execution_count": 10,
      "outputs": [
        {
          "output_type": "stream",
          "name": "stdout",
          "text": [
            "Feature of A\n",
            "Feature of B\n",
            "Feature of C\n",
            "Feature of D\n"
          ]
        }
      ]
    },
    {
      "cell_type": "code",
      "source": [],
      "metadata": {
        "id": "rvndInfS0w1n"
      },
      "execution_count": null,
      "outputs": []
    }
  ]
}